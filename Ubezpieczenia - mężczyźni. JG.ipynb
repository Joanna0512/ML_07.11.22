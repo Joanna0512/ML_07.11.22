{
  "nbformat": 4,
  "nbformat_minor": 0,
  "metadata": {
    "colab": {
      "provenance": [],
      "collapsed_sections": []
    },
    "kernelspec": {
      "name": "python3",
      "display_name": "Python 3"
    },
    "language_info": {
      "name": "python"
    }
  },
  "cells": [
    {
      "cell_type": "code",
      "source": [
        "import pandas as pd\n"
      ],
      "metadata": {
        "id": "0fLABFt6__AF"
      },
      "execution_count": 1,
      "outputs": []
    },
    {
      "cell_type": "code",
      "execution_count": 69,
      "metadata": {
        "id": "qXOYWcbd_0Rd"
      },
      "outputs": [],
      "source": [
        "df=pd.read_csv('/content/insurance.csv')"
      ]
    },
    {
      "cell_type": "code",
      "source": [
        "df.head(15)"
      ],
      "metadata": {
        "colab": {
          "base_uri": "https://localhost:8080/",
          "height": 520
        },
        "id": "EMK14ySpAEoC",
        "outputId": "9f3b5db7-f3ce-435b-c2ec-d931ff3dace9"
      },
      "execution_count": 70,
      "outputs": [
        {
          "output_type": "execute_result",
          "data": {
            "text/plain": [
              "    age     sex     bmi  children smoker     region      charges\n",
              "0    19  female  27.900         0    yes  southwest  16884.92400\n",
              "1    18    male  33.770         1     no  southeast   1725.55230\n",
              "2    28    male  33.000         3     no  southeast   4449.46200\n",
              "3    33    male  22.705         0     no  northwest  21984.47061\n",
              "4    32    male  28.880         0     no  northwest   3866.85520\n",
              "5    31  female  25.740         0     no  southeast   3756.62160\n",
              "6    46  female  33.440         1     no  southeast   8240.58960\n",
              "7    37  female  27.740         3     no  northwest   7281.50560\n",
              "8    37    male  29.830         2     no  northeast   6406.41070\n",
              "9    60  female  25.840         0     no  northwest  28923.13692\n",
              "10   25    male  26.220         0     no  northeast   2721.32080\n",
              "11   62  female  26.290         0    yes  southeast  27808.72510\n",
              "12   23    male  34.400         0     no  southwest   1826.84300\n",
              "13   56  female  39.820         0     no  southeast  11090.71780\n",
              "14   27    male  42.130         0    yes  southeast  39611.75770"
            ],
            "text/html": [
              "\n",
              "  <div id=\"df-00bf8290-d0c4-42bf-bb2e-f9e6078ce36a\">\n",
              "    <div class=\"colab-df-container\">\n",
              "      <div>\n",
              "<style scoped>\n",
              "    .dataframe tbody tr th:only-of-type {\n",
              "        vertical-align: middle;\n",
              "    }\n",
              "\n",
              "    .dataframe tbody tr th {\n",
              "        vertical-align: top;\n",
              "    }\n",
              "\n",
              "    .dataframe thead th {\n",
              "        text-align: right;\n",
              "    }\n",
              "</style>\n",
              "<table border=\"1\" class=\"dataframe\">\n",
              "  <thead>\n",
              "    <tr style=\"text-align: right;\">\n",
              "      <th></th>\n",
              "      <th>age</th>\n",
              "      <th>sex</th>\n",
              "      <th>bmi</th>\n",
              "      <th>children</th>\n",
              "      <th>smoker</th>\n",
              "      <th>region</th>\n",
              "      <th>charges</th>\n",
              "    </tr>\n",
              "  </thead>\n",
              "  <tbody>\n",
              "    <tr>\n",
              "      <th>0</th>\n",
              "      <td>19</td>\n",
              "      <td>female</td>\n",
              "      <td>27.900</td>\n",
              "      <td>0</td>\n",
              "      <td>yes</td>\n",
              "      <td>southwest</td>\n",
              "      <td>16884.92400</td>\n",
              "    </tr>\n",
              "    <tr>\n",
              "      <th>1</th>\n",
              "      <td>18</td>\n",
              "      <td>male</td>\n",
              "      <td>33.770</td>\n",
              "      <td>1</td>\n",
              "      <td>no</td>\n",
              "      <td>southeast</td>\n",
              "      <td>1725.55230</td>\n",
              "    </tr>\n",
              "    <tr>\n",
              "      <th>2</th>\n",
              "      <td>28</td>\n",
              "      <td>male</td>\n",
              "      <td>33.000</td>\n",
              "      <td>3</td>\n",
              "      <td>no</td>\n",
              "      <td>southeast</td>\n",
              "      <td>4449.46200</td>\n",
              "    </tr>\n",
              "    <tr>\n",
              "      <th>3</th>\n",
              "      <td>33</td>\n",
              "      <td>male</td>\n",
              "      <td>22.705</td>\n",
              "      <td>0</td>\n",
              "      <td>no</td>\n",
              "      <td>northwest</td>\n",
              "      <td>21984.47061</td>\n",
              "    </tr>\n",
              "    <tr>\n",
              "      <th>4</th>\n",
              "      <td>32</td>\n",
              "      <td>male</td>\n",
              "      <td>28.880</td>\n",
              "      <td>0</td>\n",
              "      <td>no</td>\n",
              "      <td>northwest</td>\n",
              "      <td>3866.85520</td>\n",
              "    </tr>\n",
              "    <tr>\n",
              "      <th>5</th>\n",
              "      <td>31</td>\n",
              "      <td>female</td>\n",
              "      <td>25.740</td>\n",
              "      <td>0</td>\n",
              "      <td>no</td>\n",
              "      <td>southeast</td>\n",
              "      <td>3756.62160</td>\n",
              "    </tr>\n",
              "    <tr>\n",
              "      <th>6</th>\n",
              "      <td>46</td>\n",
              "      <td>female</td>\n",
              "      <td>33.440</td>\n",
              "      <td>1</td>\n",
              "      <td>no</td>\n",
              "      <td>southeast</td>\n",
              "      <td>8240.58960</td>\n",
              "    </tr>\n",
              "    <tr>\n",
              "      <th>7</th>\n",
              "      <td>37</td>\n",
              "      <td>female</td>\n",
              "      <td>27.740</td>\n",
              "      <td>3</td>\n",
              "      <td>no</td>\n",
              "      <td>northwest</td>\n",
              "      <td>7281.50560</td>\n",
              "    </tr>\n",
              "    <tr>\n",
              "      <th>8</th>\n",
              "      <td>37</td>\n",
              "      <td>male</td>\n",
              "      <td>29.830</td>\n",
              "      <td>2</td>\n",
              "      <td>no</td>\n",
              "      <td>northeast</td>\n",
              "      <td>6406.41070</td>\n",
              "    </tr>\n",
              "    <tr>\n",
              "      <th>9</th>\n",
              "      <td>60</td>\n",
              "      <td>female</td>\n",
              "      <td>25.840</td>\n",
              "      <td>0</td>\n",
              "      <td>no</td>\n",
              "      <td>northwest</td>\n",
              "      <td>28923.13692</td>\n",
              "    </tr>\n",
              "    <tr>\n",
              "      <th>10</th>\n",
              "      <td>25</td>\n",
              "      <td>male</td>\n",
              "      <td>26.220</td>\n",
              "      <td>0</td>\n",
              "      <td>no</td>\n",
              "      <td>northeast</td>\n",
              "      <td>2721.32080</td>\n",
              "    </tr>\n",
              "    <tr>\n",
              "      <th>11</th>\n",
              "      <td>62</td>\n",
              "      <td>female</td>\n",
              "      <td>26.290</td>\n",
              "      <td>0</td>\n",
              "      <td>yes</td>\n",
              "      <td>southeast</td>\n",
              "      <td>27808.72510</td>\n",
              "    </tr>\n",
              "    <tr>\n",
              "      <th>12</th>\n",
              "      <td>23</td>\n",
              "      <td>male</td>\n",
              "      <td>34.400</td>\n",
              "      <td>0</td>\n",
              "      <td>no</td>\n",
              "      <td>southwest</td>\n",
              "      <td>1826.84300</td>\n",
              "    </tr>\n",
              "    <tr>\n",
              "      <th>13</th>\n",
              "      <td>56</td>\n",
              "      <td>female</td>\n",
              "      <td>39.820</td>\n",
              "      <td>0</td>\n",
              "      <td>no</td>\n",
              "      <td>southeast</td>\n",
              "      <td>11090.71780</td>\n",
              "    </tr>\n",
              "    <tr>\n",
              "      <th>14</th>\n",
              "      <td>27</td>\n",
              "      <td>male</td>\n",
              "      <td>42.130</td>\n",
              "      <td>0</td>\n",
              "      <td>yes</td>\n",
              "      <td>southeast</td>\n",
              "      <td>39611.75770</td>\n",
              "    </tr>\n",
              "  </tbody>\n",
              "</table>\n",
              "</div>\n",
              "      <button class=\"colab-df-convert\" onclick=\"convertToInteractive('df-00bf8290-d0c4-42bf-bb2e-f9e6078ce36a')\"\n",
              "              title=\"Convert this dataframe to an interactive table.\"\n",
              "              style=\"display:none;\">\n",
              "        \n",
              "  <svg xmlns=\"http://www.w3.org/2000/svg\" height=\"24px\"viewBox=\"0 0 24 24\"\n",
              "       width=\"24px\">\n",
              "    <path d=\"M0 0h24v24H0V0z\" fill=\"none\"/>\n",
              "    <path d=\"M18.56 5.44l.94 2.06.94-2.06 2.06-.94-2.06-.94-.94-2.06-.94 2.06-2.06.94zm-11 1L8.5 8.5l.94-2.06 2.06-.94-2.06-.94L8.5 2.5l-.94 2.06-2.06.94zm10 10l.94 2.06.94-2.06 2.06-.94-2.06-.94-.94-2.06-.94 2.06-2.06.94z\"/><path d=\"M17.41 7.96l-1.37-1.37c-.4-.4-.92-.59-1.43-.59-.52 0-1.04.2-1.43.59L10.3 9.45l-7.72 7.72c-.78.78-.78 2.05 0 2.83L4 21.41c.39.39.9.59 1.41.59.51 0 1.02-.2 1.41-.59l7.78-7.78 2.81-2.81c.8-.78.8-2.07 0-2.86zM5.41 20L4 18.59l7.72-7.72 1.47 1.35L5.41 20z\"/>\n",
              "  </svg>\n",
              "      </button>\n",
              "      \n",
              "  <style>\n",
              "    .colab-df-container {\n",
              "      display:flex;\n",
              "      flex-wrap:wrap;\n",
              "      gap: 12px;\n",
              "    }\n",
              "\n",
              "    .colab-df-convert {\n",
              "      background-color: #E8F0FE;\n",
              "      border: none;\n",
              "      border-radius: 50%;\n",
              "      cursor: pointer;\n",
              "      display: none;\n",
              "      fill: #1967D2;\n",
              "      height: 32px;\n",
              "      padding: 0 0 0 0;\n",
              "      width: 32px;\n",
              "    }\n",
              "\n",
              "    .colab-df-convert:hover {\n",
              "      background-color: #E2EBFA;\n",
              "      box-shadow: 0px 1px 2px rgba(60, 64, 67, 0.3), 0px 1px 3px 1px rgba(60, 64, 67, 0.15);\n",
              "      fill: #174EA6;\n",
              "    }\n",
              "\n",
              "    [theme=dark] .colab-df-convert {\n",
              "      background-color: #3B4455;\n",
              "      fill: #D2E3FC;\n",
              "    }\n",
              "\n",
              "    [theme=dark] .colab-df-convert:hover {\n",
              "      background-color: #434B5C;\n",
              "      box-shadow: 0px 1px 3px 1px rgba(0, 0, 0, 0.15);\n",
              "      filter: drop-shadow(0px 1px 2px rgba(0, 0, 0, 0.3));\n",
              "      fill: #FFFFFF;\n",
              "    }\n",
              "  </style>\n",
              "\n",
              "      <script>\n",
              "        const buttonEl =\n",
              "          document.querySelector('#df-00bf8290-d0c4-42bf-bb2e-f9e6078ce36a button.colab-df-convert');\n",
              "        buttonEl.style.display =\n",
              "          google.colab.kernel.accessAllowed ? 'block' : 'none';\n",
              "\n",
              "        async function convertToInteractive(key) {\n",
              "          const element = document.querySelector('#df-00bf8290-d0c4-42bf-bb2e-f9e6078ce36a');\n",
              "          const dataTable =\n",
              "            await google.colab.kernel.invokeFunction('convertToInteractive',\n",
              "                                                     [key], {});\n",
              "          if (!dataTable) return;\n",
              "\n",
              "          const docLinkHtml = 'Like what you see? Visit the ' +\n",
              "            '<a target=\"_blank\" href=https://colab.research.google.com/notebooks/data_table.ipynb>data table notebook</a>'\n",
              "            + ' to learn more about interactive tables.';\n",
              "          element.innerHTML = '';\n",
              "          dataTable['output_type'] = 'display_data';\n",
              "          await google.colab.output.renderOutput(dataTable, element);\n",
              "          const docLink = document.createElement('div');\n",
              "          docLink.innerHTML = docLinkHtml;\n",
              "          element.appendChild(docLink);\n",
              "        }\n",
              "      </script>\n",
              "    </div>\n",
              "  </div>\n",
              "  "
            ]
          },
          "metadata": {},
          "execution_count": 70
        }
      ]
    },
    {
      "cell_type": "markdown",
      "source": [
        "#Podział na płeć.\n",
        "Analiza danych o płci męskiej\n"
      ],
      "metadata": {
        "id": "KGUH_vRgA0wE"
      }
    },
    {
      "cell_type": "code",
      "source": [
        "df_male=df[df['sex']=='male']"
      ],
      "metadata": {
        "id": "JxsiERYBADTL"
      },
      "execution_count": 86,
      "outputs": []
    },
    {
      "cell_type": "code",
      "source": [
        "df_male"
      ],
      "metadata": {
        "colab": {
          "base_uri": "https://localhost:8080/",
          "height": 424
        },
        "id": "U2DfBDJ6BIac",
        "outputId": "885b154b-946b-4a6a-c800-5528917e2c38"
      },
      "execution_count": 87,
      "outputs": [
        {
          "output_type": "execute_result",
          "data": {
            "text/plain": [
              "      age   sex     bmi  children smoker     region      charges\n",
              "1      18  male  33.770         1     no  southeast   1725.55230\n",
              "2      28  male  33.000         3     no  southeast   4449.46200\n",
              "3      33  male  22.705         0     no  northwest  21984.47061\n",
              "4      32  male  28.880         0     no  northwest   3866.85520\n",
              "8      37  male  29.830         2     no  northeast   6406.41070\n",
              "...   ...   ...     ...       ...    ...        ...          ...\n",
              "1324   31  male  25.935         1     no  northwest   4239.89265\n",
              "1325   61  male  33.535         0     no  northeast  13143.33665\n",
              "1327   51  male  30.030         1     no  southeast   9377.90470\n",
              "1329   52  male  38.600         2     no  southwest  10325.20600\n",
              "1333   50  male  30.970         3     no  northwest  10600.54830\n",
              "\n",
              "[676 rows x 7 columns]"
            ],
            "text/html": [
              "\n",
              "  <div id=\"df-64160021-18fb-4589-a5f1-aa39269822c6\">\n",
              "    <div class=\"colab-df-container\">\n",
              "      <div>\n",
              "<style scoped>\n",
              "    .dataframe tbody tr th:only-of-type {\n",
              "        vertical-align: middle;\n",
              "    }\n",
              "\n",
              "    .dataframe tbody tr th {\n",
              "        vertical-align: top;\n",
              "    }\n",
              "\n",
              "    .dataframe thead th {\n",
              "        text-align: right;\n",
              "    }\n",
              "</style>\n",
              "<table border=\"1\" class=\"dataframe\">\n",
              "  <thead>\n",
              "    <tr style=\"text-align: right;\">\n",
              "      <th></th>\n",
              "      <th>age</th>\n",
              "      <th>sex</th>\n",
              "      <th>bmi</th>\n",
              "      <th>children</th>\n",
              "      <th>smoker</th>\n",
              "      <th>region</th>\n",
              "      <th>charges</th>\n",
              "    </tr>\n",
              "  </thead>\n",
              "  <tbody>\n",
              "    <tr>\n",
              "      <th>1</th>\n",
              "      <td>18</td>\n",
              "      <td>male</td>\n",
              "      <td>33.770</td>\n",
              "      <td>1</td>\n",
              "      <td>no</td>\n",
              "      <td>southeast</td>\n",
              "      <td>1725.55230</td>\n",
              "    </tr>\n",
              "    <tr>\n",
              "      <th>2</th>\n",
              "      <td>28</td>\n",
              "      <td>male</td>\n",
              "      <td>33.000</td>\n",
              "      <td>3</td>\n",
              "      <td>no</td>\n",
              "      <td>southeast</td>\n",
              "      <td>4449.46200</td>\n",
              "    </tr>\n",
              "    <tr>\n",
              "      <th>3</th>\n",
              "      <td>33</td>\n",
              "      <td>male</td>\n",
              "      <td>22.705</td>\n",
              "      <td>0</td>\n",
              "      <td>no</td>\n",
              "      <td>northwest</td>\n",
              "      <td>21984.47061</td>\n",
              "    </tr>\n",
              "    <tr>\n",
              "      <th>4</th>\n",
              "      <td>32</td>\n",
              "      <td>male</td>\n",
              "      <td>28.880</td>\n",
              "      <td>0</td>\n",
              "      <td>no</td>\n",
              "      <td>northwest</td>\n",
              "      <td>3866.85520</td>\n",
              "    </tr>\n",
              "    <tr>\n",
              "      <th>8</th>\n",
              "      <td>37</td>\n",
              "      <td>male</td>\n",
              "      <td>29.830</td>\n",
              "      <td>2</td>\n",
              "      <td>no</td>\n",
              "      <td>northeast</td>\n",
              "      <td>6406.41070</td>\n",
              "    </tr>\n",
              "    <tr>\n",
              "      <th>...</th>\n",
              "      <td>...</td>\n",
              "      <td>...</td>\n",
              "      <td>...</td>\n",
              "      <td>...</td>\n",
              "      <td>...</td>\n",
              "      <td>...</td>\n",
              "      <td>...</td>\n",
              "    </tr>\n",
              "    <tr>\n",
              "      <th>1324</th>\n",
              "      <td>31</td>\n",
              "      <td>male</td>\n",
              "      <td>25.935</td>\n",
              "      <td>1</td>\n",
              "      <td>no</td>\n",
              "      <td>northwest</td>\n",
              "      <td>4239.89265</td>\n",
              "    </tr>\n",
              "    <tr>\n",
              "      <th>1325</th>\n",
              "      <td>61</td>\n",
              "      <td>male</td>\n",
              "      <td>33.535</td>\n",
              "      <td>0</td>\n",
              "      <td>no</td>\n",
              "      <td>northeast</td>\n",
              "      <td>13143.33665</td>\n",
              "    </tr>\n",
              "    <tr>\n",
              "      <th>1327</th>\n",
              "      <td>51</td>\n",
              "      <td>male</td>\n",
              "      <td>30.030</td>\n",
              "      <td>1</td>\n",
              "      <td>no</td>\n",
              "      <td>southeast</td>\n",
              "      <td>9377.90470</td>\n",
              "    </tr>\n",
              "    <tr>\n",
              "      <th>1329</th>\n",
              "      <td>52</td>\n",
              "      <td>male</td>\n",
              "      <td>38.600</td>\n",
              "      <td>2</td>\n",
              "      <td>no</td>\n",
              "      <td>southwest</td>\n",
              "      <td>10325.20600</td>\n",
              "    </tr>\n",
              "    <tr>\n",
              "      <th>1333</th>\n",
              "      <td>50</td>\n",
              "      <td>male</td>\n",
              "      <td>30.970</td>\n",
              "      <td>3</td>\n",
              "      <td>no</td>\n",
              "      <td>northwest</td>\n",
              "      <td>10600.54830</td>\n",
              "    </tr>\n",
              "  </tbody>\n",
              "</table>\n",
              "<p>676 rows × 7 columns</p>\n",
              "</div>\n",
              "      <button class=\"colab-df-convert\" onclick=\"convertToInteractive('df-64160021-18fb-4589-a5f1-aa39269822c6')\"\n",
              "              title=\"Convert this dataframe to an interactive table.\"\n",
              "              style=\"display:none;\">\n",
              "        \n",
              "  <svg xmlns=\"http://www.w3.org/2000/svg\" height=\"24px\"viewBox=\"0 0 24 24\"\n",
              "       width=\"24px\">\n",
              "    <path d=\"M0 0h24v24H0V0z\" fill=\"none\"/>\n",
              "    <path d=\"M18.56 5.44l.94 2.06.94-2.06 2.06-.94-2.06-.94-.94-2.06-.94 2.06-2.06.94zm-11 1L8.5 8.5l.94-2.06 2.06-.94-2.06-.94L8.5 2.5l-.94 2.06-2.06.94zm10 10l.94 2.06.94-2.06 2.06-.94-2.06-.94-.94-2.06-.94 2.06-2.06.94z\"/><path d=\"M17.41 7.96l-1.37-1.37c-.4-.4-.92-.59-1.43-.59-.52 0-1.04.2-1.43.59L10.3 9.45l-7.72 7.72c-.78.78-.78 2.05 0 2.83L4 21.41c.39.39.9.59 1.41.59.51 0 1.02-.2 1.41-.59l7.78-7.78 2.81-2.81c.8-.78.8-2.07 0-2.86zM5.41 20L4 18.59l7.72-7.72 1.47 1.35L5.41 20z\"/>\n",
              "  </svg>\n",
              "      </button>\n",
              "      \n",
              "  <style>\n",
              "    .colab-df-container {\n",
              "      display:flex;\n",
              "      flex-wrap:wrap;\n",
              "      gap: 12px;\n",
              "    }\n",
              "\n",
              "    .colab-df-convert {\n",
              "      background-color: #E8F0FE;\n",
              "      border: none;\n",
              "      border-radius: 50%;\n",
              "      cursor: pointer;\n",
              "      display: none;\n",
              "      fill: #1967D2;\n",
              "      height: 32px;\n",
              "      padding: 0 0 0 0;\n",
              "      width: 32px;\n",
              "    }\n",
              "\n",
              "    .colab-df-convert:hover {\n",
              "      background-color: #E2EBFA;\n",
              "      box-shadow: 0px 1px 2px rgba(60, 64, 67, 0.3), 0px 1px 3px 1px rgba(60, 64, 67, 0.15);\n",
              "      fill: #174EA6;\n",
              "    }\n",
              "\n",
              "    [theme=dark] .colab-df-convert {\n",
              "      background-color: #3B4455;\n",
              "      fill: #D2E3FC;\n",
              "    }\n",
              "\n",
              "    [theme=dark] .colab-df-convert:hover {\n",
              "      background-color: #434B5C;\n",
              "      box-shadow: 0px 1px 3px 1px rgba(0, 0, 0, 0.15);\n",
              "      filter: drop-shadow(0px 1px 2px rgba(0, 0, 0, 0.3));\n",
              "      fill: #FFFFFF;\n",
              "    }\n",
              "  </style>\n",
              "\n",
              "      <script>\n",
              "        const buttonEl =\n",
              "          document.querySelector('#df-64160021-18fb-4589-a5f1-aa39269822c6 button.colab-df-convert');\n",
              "        buttonEl.style.display =\n",
              "          google.colab.kernel.accessAllowed ? 'block' : 'none';\n",
              "\n",
              "        async function convertToInteractive(key) {\n",
              "          const element = document.querySelector('#df-64160021-18fb-4589-a5f1-aa39269822c6');\n",
              "          const dataTable =\n",
              "            await google.colab.kernel.invokeFunction('convertToInteractive',\n",
              "                                                     [key], {});\n",
              "          if (!dataTable) return;\n",
              "\n",
              "          const docLinkHtml = 'Like what you see? Visit the ' +\n",
              "            '<a target=\"_blank\" href=https://colab.research.google.com/notebooks/data_table.ipynb>data table notebook</a>'\n",
              "            + ' to learn more about interactive tables.';\n",
              "          element.innerHTML = '';\n",
              "          dataTable['output_type'] = 'display_data';\n",
              "          await google.colab.output.renderOutput(dataTable, element);\n",
              "          const docLink = document.createElement('div');\n",
              "          docLink.innerHTML = docLinkHtml;\n",
              "          element.appendChild(docLink);\n",
              "        }\n",
              "      </script>\n",
              "    </div>\n",
              "  </div>\n",
              "  "
            ]
          },
          "metadata": {},
          "execution_count": 87
        }
      ]
    },
    {
      "cell_type": "code",
      "source": [
        "df_male.info()"
      ],
      "metadata": {
        "colab": {
          "base_uri": "https://localhost:8080/"
        },
        "id": "VzOFScNSBLdp",
        "outputId": "7841ae07-2963-480f-a6b6-bf13eb5437f1"
      },
      "execution_count": 88,
      "outputs": [
        {
          "output_type": "stream",
          "name": "stdout",
          "text": [
            "<class 'pandas.core.frame.DataFrame'>\n",
            "Int64Index: 676 entries, 1 to 1333\n",
            "Data columns (total 7 columns):\n",
            " #   Column    Non-Null Count  Dtype  \n",
            "---  ------    --------------  -----  \n",
            " 0   age       676 non-null    int64  \n",
            " 1   sex       676 non-null    object \n",
            " 2   bmi       676 non-null    float64\n",
            " 3   children  676 non-null    int64  \n",
            " 4   smoker    676 non-null    object \n",
            " 5   region    676 non-null    object \n",
            " 6   charges   676 non-null    float64\n",
            "dtypes: float64(2), int64(2), object(3)\n",
            "memory usage: 42.2+ KB\n"
          ]
        }
      ]
    },
    {
      "cell_type": "code",
      "source": [
        "set(df_male['region'])"
      ],
      "metadata": {
        "colab": {
          "base_uri": "https://localhost:8080/"
        },
        "id": "nn5PPiSNB1fl",
        "outputId": "47acd016-23b5-49c9-e267-cb7de6816593"
      },
      "execution_count": 89,
      "outputs": [
        {
          "output_type": "execute_result",
          "data": {
            "text/plain": [
              "{'northeast', 'northwest', 'southeast', 'southwest'}"
            ]
          },
          "metadata": {},
          "execution_count": 89
        }
      ]
    },
    {
      "cell_type": "code",
      "source": [
        "df_male.describe()"
      ],
      "metadata": {
        "colab": {
          "base_uri": "https://localhost:8080/",
          "height": 300
        },
        "id": "QgHvYzjuCF0K",
        "outputId": "726b1e29-5517-4ad5-e7d5-1f2e2ed095bc"
      },
      "execution_count": 90,
      "outputs": [
        {
          "output_type": "execute_result",
          "data": {
            "text/plain": [
              "              age         bmi    children       charges\n",
              "count  676.000000  676.000000  676.000000    676.000000\n",
              "mean    38.917160   30.943129    1.115385  13956.751178\n",
              "std     14.050141    6.140435    1.218986  12971.025915\n",
              "min     18.000000   15.960000    0.000000   1121.873900\n",
              "25%     26.000000   26.410000    0.000000   4619.134000\n",
              "50%     39.000000   30.687500    1.000000   9369.615750\n",
              "75%     51.000000   34.992500    2.000000  18989.590250\n",
              "max     64.000000   53.130000    5.000000  62592.873090"
            ],
            "text/html": [
              "\n",
              "  <div id=\"df-d2950047-15d4-4840-9521-19ec6202da0d\">\n",
              "    <div class=\"colab-df-container\">\n",
              "      <div>\n",
              "<style scoped>\n",
              "    .dataframe tbody tr th:only-of-type {\n",
              "        vertical-align: middle;\n",
              "    }\n",
              "\n",
              "    .dataframe tbody tr th {\n",
              "        vertical-align: top;\n",
              "    }\n",
              "\n",
              "    .dataframe thead th {\n",
              "        text-align: right;\n",
              "    }\n",
              "</style>\n",
              "<table border=\"1\" class=\"dataframe\">\n",
              "  <thead>\n",
              "    <tr style=\"text-align: right;\">\n",
              "      <th></th>\n",
              "      <th>age</th>\n",
              "      <th>bmi</th>\n",
              "      <th>children</th>\n",
              "      <th>charges</th>\n",
              "    </tr>\n",
              "  </thead>\n",
              "  <tbody>\n",
              "    <tr>\n",
              "      <th>count</th>\n",
              "      <td>676.000000</td>\n",
              "      <td>676.000000</td>\n",
              "      <td>676.000000</td>\n",
              "      <td>676.000000</td>\n",
              "    </tr>\n",
              "    <tr>\n",
              "      <th>mean</th>\n",
              "      <td>38.917160</td>\n",
              "      <td>30.943129</td>\n",
              "      <td>1.115385</td>\n",
              "      <td>13956.751178</td>\n",
              "    </tr>\n",
              "    <tr>\n",
              "      <th>std</th>\n",
              "      <td>14.050141</td>\n",
              "      <td>6.140435</td>\n",
              "      <td>1.218986</td>\n",
              "      <td>12971.025915</td>\n",
              "    </tr>\n",
              "    <tr>\n",
              "      <th>min</th>\n",
              "      <td>18.000000</td>\n",
              "      <td>15.960000</td>\n",
              "      <td>0.000000</td>\n",
              "      <td>1121.873900</td>\n",
              "    </tr>\n",
              "    <tr>\n",
              "      <th>25%</th>\n",
              "      <td>26.000000</td>\n",
              "      <td>26.410000</td>\n",
              "      <td>0.000000</td>\n",
              "      <td>4619.134000</td>\n",
              "    </tr>\n",
              "    <tr>\n",
              "      <th>50%</th>\n",
              "      <td>39.000000</td>\n",
              "      <td>30.687500</td>\n",
              "      <td>1.000000</td>\n",
              "      <td>9369.615750</td>\n",
              "    </tr>\n",
              "    <tr>\n",
              "      <th>75%</th>\n",
              "      <td>51.000000</td>\n",
              "      <td>34.992500</td>\n",
              "      <td>2.000000</td>\n",
              "      <td>18989.590250</td>\n",
              "    </tr>\n",
              "    <tr>\n",
              "      <th>max</th>\n",
              "      <td>64.000000</td>\n",
              "      <td>53.130000</td>\n",
              "      <td>5.000000</td>\n",
              "      <td>62592.873090</td>\n",
              "    </tr>\n",
              "  </tbody>\n",
              "</table>\n",
              "</div>\n",
              "      <button class=\"colab-df-convert\" onclick=\"convertToInteractive('df-d2950047-15d4-4840-9521-19ec6202da0d')\"\n",
              "              title=\"Convert this dataframe to an interactive table.\"\n",
              "              style=\"display:none;\">\n",
              "        \n",
              "  <svg xmlns=\"http://www.w3.org/2000/svg\" height=\"24px\"viewBox=\"0 0 24 24\"\n",
              "       width=\"24px\">\n",
              "    <path d=\"M0 0h24v24H0V0z\" fill=\"none\"/>\n",
              "    <path d=\"M18.56 5.44l.94 2.06.94-2.06 2.06-.94-2.06-.94-.94-2.06-.94 2.06-2.06.94zm-11 1L8.5 8.5l.94-2.06 2.06-.94-2.06-.94L8.5 2.5l-.94 2.06-2.06.94zm10 10l.94 2.06.94-2.06 2.06-.94-2.06-.94-.94-2.06-.94 2.06-2.06.94z\"/><path d=\"M17.41 7.96l-1.37-1.37c-.4-.4-.92-.59-1.43-.59-.52 0-1.04.2-1.43.59L10.3 9.45l-7.72 7.72c-.78.78-.78 2.05 0 2.83L4 21.41c.39.39.9.59 1.41.59.51 0 1.02-.2 1.41-.59l7.78-7.78 2.81-2.81c.8-.78.8-2.07 0-2.86zM5.41 20L4 18.59l7.72-7.72 1.47 1.35L5.41 20z\"/>\n",
              "  </svg>\n",
              "      </button>\n",
              "      \n",
              "  <style>\n",
              "    .colab-df-container {\n",
              "      display:flex;\n",
              "      flex-wrap:wrap;\n",
              "      gap: 12px;\n",
              "    }\n",
              "\n",
              "    .colab-df-convert {\n",
              "      background-color: #E8F0FE;\n",
              "      border: none;\n",
              "      border-radius: 50%;\n",
              "      cursor: pointer;\n",
              "      display: none;\n",
              "      fill: #1967D2;\n",
              "      height: 32px;\n",
              "      padding: 0 0 0 0;\n",
              "      width: 32px;\n",
              "    }\n",
              "\n",
              "    .colab-df-convert:hover {\n",
              "      background-color: #E2EBFA;\n",
              "      box-shadow: 0px 1px 2px rgba(60, 64, 67, 0.3), 0px 1px 3px 1px rgba(60, 64, 67, 0.15);\n",
              "      fill: #174EA6;\n",
              "    }\n",
              "\n",
              "    [theme=dark] .colab-df-convert {\n",
              "      background-color: #3B4455;\n",
              "      fill: #D2E3FC;\n",
              "    }\n",
              "\n",
              "    [theme=dark] .colab-df-convert:hover {\n",
              "      background-color: #434B5C;\n",
              "      box-shadow: 0px 1px 3px 1px rgba(0, 0, 0, 0.15);\n",
              "      filter: drop-shadow(0px 1px 2px rgba(0, 0, 0, 0.3));\n",
              "      fill: #FFFFFF;\n",
              "    }\n",
              "  </style>\n",
              "\n",
              "      <script>\n",
              "        const buttonEl =\n",
              "          document.querySelector('#df-d2950047-15d4-4840-9521-19ec6202da0d button.colab-df-convert');\n",
              "        buttonEl.style.display =\n",
              "          google.colab.kernel.accessAllowed ? 'block' : 'none';\n",
              "\n",
              "        async function convertToInteractive(key) {\n",
              "          const element = document.querySelector('#df-d2950047-15d4-4840-9521-19ec6202da0d');\n",
              "          const dataTable =\n",
              "            await google.colab.kernel.invokeFunction('convertToInteractive',\n",
              "                                                     [key], {});\n",
              "          if (!dataTable) return;\n",
              "\n",
              "          const docLinkHtml = 'Like what you see? Visit the ' +\n",
              "            '<a target=\"_blank\" href=https://colab.research.google.com/notebooks/data_table.ipynb>data table notebook</a>'\n",
              "            + ' to learn more about interactive tables.';\n",
              "          element.innerHTML = '';\n",
              "          dataTable['output_type'] = 'display_data';\n",
              "          await google.colab.output.renderOutput(dataTable, element);\n",
              "          const docLink = document.createElement('div');\n",
              "          docLink.innerHTML = docLinkHtml;\n",
              "          element.appendChild(docLink);\n",
              "        }\n",
              "      </script>\n",
              "    </div>\n",
              "  </div>\n",
              "  "
            ]
          },
          "metadata": {},
          "execution_count": 90
        }
      ]
    },
    {
      "cell_type": "markdown",
      "source": [
        "#Zmiana typów danych w kolumjnie 'Smoker' z object na float"
      ],
      "metadata": {
        "id": "NuoXygVgpTuM"
      }
    },
    {
      "cell_type": "code",
      "source": [
        "df_male['smoker'] = df_male['smoker'].replace({'yes': 1, 'no': 0})"
      ],
      "metadata": {
        "colab": {
          "base_uri": "https://localhost:8080/"
        },
        "id": "Ix_tD17_DLcG",
        "outputId": "f3a33eec-208f-4e9b-b778-17ca3ed4a3ce"
      },
      "execution_count": 91,
      "outputs": [
        {
          "output_type": "stream",
          "name": "stderr",
          "text": [
            "/usr/local/lib/python3.7/dist-packages/ipykernel_launcher.py:1: SettingWithCopyWarning:\n",
            "\n",
            "\n",
            "A value is trying to be set on a copy of a slice from a DataFrame.\n",
            "Try using .loc[row_indexer,col_indexer] = value instead\n",
            "\n",
            "See the caveats in the documentation: https://pandas.pydata.org/pandas-docs/stable/user_guide/indexing.html#returning-a-view-versus-a-copy\n",
            "\n"
          ]
        }
      ]
    },
    {
      "cell_type": "code",
      "source": [
        "df_male['smoker']=df_male['smoker'].astype(float)"
      ],
      "metadata": {
        "colab": {
          "base_uri": "https://localhost:8080/"
        },
        "id": "qDm8YB38pifk",
        "outputId": "71ff3738-475e-47d3-bfcf-b921b028b3f9"
      },
      "execution_count": 92,
      "outputs": [
        {
          "output_type": "stream",
          "name": "stderr",
          "text": [
            "/usr/local/lib/python3.7/dist-packages/ipykernel_launcher.py:1: SettingWithCopyWarning:\n",
            "\n",
            "\n",
            "A value is trying to be set on a copy of a slice from a DataFrame.\n",
            "Try using .loc[row_indexer,col_indexer] = value instead\n",
            "\n",
            "See the caveats in the documentation: https://pandas.pydata.org/pandas-docs/stable/user_guide/indexing.html#returning-a-view-versus-a-copy\n",
            "\n"
          ]
        }
      ]
    },
    {
      "cell_type": "code",
      "source": [
        "df_male.info()"
      ],
      "metadata": {
        "colab": {
          "base_uri": "https://localhost:8080/"
        },
        "id": "vXVCF55jp290",
        "outputId": "433c2b7a-b121-4b11-eda9-f5198f3b92b9"
      },
      "execution_count": 93,
      "outputs": [
        {
          "output_type": "stream",
          "name": "stdout",
          "text": [
            "<class 'pandas.core.frame.DataFrame'>\n",
            "Int64Index: 676 entries, 1 to 1333\n",
            "Data columns (total 7 columns):\n",
            " #   Column    Non-Null Count  Dtype  \n",
            "---  ------    --------------  -----  \n",
            " 0   age       676 non-null    int64  \n",
            " 1   sex       676 non-null    object \n",
            " 2   bmi       676 non-null    float64\n",
            " 3   children  676 non-null    int64  \n",
            " 4   smoker    676 non-null    float64\n",
            " 5   region    676 non-null    object \n",
            " 6   charges   676 non-null    float64\n",
            "dtypes: float64(3), int64(2), object(2)\n",
            "memory usage: 42.2+ KB\n"
          ]
        }
      ]
    },
    {
      "cell_type": "code",
      "source": [
        "df_male.head()"
      ],
      "metadata": {
        "colab": {
          "base_uri": "https://localhost:8080/",
          "height": 206
        },
        "id": "kxE1-eYcDOok",
        "outputId": "ef73ada2-b96b-499b-bcd0-53c36859b252"
      },
      "execution_count": 94,
      "outputs": [
        {
          "output_type": "execute_result",
          "data": {
            "text/plain": [
              "   age   sex     bmi  children  smoker     region      charges\n",
              "1   18  male  33.770         1     0.0  southeast   1725.55230\n",
              "2   28  male  33.000         3     0.0  southeast   4449.46200\n",
              "3   33  male  22.705         0     0.0  northwest  21984.47061\n",
              "4   32  male  28.880         0     0.0  northwest   3866.85520\n",
              "8   37  male  29.830         2     0.0  northeast   6406.41070"
            ],
            "text/html": [
              "\n",
              "  <div id=\"df-a84879f4-c825-4448-9215-7536bffc0ad4\">\n",
              "    <div class=\"colab-df-container\">\n",
              "      <div>\n",
              "<style scoped>\n",
              "    .dataframe tbody tr th:only-of-type {\n",
              "        vertical-align: middle;\n",
              "    }\n",
              "\n",
              "    .dataframe tbody tr th {\n",
              "        vertical-align: top;\n",
              "    }\n",
              "\n",
              "    .dataframe thead th {\n",
              "        text-align: right;\n",
              "    }\n",
              "</style>\n",
              "<table border=\"1\" class=\"dataframe\">\n",
              "  <thead>\n",
              "    <tr style=\"text-align: right;\">\n",
              "      <th></th>\n",
              "      <th>age</th>\n",
              "      <th>sex</th>\n",
              "      <th>bmi</th>\n",
              "      <th>children</th>\n",
              "      <th>smoker</th>\n",
              "      <th>region</th>\n",
              "      <th>charges</th>\n",
              "    </tr>\n",
              "  </thead>\n",
              "  <tbody>\n",
              "    <tr>\n",
              "      <th>1</th>\n",
              "      <td>18</td>\n",
              "      <td>male</td>\n",
              "      <td>33.770</td>\n",
              "      <td>1</td>\n",
              "      <td>0.0</td>\n",
              "      <td>southeast</td>\n",
              "      <td>1725.55230</td>\n",
              "    </tr>\n",
              "    <tr>\n",
              "      <th>2</th>\n",
              "      <td>28</td>\n",
              "      <td>male</td>\n",
              "      <td>33.000</td>\n",
              "      <td>3</td>\n",
              "      <td>0.0</td>\n",
              "      <td>southeast</td>\n",
              "      <td>4449.46200</td>\n",
              "    </tr>\n",
              "    <tr>\n",
              "      <th>3</th>\n",
              "      <td>33</td>\n",
              "      <td>male</td>\n",
              "      <td>22.705</td>\n",
              "      <td>0</td>\n",
              "      <td>0.0</td>\n",
              "      <td>northwest</td>\n",
              "      <td>21984.47061</td>\n",
              "    </tr>\n",
              "    <tr>\n",
              "      <th>4</th>\n",
              "      <td>32</td>\n",
              "      <td>male</td>\n",
              "      <td>28.880</td>\n",
              "      <td>0</td>\n",
              "      <td>0.0</td>\n",
              "      <td>northwest</td>\n",
              "      <td>3866.85520</td>\n",
              "    </tr>\n",
              "    <tr>\n",
              "      <th>8</th>\n",
              "      <td>37</td>\n",
              "      <td>male</td>\n",
              "      <td>29.830</td>\n",
              "      <td>2</td>\n",
              "      <td>0.0</td>\n",
              "      <td>northeast</td>\n",
              "      <td>6406.41070</td>\n",
              "    </tr>\n",
              "  </tbody>\n",
              "</table>\n",
              "</div>\n",
              "      <button class=\"colab-df-convert\" onclick=\"convertToInteractive('df-a84879f4-c825-4448-9215-7536bffc0ad4')\"\n",
              "              title=\"Convert this dataframe to an interactive table.\"\n",
              "              style=\"display:none;\">\n",
              "        \n",
              "  <svg xmlns=\"http://www.w3.org/2000/svg\" height=\"24px\"viewBox=\"0 0 24 24\"\n",
              "       width=\"24px\">\n",
              "    <path d=\"M0 0h24v24H0V0z\" fill=\"none\"/>\n",
              "    <path d=\"M18.56 5.44l.94 2.06.94-2.06 2.06-.94-2.06-.94-.94-2.06-.94 2.06-2.06.94zm-11 1L8.5 8.5l.94-2.06 2.06-.94-2.06-.94L8.5 2.5l-.94 2.06-2.06.94zm10 10l.94 2.06.94-2.06 2.06-.94-2.06-.94-.94-2.06-.94 2.06-2.06.94z\"/><path d=\"M17.41 7.96l-1.37-1.37c-.4-.4-.92-.59-1.43-.59-.52 0-1.04.2-1.43.59L10.3 9.45l-7.72 7.72c-.78.78-.78 2.05 0 2.83L4 21.41c.39.39.9.59 1.41.59.51 0 1.02-.2 1.41-.59l7.78-7.78 2.81-2.81c.8-.78.8-2.07 0-2.86zM5.41 20L4 18.59l7.72-7.72 1.47 1.35L5.41 20z\"/>\n",
              "  </svg>\n",
              "      </button>\n",
              "      \n",
              "  <style>\n",
              "    .colab-df-container {\n",
              "      display:flex;\n",
              "      flex-wrap:wrap;\n",
              "      gap: 12px;\n",
              "    }\n",
              "\n",
              "    .colab-df-convert {\n",
              "      background-color: #E8F0FE;\n",
              "      border: none;\n",
              "      border-radius: 50%;\n",
              "      cursor: pointer;\n",
              "      display: none;\n",
              "      fill: #1967D2;\n",
              "      height: 32px;\n",
              "      padding: 0 0 0 0;\n",
              "      width: 32px;\n",
              "    }\n",
              "\n",
              "    .colab-df-convert:hover {\n",
              "      background-color: #E2EBFA;\n",
              "      box-shadow: 0px 1px 2px rgba(60, 64, 67, 0.3), 0px 1px 3px 1px rgba(60, 64, 67, 0.15);\n",
              "      fill: #174EA6;\n",
              "    }\n",
              "\n",
              "    [theme=dark] .colab-df-convert {\n",
              "      background-color: #3B4455;\n",
              "      fill: #D2E3FC;\n",
              "    }\n",
              "\n",
              "    [theme=dark] .colab-df-convert:hover {\n",
              "      background-color: #434B5C;\n",
              "      box-shadow: 0px 1px 3px 1px rgba(0, 0, 0, 0.15);\n",
              "      filter: drop-shadow(0px 1px 2px rgba(0, 0, 0, 0.3));\n",
              "      fill: #FFFFFF;\n",
              "    }\n",
              "  </style>\n",
              "\n",
              "      <script>\n",
              "        const buttonEl =\n",
              "          document.querySelector('#df-a84879f4-c825-4448-9215-7536bffc0ad4 button.colab-df-convert');\n",
              "        buttonEl.style.display =\n",
              "          google.colab.kernel.accessAllowed ? 'block' : 'none';\n",
              "\n",
              "        async function convertToInteractive(key) {\n",
              "          const element = document.querySelector('#df-a84879f4-c825-4448-9215-7536bffc0ad4');\n",
              "          const dataTable =\n",
              "            await google.colab.kernel.invokeFunction('convertToInteractive',\n",
              "                                                     [key], {});\n",
              "          if (!dataTable) return;\n",
              "\n",
              "          const docLinkHtml = 'Like what you see? Visit the ' +\n",
              "            '<a target=\"_blank\" href=https://colab.research.google.com/notebooks/data_table.ipynb>data table notebook</a>'\n",
              "            + ' to learn more about interactive tables.';\n",
              "          element.innerHTML = '';\n",
              "          dataTable['output_type'] = 'display_data';\n",
              "          await google.colab.output.renderOutput(dataTable, element);\n",
              "          const docLink = document.createElement('div');\n",
              "          docLink.innerHTML = docLinkHtml;\n",
              "          element.appendChild(docLink);\n",
              "        }\n",
              "      </script>\n",
              "    </div>\n",
              "  </div>\n",
              "  "
            ]
          },
          "metadata": {},
          "execution_count": 94
        }
      ]
    },
    {
      "cell_type": "markdown",
      "source": [
        "#Podział meżczyzn wg palących i niepalących"
      ],
      "metadata": {
        "id": "tkAtMB_qqDxE"
      }
    },
    {
      "cell_type": "code",
      "source": [
        "import seaborn as sns\n",
        "import matplotlib.pyplot as plt"
      ],
      "metadata": {
        "id": "cfkWvgwhD8bQ"
      },
      "execution_count": 95,
      "outputs": []
    },
    {
      "cell_type": "code",
      "source": [
        "plt.figure(figsize=(8,6))\n",
        "sns.countplot(x='smoker', data=df_male)\n",
        "plt.title('Podział mężczyzn na palących i niepalących', fontsize=16)"
      ],
      "metadata": {
        "colab": {
          "base_uri": "https://localhost:8080/",
          "height": 423
        },
        "id": "Y7740cFWDUQZ",
        "outputId": "51d1a67f-4556-49d2-a24a-8a10128e0c18"
      },
      "execution_count": 96,
      "outputs": [
        {
          "output_type": "execute_result",
          "data": {
            "text/plain": [
              "Text(0.5, 1.0, 'Podział mężczyzn na palących i niepalących')"
            ]
          },
          "metadata": {},
          "execution_count": 96
        },
        {
          "output_type": "display_data",
          "data": {
            "text/plain": [
              "<Figure size 576x432 with 1 Axes>"
            ],
            "image/png": "[encoded data removed]"
          },
          "metadata": {}
        }
      ]
    },
    {
      "cell_type": "code",
      "source": [
        "df_male['smoker'].value_counts()"
      ],
      "metadata": {
        "colab": {
          "base_uri": "https://localhost:8080/"
        },
        "id": "aeyux7laqMXV",
        "outputId": "0ccd2044-3bf0-4a74-90ff-6993c18be1a6"
      },
      "execution_count": 97,
      "outputs": [
        {
          "output_type": "execute_result",
          "data": {
            "text/plain": [
              "0.0    517\n",
              "1.0    159\n",
              "Name: smoker, dtype: int64"
            ]
          },
          "metadata": {},
          "execution_count": 97
        }
      ]
    },
    {
      "cell_type": "markdown",
      "source": [
        "Znaczna przewaga męzczyzn niepalących\n"
      ],
      "metadata": {
        "id": "8mn1tOSdqUBO"
      }
    },
    {
      "cell_type": "markdown",
      "source": [
        "#Analiza średniej wartości składki ubezpieczeniowej pod kątem palaczy"
      ],
      "metadata": {
        "id": "7S1u7MoSqq4l"
      }
    },
    {
      "cell_type": "code",
      "source": [
        "df_male.groupby('smoker', as_index=False)['charges'].mean()"
      ],
      "metadata": {
        "colab": {
          "base_uri": "https://localhost:8080/",
          "height": 112
        },
        "id": "De4IvkFXq8B8",
        "outputId": "26e3d9a0-5c62-412d-a18d-80fbb009c915"
      },
      "execution_count": 98,
      "outputs": [
        {
          "output_type": "execute_result",
          "data": {
            "text/plain": [
              "   smoker       charges\n",
              "0     0.0   8087.204731\n",
              "1     1.0  33042.005975"
            ],
            "text/html": [
              "\n",
              "  <div id=\"df-e5c01f43-7439-4ceb-b39d-d5456bbd6a41\">\n",
              "    <div class=\"colab-df-container\">\n",
              "      <div>\n",
              "<style scoped>\n",
              "    .dataframe tbody tr th:only-of-type {\n",
              "        vertical-align: middle;\n",
              "    }\n",
              "\n",
              "    .dataframe tbody tr th {\n",
              "        vertical-align: top;\n",
              "    }\n",
              "\n",
              "    .dataframe thead th {\n",
              "        text-align: right;\n",
              "    }\n",
              "</style>\n",
              "<table border=\"1\" class=\"dataframe\">\n",
              "  <thead>\n",
              "    <tr style=\"text-align: right;\">\n",
              "      <th></th>\n",
              "      <th>smoker</th>\n",
              "      <th>charges</th>\n",
              "    </tr>\n",
              "  </thead>\n",
              "  <tbody>\n",
              "    <tr>\n",
              "      <th>0</th>\n",
              "      <td>0.0</td>\n",
              "      <td>8087.204731</td>\n",
              "    </tr>\n",
              "    <tr>\n",
              "      <th>1</th>\n",
              "      <td>1.0</td>\n",
              "      <td>33042.005975</td>\n",
              "    </tr>\n",
              "  </tbody>\n",
              "</table>\n",
              "</div>\n",
              "      <button class=\"colab-df-convert\" onclick=\"convertToInteractive('df-e5c01f43-7439-4ceb-b39d-d5456bbd6a41')\"\n",
              "              title=\"Convert this dataframe to an interactive table.\"\n",
              "              style=\"display:none;\">\n",
              "        \n",
              "  <svg xmlns=\"http://www.w3.org/2000/svg\" height=\"24px\"viewBox=\"0 0 24 24\"\n",
              "       width=\"24px\">\n",
              "    <path d=\"M0 0h24v24H0V0z\" fill=\"none\"/>\n",
              "    <path d=\"M18.56 5.44l.94 2.06.94-2.06 2.06-.94-2.06-.94-.94-2.06-.94 2.06-2.06.94zm-11 1L8.5 8.5l.94-2.06 2.06-.94-2.06-.94L8.5 2.5l-.94 2.06-2.06.94zm10 10l.94 2.06.94-2.06 2.06-.94-2.06-.94-.94-2.06-.94 2.06-2.06.94z\"/><path d=\"M17.41 7.96l-1.37-1.37c-.4-.4-.92-.59-1.43-.59-.52 0-1.04.2-1.43.59L10.3 9.45l-7.72 7.72c-.78.78-.78 2.05 0 2.83L4 21.41c.39.39.9.59 1.41.59.51 0 1.02-.2 1.41-.59l7.78-7.78 2.81-2.81c.8-.78.8-2.07 0-2.86zM5.41 20L4 18.59l7.72-7.72 1.47 1.35L5.41 20z\"/>\n",
              "  </svg>\n",
              "      </button>\n",
              "      \n",
              "  <style>\n",
              "    .colab-df-container {\n",
              "      display:flex;\n",
              "      flex-wrap:wrap;\n",
              "      gap: 12px;\n",
              "    }\n",
              "\n",
              "    .colab-df-convert {\n",
              "      background-color: #E8F0FE;\n",
              "      border: none;\n",
              "      border-radius: 50%;\n",
              "      cursor: pointer;\n",
              "      display: none;\n",
              "      fill: #1967D2;\n",
              "      height: 32px;\n",
              "      padding: 0 0 0 0;\n",
              "      width: 32px;\n",
              "    }\n",
              "\n",
              "    .colab-df-convert:hover {\n",
              "      background-color: #E2EBFA;\n",
              "      box-shadow: 0px 1px 2px rgba(60, 64, 67, 0.3), 0px 1px 3px 1px rgba(60, 64, 67, 0.15);\n",
              "      fill: #174EA6;\n",
              "    }\n",
              "\n",
              "    [theme=dark] .colab-df-convert {\n",
              "      background-color: #3B4455;\n",
              "      fill: #D2E3FC;\n",
              "    }\n",
              "\n",
              "    [theme=dark] .colab-df-convert:hover {\n",
              "      background-color: #434B5C;\n",
              "      box-shadow: 0px 1px 3px 1px rgba(0, 0, 0, 0.15);\n",
              "      filter: drop-shadow(0px 1px 2px rgba(0, 0, 0, 0.3));\n",
              "      fill: #FFFFFF;\n",
              "    }\n",
              "  </style>\n",
              "\n",
              "      <script>\n",
              "        const buttonEl =\n",
              "          document.querySelector('#df-e5c01f43-7439-4ceb-b39d-d5456bbd6a41 button.colab-df-convert');\n",
              "        buttonEl.style.display =\n",
              "          google.colab.kernel.accessAllowed ? 'block' : 'none';\n",
              "\n",
              "        async function convertToInteractive(key) {\n",
              "          const element = document.querySelector('#df-e5c01f43-7439-4ceb-b39d-d5456bbd6a41');\n",
              "          const dataTable =\n",
              "            await google.colab.kernel.invokeFunction('convertToInteractive',\n",
              "                                                     [key], {});\n",
              "          if (!dataTable) return;\n",
              "\n",
              "          const docLinkHtml = 'Like what you see? Visit the ' +\n",
              "            '<a target=\"_blank\" href=https://colab.research.google.com/notebooks/data_table.ipynb>data table notebook</a>'\n",
              "            + ' to learn more about interactive tables.';\n",
              "          element.innerHTML = '';\n",
              "          dataTable['output_type'] = 'display_data';\n",
              "          await google.colab.output.renderOutput(dataTable, element);\n",
              "          const docLink = document.createElement('div');\n",
              "          docLink.innerHTML = docLinkHtml;\n",
              "          element.appendChild(docLink);\n",
              "        }\n",
              "      </script>\n",
              "    </div>\n",
              "  </div>\n",
              "  "
            ]
          },
          "metadata": {},
          "execution_count": 98
        }
      ]
    },
    {
      "cell_type": "code",
      "source": [
        "#Minimalna i maksymalna stawka ubezpieczenia w grupie palących i niepalących\n",
        "df_male.groupby('smoker').agg(\n",
        "    {\n",
        "        'charges':[min, max],\n",
        "    }\n",
        ")"
      ],
      "metadata": {
        "colab": {
          "base_uri": "https://localhost:8080/",
          "height": 175
        },
        "id": "vSoK5q6Lq8Od",
        "outputId": "1ff48439-76e1-42c3-a2d8-b881c9395b32"
      },
      "execution_count": 99,
      "outputs": [
        {
          "output_type": "execute_result",
          "data": {
            "text/plain": [
              "           charges             \n",
              "               min          max\n",
              "smoker                         \n",
              "0.0      1121.8739  32108.66282\n",
              "1.0     12829.4551  62592.87309"
            ],
            "text/html": [
              "\n",
              "  <div id=\"df-2d37e156-9457-421f-a977-5a08e39dd90e\">\n",
              "    <div class=\"colab-df-container\">\n",
              "      <div>\n",
              "<style scoped>\n",
              "    .dataframe tbody tr th:only-of-type {\n",
              "        vertical-align: middle;\n",
              "    }\n",
              "\n",
              "    .dataframe tbody tr th {\n",
              "        vertical-align: top;\n",
              "    }\n",
              "\n",
              "    .dataframe thead tr th {\n",
              "        text-align: left;\n",
              "    }\n",
              "\n",
              "    .dataframe thead tr:last-of-type th {\n",
              "        text-align: right;\n",
              "    }\n",
              "</style>\n",
              "<table border=\"1\" class=\"dataframe\">\n",
              "  <thead>\n",
              "    <tr>\n",
              "      <th></th>\n",
              "      <th colspan=\"2\" halign=\"left\">charges</th>\n",
              "    </tr>\n",
              "    <tr>\n",
              "      <th></th>\n",
              "      <th>min</th>\n",
              "      <th>max</th>\n",
              "    </tr>\n",
              "    <tr>\n",
              "      <th>smoker</th>\n",
              "      <th></th>\n",
              "      <th></th>\n",
              "    </tr>\n",
              "  </thead>\n",
              "  <tbody>\n",
              "    <tr>\n",
              "      <th>0.0</th>\n",
              "      <td>1121.8739</td>\n",
              "      <td>32108.66282</td>\n",
              "    </tr>\n",
              "    <tr>\n",
              "      <th>1.0</th>\n",
              "      <td>12829.4551</td>\n",
              "      <td>62592.87309</td>\n",
              "    </tr>\n",
              "  </tbody>\n",
              "</table>\n",
              "</div>\n",
              "      <button class=\"colab-df-convert\" onclick=\"convertToInteractive('df-2d37e156-9457-421f-a977-5a08e39dd90e')\"\n",
              "              title=\"Convert this dataframe to an interactive table.\"\n",
              "              style=\"display:none;\">\n",
              "        \n",
              "  <svg xmlns=\"http://www.w3.org/2000/svg\" height=\"24px\"viewBox=\"0 0 24 24\"\n",
              "       width=\"24px\">\n",
              "    <path d=\"M0 0h24v24H0V0z\" fill=\"none\"/>\n",
              "    <path d=\"M18.56 5.44l.94 2.06.94-2.06 2.06-.94-2.06-.94-.94-2.06-.94 2.06-2.06.94zm-11 1L8.5 8.5l.94-2.06 2.06-.94-2.06-.94L8.5 2.5l-.94 2.06-2.06.94zm10 10l.94 2.06.94-2.06 2.06-.94-2.06-.94-.94-2.06-.94 2.06-2.06.94z\"/><path d=\"M17.41 7.96l-1.37-1.37c-.4-.4-.92-.59-1.43-.59-.52 0-1.04.2-1.43.59L10.3 9.45l-7.72 7.72c-.78.78-.78 2.05 0 2.83L4 21.41c.39.39.9.59 1.41.59.51 0 1.02-.2 1.41-.59l7.78-7.78 2.81-2.81c.8-.78.8-2.07 0-2.86zM5.41 20L4 18.59l7.72-7.72 1.47 1.35L5.41 20z\"/>\n",
              "  </svg>\n",
              "      </button>\n",
              "      \n",
              "  <style>\n",
              "    .colab-df-container {\n",
              "      display:flex;\n",
              "      flex-wrap:wrap;\n",
              "      gap: 12px;\n",
              "    }\n",
              "\n",
              "    .colab-df-convert {\n",
              "      background-color: #E8F0FE;\n",
              "      border: none;\n",
              "      border-radius: 50%;\n",
              "      cursor: pointer;\n",
              "      display: none;\n",
              "      fill: #1967D2;\n",
              "      height: 32px;\n",
              "      padding: 0 0 0 0;\n",
              "      width: 32px;\n",
              "    }\n",
              "\n",
              "    .colab-df-convert:hover {\n",
              "      background-color: #E2EBFA;\n",
              "      box-shadow: 0px 1px 2px rgba(60, 64, 67, 0.3), 0px 1px 3px 1px rgba(60, 64, 67, 0.15);\n",
              "      fill: #174EA6;\n",
              "    }\n",
              "\n",
              "    [theme=dark] .colab-df-convert {\n",
              "      background-color: #3B4455;\n",
              "      fill: #D2E3FC;\n",
              "    }\n",
              "\n",
              "    [theme=dark] .colab-df-convert:hover {\n",
              "      background-color: #434B5C;\n",
              "      box-shadow: 0px 1px 3px 1px rgba(0, 0, 0, 0.15);\n",
              "      filter: drop-shadow(0px 1px 2px rgba(0, 0, 0, 0.3));\n",
              "      fill: #FFFFFF;\n",
              "    }\n",
              "  </style>\n",
              "\n",
              "      <script>\n",
              "        const buttonEl =\n",
              "          document.querySelector('#df-2d37e156-9457-421f-a977-5a08e39dd90e button.colab-df-convert');\n",
              "        buttonEl.style.display =\n",
              "          google.colab.kernel.accessAllowed ? 'block' : 'none';\n",
              "\n",
              "        async function convertToInteractive(key) {\n",
              "          const element = document.querySelector('#df-2d37e156-9457-421f-a977-5a08e39dd90e');\n",
              "          const dataTable =\n",
              "            await google.colab.kernel.invokeFunction('convertToInteractive',\n",
              "                                                     [key], {});\n",
              "          if (!dataTable) return;\n",
              "\n",
              "          const docLinkHtml = 'Like what you see? Visit the ' +\n",
              "            '<a target=\"_blank\" href=https://colab.research.google.com/notebooks/data_table.ipynb>data table notebook</a>'\n",
              "            + ' to learn more about interactive tables.';\n",
              "          element.innerHTML = '';\n",
              "          dataTable['output_type'] = 'display_data';\n",
              "          await google.colab.output.renderOutput(dataTable, element);\n",
              "          const docLink = document.createElement('div');\n",
              "          docLink.innerHTML = docLinkHtml;\n",
              "          element.appendChild(docLink);\n",
              "        }\n",
              "      </script>\n",
              "    </div>\n",
              "  </div>\n",
              "  "
            ]
          },
          "metadata": {},
          "execution_count": 99
        }
      ]
    },
    {
      "cell_type": "markdown",
      "source": [
        "Minimalna składka dla mężczyzn palących jest znacznie wyższa, niż u mężczyzn niepalących"
      ],
      "metadata": {
        "id": "wDfjSgv_27cx"
      }
    },
    {
      "cell_type": "code",
      "source": [
        "plt.figure(figsize=(10,6))\n",
        "sns.lmplot(x='smoker', y='charges', data=df_male)\n",
        "sns.set_style('darkgrid')"
      ],
      "metadata": {
        "colab": {
          "base_uri": "https://localhost:8080/",
          "height": 386
        },
        "id": "2WIl5pTsr8Wf",
        "outputId": "ebfca45d-f867-4150-c2fb-b8a847edf1cf"
      },
      "execution_count": 100,
      "outputs": [
        {
          "output_type": "display_data",
          "data": {
            "text/plain": [
              "<Figure size 720x432 with 0 Axes>"
            ]
          },
          "metadata": {}
        },
        {
          "output_type": "display_data",
          "data": {
            "text/plain": [
              "<Figure size 360x360 with 1 Axes>"
            ],
            "image/png": "[encoded data removed]"
          },
          "metadata": {}
        }
      ]
    },
    {
      "cell_type": "code",
      "source": [
        "#dlaczego ten nie wychodzi? Inne stawki\n",
        "plt.figure(figsize=(8,6))\n",
        "sns.barplot(x='smoker', y='charges', data=df_male)\n",
        "sns.set_style('darkgrid')"
      ],
      "metadata": {
        "colab": {
          "base_uri": "https://localhost:8080/",
          "height": 388
        },
        "id": "LepR0MHuufro",
        "outputId": "c6e1bf15-6b56-4db8-dada-f47509e9e005"
      },
      "execution_count": 101,
      "outputs": [
        {
          "output_type": "display_data",
          "data": {
            "text/plain": [
              "<Figure size 576x432 with 1 Axes>"
            ],
            "image/png": "[encoded data removed]"
          },
          "metadata": {}
        }
      ]
    },
    {
      "cell_type": "code",
      "source": [
        "plt.figure(figsize=(8,6))\n",
        "sns.scatterplot(x='smoker', y='charges', data=df_male)\n",
        "sns.set_style('darkgrid')"
      ],
      "metadata": {
        "colab": {
          "base_uri": "https://localhost:8080/",
          "height": 388
        },
        "id": "IN9IhJIQwSTg",
        "outputId": "955120f9-2189-4c87-f62c-ef7828ac6a01"
      },
      "execution_count": 102,
      "outputs": [
        {
          "output_type": "display_data",
          "data": {
            "text/plain": [
              "<Figure size 576x432 with 1 Axes>"
            ],
            "image/png": "[encoded data removed]"
          },
          "metadata": {}
        }
      ]
    },
    {
      "cell_type": "markdown",
      "source": [
        "Po powyższych wykresach widać odstające dane tzn. wysokość opłaty dla mężczyzn palących"
      ],
      "metadata": {
        "id": "GDoOZ_9S3Btp"
      }
    },
    {
      "cell_type": "markdown",
      "source": [
        "#Podział meżczyzn ze wzgledu na wiek, dodanie kolumny opisowej "
      ],
      "metadata": {
        "id": "vY3Zhl1sxM34"
      }
    },
    {
      "cell_type": "code",
      "source": [
        "df_male.describe()"
      ],
      "metadata": {
        "colab": {
          "base_uri": "https://localhost:8080/",
          "height": 300
        },
        "id": "K6ArRUGq3OAC",
        "outputId": "b376d505-704b-45b7-94ed-6b44bcbe6971"
      },
      "execution_count": 103,
      "outputs": [
        {
          "output_type": "execute_result",
          "data": {
            "text/plain": [
              "              age         bmi    children      smoker       charges\n",
              "count  676.000000  676.000000  676.000000  676.000000    676.000000\n",
              "mean    38.917160   30.943129    1.115385    0.235207  13956.751178\n",
              "std     14.050141    6.140435    1.218986    0.424442  12971.025915\n",
              "min     18.000000   15.960000    0.000000    0.000000   1121.873900\n",
              "25%     26.000000   26.410000    0.000000    0.000000   4619.134000\n",
              "50%     39.000000   30.687500    1.000000    0.000000   9369.615750\n",
              "75%     51.000000   34.992500    2.000000    0.000000  18989.590250\n",
              "max     64.000000   53.130000    5.000000    1.000000  62592.873090"
            ],
            "text/html": [
              "\n",
              "  <div id=\"df-2dc1fb48-f7b7-4177-b59c-a30fb2ed1d57\">\n",
              "    <div class=\"colab-df-container\">\n",
              "      <div>\n",
              "<style scoped>\n",
              "    .dataframe tbody tr th:only-of-type {\n",
              "        vertical-align: middle;\n",
              "    }\n",
              "\n",
              "    .dataframe tbody tr th {\n",
              "        vertical-align: top;\n",
              "    }\n",
              "\n",
              "    .dataframe thead th {\n",
              "        text-align: right;\n",
              "    }\n",
              "</style>\n",
              "<table border=\"1\" class=\"dataframe\">\n",
              "  <thead>\n",
              "    <tr style=\"text-align: right;\">\n",
              "      <th></th>\n",
              "      <th>age</th>\n",
              "      <th>bmi</th>\n",
              "      <th>children</th>\n",
              "      <th>smoker</th>\n",
              "      <th>charges</th>\n",
              "    </tr>\n",
              "  </thead>\n",
              "  <tbody>\n",
              "    <tr>\n",
              "      <th>count</th>\n",
              "      <td>676.000000</td>\n",
              "      <td>676.000000</td>\n",
              "      <td>676.000000</td>\n",
              "      <td>676.000000</td>\n",
              "      <td>676.000000</td>\n",
              "    </tr>\n",
              "    <tr>\n",
              "      <th>mean</th>\n",
              "      <td>38.917160</td>\n",
              "      <td>30.943129</td>\n",
              "      <td>1.115385</td>\n",
              "      <td>0.235207</td>\n",
              "      <td>13956.751178</td>\n",
              "    </tr>\n",
              "    <tr>\n",
              "      <th>std</th>\n",
              "      <td>14.050141</td>\n",
              "      <td>6.140435</td>\n",
              "      <td>1.218986</td>\n",
              "      <td>0.424442</td>\n",
              "      <td>12971.025915</td>\n",
              "    </tr>\n",
              "    <tr>\n",
              "      <th>min</th>\n",
              "      <td>18.000000</td>\n",
              "      <td>15.960000</td>\n",
              "      <td>0.000000</td>\n",
              "      <td>0.000000</td>\n",
              "      <td>1121.873900</td>\n",
              "    </tr>\n",
              "    <tr>\n",
              "      <th>25%</th>\n",
              "      <td>26.000000</td>\n",
              "      <td>26.410000</td>\n",
              "      <td>0.000000</td>\n",
              "      <td>0.000000</td>\n",
              "      <td>4619.134000</td>\n",
              "    </tr>\n",
              "    <tr>\n",
              "      <th>50%</th>\n",
              "      <td>39.000000</td>\n",
              "      <td>30.687500</td>\n",
              "      <td>1.000000</td>\n",
              "      <td>0.000000</td>\n",
              "      <td>9369.615750</td>\n",
              "    </tr>\n",
              "    <tr>\n",
              "      <th>75%</th>\n",
              "      <td>51.000000</td>\n",
              "      <td>34.992500</td>\n",
              "      <td>2.000000</td>\n",
              "      <td>0.000000</td>\n",
              "      <td>18989.590250</td>\n",
              "    </tr>\n",
              "    <tr>\n",
              "      <th>max</th>\n",
              "      <td>64.000000</td>\n",
              "      <td>53.130000</td>\n",
              "      <td>5.000000</td>\n",
              "      <td>1.000000</td>\n",
              "      <td>62592.873090</td>\n",
              "    </tr>\n",
              "  </tbody>\n",
              "</table>\n",
              "</div>\n",
              "      <button class=\"colab-df-convert\" onclick=\"convertToInteractive('df-2dc1fb48-f7b7-4177-b59c-a30fb2ed1d57')\"\n",
              "              title=\"Convert this dataframe to an interactive table.\"\n",
              "              style=\"display:none;\">\n",
              "        \n",
              "  <svg xmlns=\"http://www.w3.org/2000/svg\" height=\"24px\"viewBox=\"0 0 24 24\"\n",
              "       width=\"24px\">\n",
              "    <path d=\"M0 0h24v24H0V0z\" fill=\"none\"/>\n",
              "    <path d=\"M18.56 5.44l.94 2.06.94-2.06 2.06-.94-2.06-.94-.94-2.06-.94 2.06-2.06.94zm-11 1L8.5 8.5l.94-2.06 2.06-.94-2.06-.94L8.5 2.5l-.94 2.06-2.06.94zm10 10l.94 2.06.94-2.06 2.06-.94-2.06-.94-.94-2.06-.94 2.06-2.06.94z\"/><path d=\"M17.41 7.96l-1.37-1.37c-.4-.4-.92-.59-1.43-.59-.52 0-1.04.2-1.43.59L10.3 9.45l-7.72 7.72c-.78.78-.78 2.05 0 2.83L4 21.41c.39.39.9.59 1.41.59.51 0 1.02-.2 1.41-.59l7.78-7.78 2.81-2.81c.8-.78.8-2.07 0-2.86zM5.41 20L4 18.59l7.72-7.72 1.47 1.35L5.41 20z\"/>\n",
              "  </svg>\n",
              "      </button>\n",
              "      \n",
              "  <style>\n",
              "    .colab-df-container {\n",
              "      display:flex;\n",
              "      flex-wrap:wrap;\n",
              "      gap: 12px;\n",
              "    }\n",
              "\n",
              "    .colab-df-convert {\n",
              "      background-color: #E8F0FE;\n",
              "      border: none;\n",
              "      border-radius: 50%;\n",
              "      cursor: pointer;\n",
              "      display: none;\n",
              "      fill: #1967D2;\n",
              "      height: 32px;\n",
              "      padding: 0 0 0 0;\n",
              "      width: 32px;\n",
              "    }\n",
              "\n",
              "    .colab-df-convert:hover {\n",
              "      background-color: #E2EBFA;\n",
              "      box-shadow: 0px 1px 2px rgba(60, 64, 67, 0.3), 0px 1px 3px 1px rgba(60, 64, 67, 0.15);\n",
              "      fill: #174EA6;\n",
              "    }\n",
              "\n",
              "    [theme=dark] .colab-df-convert {\n",
              "      background-color: #3B4455;\n",
              "      fill: #D2E3FC;\n",
              "    }\n",
              "\n",
              "    [theme=dark] .colab-df-convert:hover {\n",
              "      background-color: #434B5C;\n",
              "      box-shadow: 0px 1px 3px 1px rgba(0, 0, 0, 0.15);\n",
              "      filter: drop-shadow(0px 1px 2px rgba(0, 0, 0, 0.3));\n",
              "      fill: #FFFFFF;\n",
              "    }\n",
              "  </style>\n",
              "\n",
              "      <script>\n",
              "        const buttonEl =\n",
              "          document.querySelector('#df-2dc1fb48-f7b7-4177-b59c-a30fb2ed1d57 button.colab-df-convert');\n",
              "        buttonEl.style.display =\n",
              "          google.colab.kernel.accessAllowed ? 'block' : 'none';\n",
              "\n",
              "        async function convertToInteractive(key) {\n",
              "          const element = document.querySelector('#df-2dc1fb48-f7b7-4177-b59c-a30fb2ed1d57');\n",
              "          const dataTable =\n",
              "            await google.colab.kernel.invokeFunction('convertToInteractive',\n",
              "                                                     [key], {});\n",
              "          if (!dataTable) return;\n",
              "\n",
              "          const docLinkHtml = 'Like what you see? Visit the ' +\n",
              "            '<a target=\"_blank\" href=https://colab.research.google.com/notebooks/data_table.ipynb>data table notebook</a>'\n",
              "            + ' to learn more about interactive tables.';\n",
              "          element.innerHTML = '';\n",
              "          dataTable['output_type'] = 'display_data';\n",
              "          await google.colab.output.renderOutput(dataTable, element);\n",
              "          const docLink = document.createElement('div');\n",
              "          docLink.innerHTML = docLinkHtml;\n",
              "          element.appendChild(docLink);\n",
              "        }\n",
              "      </script>\n",
              "    </div>\n",
              "  </div>\n",
              "  "
            ]
          },
          "metadata": {},
          "execution_count": 103
        }
      ]
    },
    {
      "cell_type": "code",
      "source": [
        "df_male['age_description']=pd.cut(df_male['age'], bins=[17,25, 35, 50, 64], labels=['młodzi_dorośli', 'starsi_dorośli', 'średni_wiek', 'seniorzy' ])"
      ],
      "metadata": {
        "colab": {
          "base_uri": "https://localhost:8080/"
        },
        "id": "VJqUI9BEErtt",
        "outputId": "a2ab9f24-2ce8-44f8-b357-8a257e91549e"
      },
      "execution_count": 104,
      "outputs": [
        {
          "output_type": "stream",
          "name": "stderr",
          "text": [
            "/usr/local/lib/python3.7/dist-packages/ipykernel_launcher.py:1: SettingWithCopyWarning:\n",
            "\n",
            "\n",
            "A value is trying to be set on a copy of a slice from a DataFrame.\n",
            "Try using .loc[row_indexer,col_indexer] = value instead\n",
            "\n",
            "See the caveats in the documentation: https://pandas.pydata.org/pandas-docs/stable/user_guide/indexing.html#returning-a-view-versus-a-copy\n",
            "\n"
          ]
        }
      ]
    },
    {
      "cell_type": "code",
      "source": [
        "df_male.sample(5)"
      ],
      "metadata": {
        "colab": {
          "base_uri": "https://localhost:8080/",
          "height": 206
        },
        "id": "zAkKL-vRFkvG",
        "outputId": "cc8f7413-bbd0-4ce1-ccb2-c25afe130caa"
      },
      "execution_count": 105,
      "outputs": [
        {
          "output_type": "execute_result",
          "data": {
            "text/plain": [
              "      age   sex    bmi  children  smoker     region     charges  \\\n",
              "1028   54  male  31.60         0     0.0  southwest   9850.4320   \n",
              "840    21  male  31.10         0     0.0  southwest   1526.3120   \n",
              "336    60  male  25.74         0     0.0  southeast  12142.5786   \n",
              "545    49  male  25.84         2     1.0  northwest  23807.2406   \n",
              "939    53  male  29.48         0     0.0  southeast   9487.6442   \n",
              "\n",
              "     age_description  \n",
              "1028        seniorzy  \n",
              "840   młodzi_dorośli  \n",
              "336         seniorzy  \n",
              "545      średni_wiek  \n",
              "939         seniorzy  "
            ],
            "text/html": [
              "\n",
              "  <div id=\"df-36a33e95-4f46-48f8-8202-6b8c74f4f607\">\n",
              "    <div class=\"colab-df-container\">\n",
              "      <div>\n",
              "<style scoped>\n",
              "    .dataframe tbody tr th:only-of-type {\n",
              "        vertical-align: middle;\n",
              "    }\n",
              "\n",
              "    .dataframe tbody tr th {\n",
              "        vertical-align: top;\n",
              "    }\n",
              "\n",
              "    .dataframe thead th {\n",
              "        text-align: right;\n",
              "    }\n",
              "</style>\n",
              "<table border=\"1\" class=\"dataframe\">\n",
              "  <thead>\n",
              "    <tr style=\"text-align: right;\">\n",
              "      <th></th>\n",
              "      <th>age</th>\n",
              "      <th>sex</th>\n",
              "      <th>bmi</th>\n",
              "      <th>children</th>\n",
              "      <th>smoker</th>\n",
              "      <th>region</th>\n",
              "      <th>charges</th>\n",
              "      <th>age_description</th>\n",
              "    </tr>\n",
              "  </thead>\n",
              "  <tbody>\n",
              "    <tr>\n",
              "      <th>1028</th>\n",
              "      <td>54</td>\n",
              "      <td>male</td>\n",
              "      <td>31.60</td>\n",
              "      <td>0</td>\n",
              "      <td>0.0</td>\n",
              "      <td>southwest</td>\n",
              "      <td>9850.4320</td>\n",
              "      <td>seniorzy</td>\n",
              "    </tr>\n",
              "    <tr>\n",
              "      <th>840</th>\n",
              "      <td>21</td>\n",
              "      <td>male</td>\n",
              "      <td>31.10</td>\n",
              "      <td>0</td>\n",
              "      <td>0.0</td>\n",
              "      <td>southwest</td>\n",
              "      <td>1526.3120</td>\n",
              "      <td>młodzi_dorośli</td>\n",
              "    </tr>\n",
              "    <tr>\n",
              "      <th>336</th>\n",
              "      <td>60</td>\n",
              "      <td>male</td>\n",
              "      <td>25.74</td>\n",
              "      <td>0</td>\n",
              "      <td>0.0</td>\n",
              "      <td>southeast</td>\n",
              "      <td>12142.5786</td>\n",
              "      <td>seniorzy</td>\n",
              "    </tr>\n",
              "    <tr>\n",
              "      <th>545</th>\n",
              "      <td>49</td>\n",
              "      <td>male</td>\n",
              "      <td>25.84</td>\n",
              "      <td>2</td>\n",
              "      <td>1.0</td>\n",
              "      <td>northwest</td>\n",
              "      <td>23807.2406</td>\n",
              "      <td>średni_wiek</td>\n",
              "    </tr>\n",
              "    <tr>\n",
              "      <th>939</th>\n",
              "      <td>53</td>\n",
              "      <td>male</td>\n",
              "      <td>29.48</td>\n",
              "      <td>0</td>\n",
              "      <td>0.0</td>\n",
              "      <td>southeast</td>\n",
              "      <td>9487.6442</td>\n",
              "      <td>seniorzy</td>\n",
              "    </tr>\n",
              "  </tbody>\n",
              "</table>\n",
              "</div>\n",
              "      <button class=\"colab-df-convert\" onclick=\"convertToInteractive('df-36a33e95-4f46-48f8-8202-6b8c74f4f607')\"\n",
              "              title=\"Convert this dataframe to an interactive table.\"\n",
              "              style=\"display:none;\">\n",
              "        \n",
              "  <svg xmlns=\"http://www.w3.org/2000/svg\" height=\"24px\"viewBox=\"0 0 24 24\"\n",
              "       width=\"24px\">\n",
              "    <path d=\"M0 0h24v24H0V0z\" fill=\"none\"/>\n",
              "    <path d=\"M18.56 5.44l.94 2.06.94-2.06 2.06-.94-2.06-.94-.94-2.06-.94 2.06-2.06.94zm-11 1L8.5 8.5l.94-2.06 2.06-.94-2.06-.94L8.5 2.5l-.94 2.06-2.06.94zm10 10l.94 2.06.94-2.06 2.06-.94-2.06-.94-.94-2.06-.94 2.06-2.06.94z\"/><path d=\"M17.41 7.96l-1.37-1.37c-.4-.4-.92-.59-1.43-.59-.52 0-1.04.2-1.43.59L10.3 9.45l-7.72 7.72c-.78.78-.78 2.05 0 2.83L4 21.41c.39.39.9.59 1.41.59.51 0 1.02-.2 1.41-.59l7.78-7.78 2.81-2.81c.8-.78.8-2.07 0-2.86zM5.41 20L4 18.59l7.72-7.72 1.47 1.35L5.41 20z\"/>\n",
              "  </svg>\n",
              "      </button>\n",
              "      \n",
              "  <style>\n",
              "    .colab-df-container {\n",
              "      display:flex;\n",
              "      flex-wrap:wrap;\n",
              "      gap: 12px;\n",
              "    }\n",
              "\n",
              "    .colab-df-convert {\n",
              "      background-color: #E8F0FE;\n",
              "      border: none;\n",
              "      border-radius: 50%;\n",
              "      cursor: pointer;\n",
              "      display: none;\n",
              "      fill: #1967D2;\n",
              "      height: 32px;\n",
              "      padding: 0 0 0 0;\n",
              "      width: 32px;\n",
              "    }\n",
              "\n",
              "    .colab-df-convert:hover {\n",
              "      background-color: #E2EBFA;\n",
              "      box-shadow: 0px 1px 2px rgba(60, 64, 67, 0.3), 0px 1px 3px 1px rgba(60, 64, 67, 0.15);\n",
              "      fill: #174EA6;\n",
              "    }\n",
              "\n",
              "    [theme=dark] .colab-df-convert {\n",
              "      background-color: #3B4455;\n",
              "      fill: #D2E3FC;\n",
              "    }\n",
              "\n",
              "    [theme=dark] .colab-df-convert:hover {\n",
              "      background-color: #434B5C;\n",
              "      box-shadow: 0px 1px 3px 1px rgba(0, 0, 0, 0.15);\n",
              "      filter: drop-shadow(0px 1px 2px rgba(0, 0, 0, 0.3));\n",
              "      fill: #FFFFFF;\n",
              "    }\n",
              "  </style>\n",
              "\n",
              "      <script>\n",
              "        const buttonEl =\n",
              "          document.querySelector('#df-36a33e95-4f46-48f8-8202-6b8c74f4f607 button.colab-df-convert');\n",
              "        buttonEl.style.display =\n",
              "          google.colab.kernel.accessAllowed ? 'block' : 'none';\n",
              "\n",
              "        async function convertToInteractive(key) {\n",
              "          const element = document.querySelector('#df-36a33e95-4f46-48f8-8202-6b8c74f4f607');\n",
              "          const dataTable =\n",
              "            await google.colab.kernel.invokeFunction('convertToInteractive',\n",
              "                                                     [key], {});\n",
              "          if (!dataTable) return;\n",
              "\n",
              "          const docLinkHtml = 'Like what you see? Visit the ' +\n",
              "            '<a target=\"_blank\" href=https://colab.research.google.com/notebooks/data_table.ipynb>data table notebook</a>'\n",
              "            + ' to learn more about interactive tables.';\n",
              "          element.innerHTML = '';\n",
              "          dataTable['output_type'] = 'display_data';\n",
              "          await google.colab.output.renderOutput(dataTable, element);\n",
              "          const docLink = document.createElement('div');\n",
              "          docLink.innerHTML = docLinkHtml;\n",
              "          element.appendChild(docLink);\n",
              "        }\n",
              "      </script>\n",
              "    </div>\n",
              "  </div>\n",
              "  "
            ]
          },
          "metadata": {},
          "execution_count": 105
        }
      ]
    },
    {
      "cell_type": "code",
      "source": [
        "plt.figure(figsize=(8,6))\n",
        "sns.countplot(x='age_description', data=df_male)\n",
        "plt.title('Kategoria wiekowa', fontsize=16)"
      ],
      "metadata": {
        "colab": {
          "base_uri": "https://localhost:8080/",
          "height": 426
        },
        "id": "rx3_gnAhGGU1",
        "outputId": "a7a033e3-71e3-4f7a-874e-09dd10065a1f"
      },
      "execution_count": 106,
      "outputs": [
        {
          "output_type": "execute_result",
          "data": {
            "text/plain": [
              "Text(0.5, 1.0, 'Kategoria wiekowa')"
            ]
          },
          "metadata": {},
          "execution_count": 106
        },
        {
          "output_type": "display_data",
          "data": {
            "text/plain": [
              "<Figure size 576x432 with 1 Axes>"
            ],
            "image/png": "[encoded data removed]"
          },
          "metadata": {}
        }
      ]
    },
    {
      "cell_type": "markdown",
      "source": [
        "Zdecydowaną większośc ubezpieczonych stanowią męzczyźni w średnim wieku"
      ],
      "metadata": {
        "id": "rYedtx2ax7xH"
      }
    },
    {
      "cell_type": "markdown",
      "source": [
        "#Analiza wysokości ubezpieczenia w stosunku do wieku"
      ],
      "metadata": {
        "id": "Y5bZ8NrzyRHu"
      }
    },
    {
      "cell_type": "code",
      "source": [
        "sns.scatterplot(x='age_description', y='charges', data=df_male)"
      ],
      "metadata": {
        "colab": {
          "base_uri": "https://localhost:8080/",
          "height": 299
        },
        "id": "KJxNduTIG67Z",
        "outputId": "4a0273e7-4a8b-492e-9432-eaabc7d5e01c"
      },
      "execution_count": 107,
      "outputs": [
        {
          "output_type": "execute_result",
          "data": {
            "text/plain": [
              "<matplotlib.axes._subplots.AxesSubplot at 0x7f9215646910>"
            ]
          },
          "metadata": {},
          "execution_count": 107
        },
        {
          "output_type": "display_data",
          "data": {
            "text/plain": [
              "<Figure size 432x288 with 1 Axes>"
            ],
            "image/png": "[encoded data removed]"
          },
          "metadata": {}
        }
      ]
    },
    {
      "cell_type": "code",
      "source": [
        "plt.figure(figsize=(8,6))\n",
        "sns.boxplot(x='age_description', y='charges', data=df_male)"
      ],
      "metadata": {
        "colab": {
          "base_uri": "https://localhost:8080/",
          "height": 408
        },
        "id": "CvBDHBM8HWGV",
        "outputId": "fe8c19b4-d95d-4273-863b-ff9b0b206e86"
      },
      "execution_count": 108,
      "outputs": [
        {
          "output_type": "execute_result",
          "data": {
            "text/plain": [
              "<matplotlib.axes._subplots.AxesSubplot at 0x7f921563bad0>"
            ]
          },
          "metadata": {},
          "execution_count": 108
        },
        {
          "output_type": "display_data",
          "data": {
            "text/plain": [
              "<Figure size 576x432 with 1 Axes>"
            ],
            "image/png": "[encoded data removed]"
          },
          "metadata": {}
        }
      ]
    },
    {
      "cell_type": "markdown",
      "source": [
        "Znaczne odchylenie wysokości składki występuje w grupie \"średni_wiek\""
      ],
      "metadata": {
        "id": "UwUE2PUMyXaf"
      }
    },
    {
      "cell_type": "markdown",
      "source": [
        "#Analiza grupy 'Średni wiek\"\n"
      ],
      "metadata": {
        "id": "RI15PzLAH_u0"
      }
    },
    {
      "cell_type": "code",
      "source": [
        "\n",
        "średni_wiek=df_male[df_male['age_description']=='średni_wiek']"
      ],
      "metadata": {
        "id": "IN1cwhXEyqao"
      },
      "execution_count": 109,
      "outputs": []
    },
    {
      "cell_type": "code",
      "source": [
        "średni_wiek=średni_wiek.sort_values('charges',ascending=True)"
      ],
      "metadata": {
        "id": "8xkiiiavzzGt"
      },
      "execution_count": 110,
      "outputs": []
    },
    {
      "cell_type": "code",
      "source": [
        "średni_wiek.tail(5)"
      ],
      "metadata": {
        "colab": {
          "base_uri": "https://localhost:8080/",
          "height": 206
        },
        "id": "-1lNj5KB0jwK",
        "outputId": "4f04a469-97f0-4de8-877a-ec5a9f8a4d1b"
      },
      "execution_count": 111,
      "outputs": [
        {
          "output_type": "execute_result",
          "data": {
            "text/plain": [
              "      age   sex     bmi  children  smoker     region      charges  \\\n",
              "185    36  male  41.895         3     1.0  northeast  43753.33705   \n",
              "893    47  male  38.940         2     1.0  southeast  44202.65360   \n",
              "569    48  male  40.565         2     1.0  northwest  45702.02235   \n",
              "265    46  male  42.350         3     1.0  southeast  46151.12450   \n",
              "1300   45  male  30.360         0     1.0  southeast  62592.87309   \n",
              "\n",
              "     age_description  \n",
              "185      średni_wiek  \n",
              "893      średni_wiek  \n",
              "569      średni_wiek  \n",
              "265      średni_wiek  \n",
              "1300     średni_wiek  "
            ],
            "text/html": [
              "\n",
              "  <div id=\"df-ff145f9f-60e5-4e73-b2fb-fd12c15d4a07\">\n",
              "    <div class=\"colab-df-container\">\n",
              "      <div>\n",
              "<style scoped>\n",
              "    .dataframe tbody tr th:only-of-type {\n",
              "        vertical-align: middle;\n",
              "    }\n",
              "\n",
              "    .dataframe tbody tr th {\n",
              "        vertical-align: top;\n",
              "    }\n",
              "\n",
              "    .dataframe thead th {\n",
              "        text-align: right;\n",
              "    }\n",
              "</style>\n",
              "<table border=\"1\" class=\"dataframe\">\n",
              "  <thead>\n",
              "    <tr style=\"text-align: right;\">\n",
              "      <th></th>\n",
              "      <th>age</th>\n",
              "      <th>sex</th>\n",
              "      <th>bmi</th>\n",
              "      <th>children</th>\n",
              "      <th>smoker</th>\n",
              "      <th>region</th>\n",
              "      <th>charges</th>\n",
              "      <th>age_description</th>\n",
              "    </tr>\n",
              "  </thead>\n",
              "  <tbody>\n",
              "    <tr>\n",
              "      <th>185</th>\n",
              "      <td>36</td>\n",
              "      <td>male</td>\n",
              "      <td>41.895</td>\n",
              "      <td>3</td>\n",
              "      <td>1.0</td>\n",
              "      <td>northeast</td>\n",
              "      <td>43753.33705</td>\n",
              "      <td>średni_wiek</td>\n",
              "    </tr>\n",
              "    <tr>\n",
              "      <th>893</th>\n",
              "      <td>47</td>\n",
              "      <td>male</td>\n",
              "      <td>38.940</td>\n",
              "      <td>2</td>\n",
              "      <td>1.0</td>\n",
              "      <td>southeast</td>\n",
              "      <td>44202.65360</td>\n",
              "      <td>średni_wiek</td>\n",
              "    </tr>\n",
              "    <tr>\n",
              "      <th>569</th>\n",
              "      <td>48</td>\n",
              "      <td>male</td>\n",
              "      <td>40.565</td>\n",
              "      <td>2</td>\n",
              "      <td>1.0</td>\n",
              "      <td>northwest</td>\n",
              "      <td>45702.02235</td>\n",
              "      <td>średni_wiek</td>\n",
              "    </tr>\n",
              "    <tr>\n",
              "      <th>265</th>\n",
              "      <td>46</td>\n",
              "      <td>male</td>\n",
              "      <td>42.350</td>\n",
              "      <td>3</td>\n",
              "      <td>1.0</td>\n",
              "      <td>southeast</td>\n",
              "      <td>46151.12450</td>\n",
              "      <td>średni_wiek</td>\n",
              "    </tr>\n",
              "    <tr>\n",
              "      <th>1300</th>\n",
              "      <td>45</td>\n",
              "      <td>male</td>\n",
              "      <td>30.360</td>\n",
              "      <td>0</td>\n",
              "      <td>1.0</td>\n",
              "      <td>southeast</td>\n",
              "      <td>62592.87309</td>\n",
              "      <td>średni_wiek</td>\n",
              "    </tr>\n",
              "  </tbody>\n",
              "</table>\n",
              "</div>\n",
              "      <button class=\"colab-df-convert\" onclick=\"convertToInteractive('df-ff145f9f-60e5-4e73-b2fb-fd12c15d4a07')\"\n",
              "              title=\"Convert this dataframe to an interactive table.\"\n",
              "              style=\"display:none;\">\n",
              "        \n",
              "  <svg xmlns=\"http://www.w3.org/2000/svg\" height=\"24px\"viewBox=\"0 0 24 24\"\n",
              "       width=\"24px\">\n",
              "    <path d=\"M0 0h24v24H0V0z\" fill=\"none\"/>\n",
              "    <path d=\"M18.56 5.44l.94 2.06.94-2.06 2.06-.94-2.06-.94-.94-2.06-.94 2.06-2.06.94zm-11 1L8.5 8.5l.94-2.06 2.06-.94-2.06-.94L8.5 2.5l-.94 2.06-2.06.94zm10 10l.94 2.06.94-2.06 2.06-.94-2.06-.94-.94-2.06-.94 2.06-2.06.94z\"/><path d=\"M17.41 7.96l-1.37-1.37c-.4-.4-.92-.59-1.43-.59-.52 0-1.04.2-1.43.59L10.3 9.45l-7.72 7.72c-.78.78-.78 2.05 0 2.83L4 21.41c.39.39.9.59 1.41.59.51 0 1.02-.2 1.41-.59l7.78-7.78 2.81-2.81c.8-.78.8-2.07 0-2.86zM5.41 20L4 18.59l7.72-7.72 1.47 1.35L5.41 20z\"/>\n",
              "  </svg>\n",
              "      </button>\n",
              "      \n",
              "  <style>\n",
              "    .colab-df-container {\n",
              "      display:flex;\n",
              "      flex-wrap:wrap;\n",
              "      gap: 12px;\n",
              "    }\n",
              "\n",
              "    .colab-df-convert {\n",
              "      background-color: #E8F0FE;\n",
              "      border: none;\n",
              "      border-radius: 50%;\n",
              "      cursor: pointer;\n",
              "      display: none;\n",
              "      fill: #1967D2;\n",
              "      height: 32px;\n",
              "      padding: 0 0 0 0;\n",
              "      width: 32px;\n",
              "    }\n",
              "\n",
              "    .colab-df-convert:hover {\n",
              "      background-color: #E2EBFA;\n",
              "      box-shadow: 0px 1px 2px rgba(60, 64, 67, 0.3), 0px 1px 3px 1px rgba(60, 64, 67, 0.15);\n",
              "      fill: #174EA6;\n",
              "    }\n",
              "\n",
              "    [theme=dark] .colab-df-convert {\n",
              "      background-color: #3B4455;\n",
              "      fill: #D2E3FC;\n",
              "    }\n",
              "\n",
              "    [theme=dark] .colab-df-convert:hover {\n",
              "      background-color: #434B5C;\n",
              "      box-shadow: 0px 1px 3px 1px rgba(0, 0, 0, 0.15);\n",
              "      filter: drop-shadow(0px 1px 2px rgba(0, 0, 0, 0.3));\n",
              "      fill: #FFFFFF;\n",
              "    }\n",
              "  </style>\n",
              "\n",
              "      <script>\n",
              "        const buttonEl =\n",
              "          document.querySelector('#df-ff145f9f-60e5-4e73-b2fb-fd12c15d4a07 button.colab-df-convert');\n",
              "        buttonEl.style.display =\n",
              "          google.colab.kernel.accessAllowed ? 'block' : 'none';\n",
              "\n",
              "        async function convertToInteractive(key) {\n",
              "          const element = document.querySelector('#df-ff145f9f-60e5-4e73-b2fb-fd12c15d4a07');\n",
              "          const dataTable =\n",
              "            await google.colab.kernel.invokeFunction('convertToInteractive',\n",
              "                                                     [key], {});\n",
              "          if (!dataTable) return;\n",
              "\n",
              "          const docLinkHtml = 'Like what you see? Visit the ' +\n",
              "            '<a target=\"_blank\" href=https://colab.research.google.com/notebooks/data_table.ipynb>data table notebook</a>'\n",
              "            + ' to learn more about interactive tables.';\n",
              "          element.innerHTML = '';\n",
              "          dataTable['output_type'] = 'display_data';\n",
              "          await google.colab.output.renderOutput(dataTable, element);\n",
              "          const docLink = document.createElement('div');\n",
              "          docLink.innerHTML = docLinkHtml;\n",
              "          element.appendChild(docLink);\n",
              "        }\n",
              "      </script>\n",
              "    </div>\n",
              "  </div>\n",
              "  "
            ]
          },
          "metadata": {},
          "execution_count": 111
        }
      ]
    },
    {
      "cell_type": "markdown",
      "source": [
        "Powyżej zauwazyć można, że dane mężczyzny o indekcie 1300 nie różnią się znacznie od mężczyzny o indeksie 265 czy 569. Zwrócić należy uwagę, iż jego bmi jest nawet niższe od pozostałych, co sugeruje, że składka została błędnie wprowadzona. \n",
        "Zanim usuniemy dane odstające, sprawdzimy wpływ bmi oraz ilość dzieci na stawkę ubezpieczenia."
      ],
      "metadata": {
        "id": "qeUTTfoE09y6"
      }
    },
    {
      "cell_type": "markdown",
      "source": [
        "#Analiza odchylenia w grupie seniorzy"
      ],
      "metadata": {
        "id": "_DwWUB1xE8Zv"
      }
    },
    {
      "cell_type": "code",
      "source": [
        "seniorzy=df_male[df_male['age_description']=='seniorzy']"
      ],
      "metadata": {
        "id": "DeCBNWFcCyHO"
      },
      "execution_count": 112,
      "outputs": []
    },
    {
      "cell_type": "code",
      "source": [
        "seniorzy=seniorzy.sort_values('charges',ascending=True)"
      ],
      "metadata": {
        "id": "tp9NgCTRC-JH"
      },
      "execution_count": 113,
      "outputs": []
    },
    {
      "cell_type": "code",
      "source": [
        "seniorzy.tail(10)"
      ],
      "metadata": {
        "colab": {
          "base_uri": "https://localhost:8080/",
          "height": 363
        },
        "id": "Awcp2bdvDF2F",
        "outputId": "c2a43d82-6889-4df3-de08-c67b40faddcf"
      },
      "execution_count": 114,
      "outputs": [
        {
          "output_type": "execute_result",
          "data": {
            "text/plain": [
              "      age   sex     bmi  children  smoker     region      charges  \\\n",
              "951    51  male  42.900         2     1.0  southeast  47462.89400   \n",
              "55     58  male  36.955         2     1.0  northwest  47496.49445   \n",
              "39     60  male  39.900         0     1.0  southwest  48173.36100   \n",
              "281    54  male  40.565         3     1.0  northeast  48549.17835   \n",
              "901    60  male  40.920         0     1.0  southeast  48673.55880   \n",
              "530    57  male  42.130         1     1.0  southeast  48675.51770   \n",
              "1062   59  male  41.140         1     1.0  southeast  48970.24760   \n",
              "1241   64  male  36.960         2     1.0  southeast  49577.66240   \n",
              "1146   60  male  32.800         0     1.0  southwest  52590.82939   \n",
              "1230   52  male  34.485         3     1.0  northwest  60021.39897   \n",
              "\n",
              "     age_description  \n",
              "951         seniorzy  \n",
              "55          seniorzy  \n",
              "39          seniorzy  \n",
              "281         seniorzy  \n",
              "901         seniorzy  \n",
              "530         seniorzy  \n",
              "1062        seniorzy  \n",
              "1241        seniorzy  \n",
              "1146        seniorzy  \n",
              "1230        seniorzy  "
            ],
            "text/html": [
              "\n",
              "  <div id=\"df-67b780a2-b6df-4469-843e-71a212733db8\">\n",
              "    <div class=\"colab-df-container\">\n",
              "      <div>\n",
              "<style scoped>\n",
              "    .dataframe tbody tr th:only-of-type {\n",
              "        vertical-align: middle;\n",
              "    }\n",
              "\n",
              "    .dataframe tbody tr th {\n",
              "        vertical-align: top;\n",
              "    }\n",
              "\n",
              "    .dataframe thead th {\n",
              "        text-align: right;\n",
              "    }\n",
              "</style>\n",
              "<table border=\"1\" class=\"dataframe\">\n",
              "  <thead>\n",
              "    <tr style=\"text-align: right;\">\n",
              "      <th></th>\n",
              "      <th>age</th>\n",
              "      <th>sex</th>\n",
              "      <th>bmi</th>\n",
              "      <th>children</th>\n",
              "      <th>smoker</th>\n",
              "      <th>region</th>\n",
              "      <th>charges</th>\n",
              "      <th>age_description</th>\n",
              "    </tr>\n",
              "  </thead>\n",
              "  <tbody>\n",
              "    <tr>\n",
              "      <th>951</th>\n",
              "      <td>51</td>\n",
              "      <td>male</td>\n",
              "      <td>42.900</td>\n",
              "      <td>2</td>\n",
              "      <td>1.0</td>\n",
              "      <td>southeast</td>\n",
              "      <td>47462.89400</td>\n",
              "      <td>seniorzy</td>\n",
              "    </tr>\n",
              "    <tr>\n",
              "      <th>55</th>\n",
              "      <td>58</td>\n",
              "      <td>male</td>\n",
              "      <td>36.955</td>\n",
              "      <td>2</td>\n",
              "      <td>1.0</td>\n",
              "      <td>northwest</td>\n",
              "      <td>47496.49445</td>\n",
              "      <td>seniorzy</td>\n",
              "    </tr>\n",
              "    <tr>\n",
              "      <th>39</th>\n",
              "      <td>60</td>\n",
              "      <td>male</td>\n",
              "      <td>39.900</td>\n",
              "      <td>0</td>\n",
              "      <td>1.0</td>\n",
              "      <td>southwest</td>\n",
              "      <td>48173.36100</td>\n",
              "      <td>seniorzy</td>\n",
              "    </tr>\n",
              "    <tr>\n",
              "      <th>281</th>\n",
              "      <td>54</td>\n",
              "      <td>male</td>\n",
              "      <td>40.565</td>\n",
              "      <td>3</td>\n",
              "      <td>1.0</td>\n",
              "      <td>northeast</td>\n",
              "      <td>48549.17835</td>\n",
              "      <td>seniorzy</td>\n",
              "    </tr>\n",
              "    <tr>\n",
              "      <th>901</th>\n",
              "      <td>60</td>\n",
              "      <td>male</td>\n",
              "      <td>40.920</td>\n",
              "      <td>0</td>\n",
              "      <td>1.0</td>\n",
              "      <td>southeast</td>\n",
              "      <td>48673.55880</td>\n",
              "      <td>seniorzy</td>\n",
              "    </tr>\n",
              "    <tr>\n",
              "      <th>530</th>\n",
              "      <td>57</td>\n",
              "      <td>male</td>\n",
              "      <td>42.130</td>\n",
              "      <td>1</td>\n",
              "      <td>1.0</td>\n",
              "      <td>southeast</td>\n",
              "      <td>48675.51770</td>\n",
              "      <td>seniorzy</td>\n",
              "    </tr>\n",
              "    <tr>\n",
              "      <th>1062</th>\n",
              "      <td>59</td>\n",
              "      <td>male</td>\n",
              "      <td>41.140</td>\n",
              "      <td>1</td>\n",
              "      <td>1.0</td>\n",
              "      <td>southeast</td>\n",
              "      <td>48970.24760</td>\n",
              "      <td>seniorzy</td>\n",
              "    </tr>\n",
              "    <tr>\n",
              "      <th>1241</th>\n",
              "      <td>64</td>\n",
              "      <td>male</td>\n",
              "      <td>36.960</td>\n",
              "      <td>2</td>\n",
              "      <td>1.0</td>\n",
              "      <td>southeast</td>\n",
              "      <td>49577.66240</td>\n",
              "      <td>seniorzy</td>\n",
              "    </tr>\n",
              "    <tr>\n",
              "      <th>1146</th>\n",
              "      <td>60</td>\n",
              "      <td>male</td>\n",
              "      <td>32.800</td>\n",
              "      <td>0</td>\n",
              "      <td>1.0</td>\n",
              "      <td>southwest</td>\n",
              "      <td>52590.82939</td>\n",
              "      <td>seniorzy</td>\n",
              "    </tr>\n",
              "    <tr>\n",
              "      <th>1230</th>\n",
              "      <td>52</td>\n",
              "      <td>male</td>\n",
              "      <td>34.485</td>\n",
              "      <td>3</td>\n",
              "      <td>1.0</td>\n",
              "      <td>northwest</td>\n",
              "      <td>60021.39897</td>\n",
              "      <td>seniorzy</td>\n",
              "    </tr>\n",
              "  </tbody>\n",
              "</table>\n",
              "</div>\n",
              "      <button class=\"colab-df-convert\" onclick=\"convertToInteractive('df-67b780a2-b6df-4469-843e-71a212733db8')\"\n",
              "              title=\"Convert this dataframe to an interactive table.\"\n",
              "              style=\"display:none;\">\n",
              "        \n",
              "  <svg xmlns=\"http://www.w3.org/2000/svg\" height=\"24px\"viewBox=\"0 0 24 24\"\n",
              "       width=\"24px\">\n",
              "    <path d=\"M0 0h24v24H0V0z\" fill=\"none\"/>\n",
              "    <path d=\"M18.56 5.44l.94 2.06.94-2.06 2.06-.94-2.06-.94-.94-2.06-.94 2.06-2.06.94zm-11 1L8.5 8.5l.94-2.06 2.06-.94-2.06-.94L8.5 2.5l-.94 2.06-2.06.94zm10 10l.94 2.06.94-2.06 2.06-.94-2.06-.94-.94-2.06-.94 2.06-2.06.94z\"/><path d=\"M17.41 7.96l-1.37-1.37c-.4-.4-.92-.59-1.43-.59-.52 0-1.04.2-1.43.59L10.3 9.45l-7.72 7.72c-.78.78-.78 2.05 0 2.83L4 21.41c.39.39.9.59 1.41.59.51 0 1.02-.2 1.41-.59l7.78-7.78 2.81-2.81c.8-.78.8-2.07 0-2.86zM5.41 20L4 18.59l7.72-7.72 1.47 1.35L5.41 20z\"/>\n",
              "  </svg>\n",
              "      </button>\n",
              "      \n",
              "  <style>\n",
              "    .colab-df-container {\n",
              "      display:flex;\n",
              "      flex-wrap:wrap;\n",
              "      gap: 12px;\n",
              "    }\n",
              "\n",
              "    .colab-df-convert {\n",
              "      background-color: #E8F0FE;\n",
              "      border: none;\n",
              "      border-radius: 50%;\n",
              "      cursor: pointer;\n",
              "      display: none;\n",
              "      fill: #1967D2;\n",
              "      height: 32px;\n",
              "      padding: 0 0 0 0;\n",
              "      width: 32px;\n",
              "    }\n",
              "\n",
              "    .colab-df-convert:hover {\n",
              "      background-color: #E2EBFA;\n",
              "      box-shadow: 0px 1px 2px rgba(60, 64, 67, 0.3), 0px 1px 3px 1px rgba(60, 64, 67, 0.15);\n",
              "      fill: #174EA6;\n",
              "    }\n",
              "\n",
              "    [theme=dark] .colab-df-convert {\n",
              "      background-color: #3B4455;\n",
              "      fill: #D2E3FC;\n",
              "    }\n",
              "\n",
              "    [theme=dark] .colab-df-convert:hover {\n",
              "      background-color: #434B5C;\n",
              "      box-shadow: 0px 1px 3px 1px rgba(0, 0, 0, 0.15);\n",
              "      filter: drop-shadow(0px 1px 2px rgba(0, 0, 0, 0.3));\n",
              "      fill: #FFFFFF;\n",
              "    }\n",
              "  </style>\n",
              "\n",
              "      <script>\n",
              "        const buttonEl =\n",
              "          document.querySelector('#df-67b780a2-b6df-4469-843e-71a212733db8 button.colab-df-convert');\n",
              "        buttonEl.style.display =\n",
              "          google.colab.kernel.accessAllowed ? 'block' : 'none';\n",
              "\n",
              "        async function convertToInteractive(key) {\n",
              "          const element = document.querySelector('#df-67b780a2-b6df-4469-843e-71a212733db8');\n",
              "          const dataTable =\n",
              "            await google.colab.kernel.invokeFunction('convertToInteractive',\n",
              "                                                     [key], {});\n",
              "          if (!dataTable) return;\n",
              "\n",
              "          const docLinkHtml = 'Like what you see? Visit the ' +\n",
              "            '<a target=\"_blank\" href=https://colab.research.google.com/notebooks/data_table.ipynb>data table notebook</a>'\n",
              "            + ' to learn more about interactive tables.';\n",
              "          element.innerHTML = '';\n",
              "          dataTable['output_type'] = 'display_data';\n",
              "          await google.colab.output.renderOutput(dataTable, element);\n",
              "          const docLink = document.createElement('div');\n",
              "          docLink.innerHTML = docLinkHtml;\n",
              "          element.appendChild(docLink);\n",
              "        }\n",
              "      </script>\n",
              "    </div>\n",
              "  </div>\n",
              "  "
            ]
          },
          "metadata": {},
          "execution_count": 114
        }
      ]
    },
    {
      "cell_type": "code",
      "source": [
        "seniorzy[(seniorzy['age']==52) & (seniorzy['smoker']==1)]"
      ],
      "metadata": {
        "colab": {
          "base_uri": "https://localhost:8080/",
          "height": 175
        },
        "id": "IsBgjTNqDR7G",
        "outputId": "421f0772-1923-4403-a677-e310c40fcc77"
      },
      "execution_count": 115,
      "outputs": [
        {
          "output_type": "execute_result",
          "data": {
            "text/plain": [
              "      age   sex     bmi  children  smoker     region      charges  \\\n",
              "331    52  male  27.360         0     1.0  northwest  24393.62240   \n",
              "262    52  male  24.320         3     1.0  northeast  24869.83680   \n",
              "1240   52  male  41.800         2     1.0  southeast  47269.85400   \n",
              "1230   52  male  34.485         3     1.0  northwest  60021.39897   \n",
              "\n",
              "     age_description  \n",
              "331         seniorzy  \n",
              "262         seniorzy  \n",
              "1240        seniorzy  \n",
              "1230        seniorzy  "
            ],
            "text/html": [
              "\n",
              "  <div id=\"df-6f26fca5-02c0-4db6-a377-c6ca34d7f836\">\n",
              "    <div class=\"colab-df-container\">\n",
              "      <div>\n",
              "<style scoped>\n",
              "    .dataframe tbody tr th:only-of-type {\n",
              "        vertical-align: middle;\n",
              "    }\n",
              "\n",
              "    .dataframe tbody tr th {\n",
              "        vertical-align: top;\n",
              "    }\n",
              "\n",
              "    .dataframe thead th {\n",
              "        text-align: right;\n",
              "    }\n",
              "</style>\n",
              "<table border=\"1\" class=\"dataframe\">\n",
              "  <thead>\n",
              "    <tr style=\"text-align: right;\">\n",
              "      <th></th>\n",
              "      <th>age</th>\n",
              "      <th>sex</th>\n",
              "      <th>bmi</th>\n",
              "      <th>children</th>\n",
              "      <th>smoker</th>\n",
              "      <th>region</th>\n",
              "      <th>charges</th>\n",
              "      <th>age_description</th>\n",
              "    </tr>\n",
              "  </thead>\n",
              "  <tbody>\n",
              "    <tr>\n",
              "      <th>331</th>\n",
              "      <td>52</td>\n",
              "      <td>male</td>\n",
              "      <td>27.360</td>\n",
              "      <td>0</td>\n",
              "      <td>1.0</td>\n",
              "      <td>northwest</td>\n",
              "      <td>24393.62240</td>\n",
              "      <td>seniorzy</td>\n",
              "    </tr>\n",
              "    <tr>\n",
              "      <th>262</th>\n",
              "      <td>52</td>\n",
              "      <td>male</td>\n",
              "      <td>24.320</td>\n",
              "      <td>3</td>\n",
              "      <td>1.0</td>\n",
              "      <td>northeast</td>\n",
              "      <td>24869.83680</td>\n",
              "      <td>seniorzy</td>\n",
              "    </tr>\n",
              "    <tr>\n",
              "      <th>1240</th>\n",
              "      <td>52</td>\n",
              "      <td>male</td>\n",
              "      <td>41.800</td>\n",
              "      <td>2</td>\n",
              "      <td>1.0</td>\n",
              "      <td>southeast</td>\n",
              "      <td>47269.85400</td>\n",
              "      <td>seniorzy</td>\n",
              "    </tr>\n",
              "    <tr>\n",
              "      <th>1230</th>\n",
              "      <td>52</td>\n",
              "      <td>male</td>\n",
              "      <td>34.485</td>\n",
              "      <td>3</td>\n",
              "      <td>1.0</td>\n",
              "      <td>northwest</td>\n",
              "      <td>60021.39897</td>\n",
              "      <td>seniorzy</td>\n",
              "    </tr>\n",
              "  </tbody>\n",
              "</table>\n",
              "</div>\n",
              "      <button class=\"colab-df-convert\" onclick=\"convertToInteractive('df-6f26fca5-02c0-4db6-a377-c6ca34d7f836')\"\n",
              "              title=\"Convert this dataframe to an interactive table.\"\n",
              "              style=\"display:none;\">\n",
              "        \n",
              "  <svg xmlns=\"http://www.w3.org/2000/svg\" height=\"24px\"viewBox=\"0 0 24 24\"\n",
              "       width=\"24px\">\n",
              "    <path d=\"M0 0h24v24H0V0z\" fill=\"none\"/>\n",
              "    <path d=\"M18.56 5.44l.94 2.06.94-2.06 2.06-.94-2.06-.94-.94-2.06-.94 2.06-2.06.94zm-11 1L8.5 8.5l.94-2.06 2.06-.94-2.06-.94L8.5 2.5l-.94 2.06-2.06.94zm10 10l.94 2.06.94-2.06 2.06-.94-2.06-.94-.94-2.06-.94 2.06-2.06.94z\"/><path d=\"M17.41 7.96l-1.37-1.37c-.4-.4-.92-.59-1.43-.59-.52 0-1.04.2-1.43.59L10.3 9.45l-7.72 7.72c-.78.78-.78 2.05 0 2.83L4 21.41c.39.39.9.59 1.41.59.51 0 1.02-.2 1.41-.59l7.78-7.78 2.81-2.81c.8-.78.8-2.07 0-2.86zM5.41 20L4 18.59l7.72-7.72 1.47 1.35L5.41 20z\"/>\n",
              "  </svg>\n",
              "      </button>\n",
              "      \n",
              "  <style>\n",
              "    .colab-df-container {\n",
              "      display:flex;\n",
              "      flex-wrap:wrap;\n",
              "      gap: 12px;\n",
              "    }\n",
              "\n",
              "    .colab-df-convert {\n",
              "      background-color: #E8F0FE;\n",
              "      border: none;\n",
              "      border-radius: 50%;\n",
              "      cursor: pointer;\n",
              "      display: none;\n",
              "      fill: #1967D2;\n",
              "      height: 32px;\n",
              "      padding: 0 0 0 0;\n",
              "      width: 32px;\n",
              "    }\n",
              "\n",
              "    .colab-df-convert:hover {\n",
              "      background-color: #E2EBFA;\n",
              "      box-shadow: 0px 1px 2px rgba(60, 64, 67, 0.3), 0px 1px 3px 1px rgba(60, 64, 67, 0.15);\n",
              "      fill: #174EA6;\n",
              "    }\n",
              "\n",
              "    [theme=dark] .colab-df-convert {\n",
              "      background-color: #3B4455;\n",
              "      fill: #D2E3FC;\n",
              "    }\n",
              "\n",
              "    [theme=dark] .colab-df-convert:hover {\n",
              "      background-color: #434B5C;\n",
              "      box-shadow: 0px 1px 3px 1px rgba(0, 0, 0, 0.15);\n",
              "      filter: drop-shadow(0px 1px 2px rgba(0, 0, 0, 0.3));\n",
              "      fill: #FFFFFF;\n",
              "    }\n",
              "  </style>\n",
              "\n",
              "      <script>\n",
              "        const buttonEl =\n",
              "          document.querySelector('#df-6f26fca5-02c0-4db6-a377-c6ca34d7f836 button.colab-df-convert');\n",
              "        buttonEl.style.display =\n",
              "          google.colab.kernel.accessAllowed ? 'block' : 'none';\n",
              "\n",
              "        async function convertToInteractive(key) {\n",
              "          const element = document.querySelector('#df-6f26fca5-02c0-4db6-a377-c6ca34d7f836');\n",
              "          const dataTable =\n",
              "            await google.colab.kernel.invokeFunction('convertToInteractive',\n",
              "                                                     [key], {});\n",
              "          if (!dataTable) return;\n",
              "\n",
              "          const docLinkHtml = 'Like what you see? Visit the ' +\n",
              "            '<a target=\"_blank\" href=https://colab.research.google.com/notebooks/data_table.ipynb>data table notebook</a>'\n",
              "            + ' to learn more about interactive tables.';\n",
              "          element.innerHTML = '';\n",
              "          dataTable['output_type'] = 'display_data';\n",
              "          await google.colab.output.renderOutput(dataTable, element);\n",
              "          const docLink = document.createElement('div');\n",
              "          docLink.innerHTML = docLinkHtml;\n",
              "          element.appendChild(docLink);\n",
              "        }\n",
              "      </script>\n",
              "    </div>\n",
              "  </div>\n",
              "  "
            ]
          },
          "metadata": {},
          "execution_count": 115
        }
      ]
    },
    {
      "cell_type": "markdown",
      "source": [
        "Po powyższych zestawieniach widać, że wysokość składki mężczyzny z indeksem 1230 jest znacznie wyższa niż męzczyzn w tym samym wieku, również palących.\n"
      ],
      "metadata": {
        "id": "-JxiJbA6FEsN"
      }
    },
    {
      "cell_type": "markdown",
      "source": [
        "#Analiza wysokości ubezpieczenia w stosunku do ilości posiadanych dzieci oraz regionu pochodzenia"
      ],
      "metadata": {
        "id": "VhNY_1-X13Bx"
      }
    },
    {
      "cell_type": "code",
      "source": [
        "df_male.groupby('children', as_index=False)['charges'].mean()"
      ],
      "metadata": {
        "colab": {
          "base_uri": "https://localhost:8080/",
          "height": 238
        },
        "id": "XFyC5-vu1_3X",
        "outputId": "e3a5b84b-a9e2-4968-d094-4db61ccee30e"
      },
      "execution_count": 116,
      "outputs": [
        {
          "output_type": "execute_result",
          "data": {
            "text/plain": [
              "   children       charges\n",
              "0         0  12832.696736\n",
              "1         1  13273.522458\n",
              "2         2  16187.095325\n",
              "3         3  16789.167419\n",
              "4         4  13782.284829\n",
              "5         5   7931.658310"
            ],
            "text/html": [
              "\n",
              "  <div id=\"df-f40fbf4d-c682-4a97-93d5-566afc4fab0f\">\n",
              "    <div class=\"colab-df-container\">\n",
              "      <div>\n",
              "<style scoped>\n",
              "    .dataframe tbody tr th:only-of-type {\n",
              "        vertical-align: middle;\n",
              "    }\n",
              "\n",
              "    .dataframe tbody tr th {\n",
              "        vertical-align: top;\n",
              "    }\n",
              "\n",
              "    .dataframe thead th {\n",
              "        text-align: right;\n",
              "    }\n",
              "</style>\n",
              "<table border=\"1\" class=\"dataframe\">\n",
              "  <thead>\n",
              "    <tr style=\"text-align: right;\">\n",
              "      <th></th>\n",
              "      <th>children</th>\n",
              "      <th>charges</th>\n",
              "    </tr>\n",
              "  </thead>\n",
              "  <tbody>\n",
              "    <tr>\n",
              "      <th>0</th>\n",
              "      <td>0</td>\n",
              "      <td>12832.696736</td>\n",
              "    </tr>\n",
              "    <tr>\n",
              "      <th>1</th>\n",
              "      <td>1</td>\n",
              "      <td>13273.522458</td>\n",
              "    </tr>\n",
              "    <tr>\n",
              "      <th>2</th>\n",
              "      <td>2</td>\n",
              "      <td>16187.095325</td>\n",
              "    </tr>\n",
              "    <tr>\n",
              "      <th>3</th>\n",
              "      <td>3</td>\n",
              "      <td>16789.167419</td>\n",
              "    </tr>\n",
              "    <tr>\n",
              "      <th>4</th>\n",
              "      <td>4</td>\n",
              "      <td>13782.284829</td>\n",
              "    </tr>\n",
              "    <tr>\n",
              "      <th>5</th>\n",
              "      <td>5</td>\n",
              "      <td>7931.658310</td>\n",
              "    </tr>\n",
              "  </tbody>\n",
              "</table>\n",
              "</div>\n",
              "      <button class=\"colab-df-convert\" onclick=\"convertToInteractive('df-f40fbf4d-c682-4a97-93d5-566afc4fab0f')\"\n",
              "              title=\"Convert this dataframe to an interactive table.\"\n",
              "              style=\"display:none;\">\n",
              "        \n",
              "  <svg xmlns=\"http://www.w3.org/2000/svg\" height=\"24px\"viewBox=\"0 0 24 24\"\n",
              "       width=\"24px\">\n",
              "    <path d=\"M0 0h24v24H0V0z\" fill=\"none\"/>\n",
              "    <path d=\"M18.56 5.44l.94 2.06.94-2.06 2.06-.94-2.06-.94-.94-2.06-.94 2.06-2.06.94zm-11 1L8.5 8.5l.94-2.06 2.06-.94-2.06-.94L8.5 2.5l-.94 2.06-2.06.94zm10 10l.94 2.06.94-2.06 2.06-.94-2.06-.94-.94-2.06-.94 2.06-2.06.94z\"/><path d=\"M17.41 7.96l-1.37-1.37c-.4-.4-.92-.59-1.43-.59-.52 0-1.04.2-1.43.59L10.3 9.45l-7.72 7.72c-.78.78-.78 2.05 0 2.83L4 21.41c.39.39.9.59 1.41.59.51 0 1.02-.2 1.41-.59l7.78-7.78 2.81-2.81c.8-.78.8-2.07 0-2.86zM5.41 20L4 18.59l7.72-7.72 1.47 1.35L5.41 20z\"/>\n",
              "  </svg>\n",
              "      </button>\n",
              "      \n",
              "  <style>\n",
              "    .colab-df-container {\n",
              "      display:flex;\n",
              "      flex-wrap:wrap;\n",
              "      gap: 12px;\n",
              "    }\n",
              "\n",
              "    .colab-df-convert {\n",
              "      background-color: #E8F0FE;\n",
              "      border: none;\n",
              "      border-radius: 50%;\n",
              "      cursor: pointer;\n",
              "      display: none;\n",
              "      fill: #1967D2;\n",
              "      height: 32px;\n",
              "      padding: 0 0 0 0;\n",
              "      width: 32px;\n",
              "    }\n",
              "\n",
              "    .colab-df-convert:hover {\n",
              "      background-color: #E2EBFA;\n",
              "      box-shadow: 0px 1px 2px rgba(60, 64, 67, 0.3), 0px 1px 3px 1px rgba(60, 64, 67, 0.15);\n",
              "      fill: #174EA6;\n",
              "    }\n",
              "\n",
              "    [theme=dark] .colab-df-convert {\n",
              "      background-color: #3B4455;\n",
              "      fill: #D2E3FC;\n",
              "    }\n",
              "\n",
              "    [theme=dark] .colab-df-convert:hover {\n",
              "      background-color: #434B5C;\n",
              "      box-shadow: 0px 1px 3px 1px rgba(0, 0, 0, 0.15);\n",
              "      filter: drop-shadow(0px 1px 2px rgba(0, 0, 0, 0.3));\n",
              "      fill: #FFFFFF;\n",
              "    }\n",
              "  </style>\n",
              "\n",
              "      <script>\n",
              "        const buttonEl =\n",
              "          document.querySelector('#df-f40fbf4d-c682-4a97-93d5-566afc4fab0f button.colab-df-convert');\n",
              "        buttonEl.style.display =\n",
              "          google.colab.kernel.accessAllowed ? 'block' : 'none';\n",
              "\n",
              "        async function convertToInteractive(key) {\n",
              "          const element = document.querySelector('#df-f40fbf4d-c682-4a97-93d5-566afc4fab0f');\n",
              "          const dataTable =\n",
              "            await google.colab.kernel.invokeFunction('convertToInteractive',\n",
              "                                                     [key], {});\n",
              "          if (!dataTable) return;\n",
              "\n",
              "          const docLinkHtml = 'Like what you see? Visit the ' +\n",
              "            '<a target=\"_blank\" href=https://colab.research.google.com/notebooks/data_table.ipynb>data table notebook</a>'\n",
              "            + ' to learn more about interactive tables.';\n",
              "          element.innerHTML = '';\n",
              "          dataTable['output_type'] = 'display_data';\n",
              "          await google.colab.output.renderOutput(dataTable, element);\n",
              "          const docLink = document.createElement('div');\n",
              "          docLink.innerHTML = docLinkHtml;\n",
              "          element.appendChild(docLink);\n",
              "        }\n",
              "      </script>\n",
              "    </div>\n",
              "  </div>\n",
              "  "
            ]
          },
          "metadata": {},
          "execution_count": 116
        }
      ]
    },
    {
      "cell_type": "code",
      "source": [
        "sns.lmplot(x='children', y='charges', data=df_male)"
      ],
      "metadata": {
        "colab": {
          "base_uri": "https://localhost:8080/",
          "height": 386
        },
        "id": "g263OghVS-1-",
        "outputId": "5fa556f5-5680-43a8-9d6e-b961fa67d401"
      },
      "execution_count": 161,
      "outputs": [
        {
          "output_type": "execute_result",
          "data": {
            "text/plain": [
              "<seaborn.axisgrid.FacetGrid at 0x7f921362d550>"
            ]
          },
          "metadata": {},
          "execution_count": 161
        },
        {
          "output_type": "display_data",
          "data": {
            "text/plain": [
              "<Figure size 360x360 with 1 Axes>"
            ],
            "image/png": "[encoded data removed]"
          },
          "metadata": {}
        }
      ]
    },
    {
      "cell_type": "markdown",
      "source": [
        "Z powyższej tabeli wynika, że ilość dzieci nie ma wpływu na wysokość ubezpieczenia."
      ],
      "metadata": {
        "id": "32IZzDA42n_5"
      }
    },
    {
      "cell_type": "code",
      "source": [
        "df_male.groupby('region', as_index=False)['charges'].mean()"
      ],
      "metadata": {
        "colab": {
          "base_uri": "https://localhost:8080/",
          "height": 175
        },
        "id": "bfH-hPmJFbQt",
        "outputId": "50f70d5d-97f0-47f6-f0ee-ebbb06b07012"
      },
      "execution_count": 117,
      "outputs": [
        {
          "output_type": "execute_result",
          "data": {
            "text/plain": [
              "      region       charges\n",
              "0  northeast  13854.005374\n",
              "1  northwest  12354.119575\n",
              "2  southeast  15879.617173\n",
              "3  southwest  13412.883576"
            ],
            "text/html": [
              "\n",
              "  <div id=\"df-ef5cbe38-d10e-4682-82b4-193e2f914b14\">\n",
              "    <div class=\"colab-df-container\">\n",
              "      <div>\n",
              "<style scoped>\n",
              "    .dataframe tbody tr th:only-of-type {\n",
              "        vertical-align: middle;\n",
              "    }\n",
              "\n",
              "    .dataframe tbody tr th {\n",
              "        vertical-align: top;\n",
              "    }\n",
              "\n",
              "    .dataframe thead th {\n",
              "        text-align: right;\n",
              "    }\n",
              "</style>\n",
              "<table border=\"1\" class=\"dataframe\">\n",
              "  <thead>\n",
              "    <tr style=\"text-align: right;\">\n",
              "      <th></th>\n",
              "      <th>region</th>\n",
              "      <th>charges</th>\n",
              "    </tr>\n",
              "  </thead>\n",
              "  <tbody>\n",
              "    <tr>\n",
              "      <th>0</th>\n",
              "      <td>northeast</td>\n",
              "      <td>13854.005374</td>\n",
              "    </tr>\n",
              "    <tr>\n",
              "      <th>1</th>\n",
              "      <td>northwest</td>\n",
              "      <td>12354.119575</td>\n",
              "    </tr>\n",
              "    <tr>\n",
              "      <th>2</th>\n",
              "      <td>southeast</td>\n",
              "      <td>15879.617173</td>\n",
              "    </tr>\n",
              "    <tr>\n",
              "      <th>3</th>\n",
              "      <td>southwest</td>\n",
              "      <td>13412.883576</td>\n",
              "    </tr>\n",
              "  </tbody>\n",
              "</table>\n",
              "</div>\n",
              "      <button class=\"colab-df-convert\" onclick=\"convertToInteractive('df-ef5cbe38-d10e-4682-82b4-193e2f914b14')\"\n",
              "              title=\"Convert this dataframe to an interactive table.\"\n",
              "              style=\"display:none;\">\n",
              "        \n",
              "  <svg xmlns=\"http://www.w3.org/2000/svg\" height=\"24px\"viewBox=\"0 0 24 24\"\n",
              "       width=\"24px\">\n",
              "    <path d=\"M0 0h24v24H0V0z\" fill=\"none\"/>\n",
              "    <path d=\"M18.56 5.44l.94 2.06.94-2.06 2.06-.94-2.06-.94-.94-2.06-.94 2.06-2.06.94zm-11 1L8.5 8.5l.94-2.06 2.06-.94-2.06-.94L8.5 2.5l-.94 2.06-2.06.94zm10 10l.94 2.06.94-2.06 2.06-.94-2.06-.94-.94-2.06-.94 2.06-2.06.94z\"/><path d=\"M17.41 7.96l-1.37-1.37c-.4-.4-.92-.59-1.43-.59-.52 0-1.04.2-1.43.59L10.3 9.45l-7.72 7.72c-.78.78-.78 2.05 0 2.83L4 21.41c.39.39.9.59 1.41.59.51 0 1.02-.2 1.41-.59l7.78-7.78 2.81-2.81c.8-.78.8-2.07 0-2.86zM5.41 20L4 18.59l7.72-7.72 1.47 1.35L5.41 20z\"/>\n",
              "  </svg>\n",
              "      </button>\n",
              "      \n",
              "  <style>\n",
              "    .colab-df-container {\n",
              "      display:flex;\n",
              "      flex-wrap:wrap;\n",
              "      gap: 12px;\n",
              "    }\n",
              "\n",
              "    .colab-df-convert {\n",
              "      background-color: #E8F0FE;\n",
              "      border: none;\n",
              "      border-radius: 50%;\n",
              "      cursor: pointer;\n",
              "      display: none;\n",
              "      fill: #1967D2;\n",
              "      height: 32px;\n",
              "      padding: 0 0 0 0;\n",
              "      width: 32px;\n",
              "    }\n",
              "\n",
              "    .colab-df-convert:hover {\n",
              "      background-color: #E2EBFA;\n",
              "      box-shadow: 0px 1px 2px rgba(60, 64, 67, 0.3), 0px 1px 3px 1px rgba(60, 64, 67, 0.15);\n",
              "      fill: #174EA6;\n",
              "    }\n",
              "\n",
              "    [theme=dark] .colab-df-convert {\n",
              "      background-color: #3B4455;\n",
              "      fill: #D2E3FC;\n",
              "    }\n",
              "\n",
              "    [theme=dark] .colab-df-convert:hover {\n",
              "      background-color: #434B5C;\n",
              "      box-shadow: 0px 1px 3px 1px rgba(0, 0, 0, 0.15);\n",
              "      filter: drop-shadow(0px 1px 2px rgba(0, 0, 0, 0.3));\n",
              "      fill: #FFFFFF;\n",
              "    }\n",
              "  </style>\n",
              "\n",
              "      <script>\n",
              "        const buttonEl =\n",
              "          document.querySelector('#df-ef5cbe38-d10e-4682-82b4-193e2f914b14 button.colab-df-convert');\n",
              "        buttonEl.style.display =\n",
              "          google.colab.kernel.accessAllowed ? 'block' : 'none';\n",
              "\n",
              "        async function convertToInteractive(key) {\n",
              "          const element = document.querySelector('#df-ef5cbe38-d10e-4682-82b4-193e2f914b14');\n",
              "          const dataTable =\n",
              "            await google.colab.kernel.invokeFunction('convertToInteractive',\n",
              "                                                     [key], {});\n",
              "          if (!dataTable) return;\n",
              "\n",
              "          const docLinkHtml = 'Like what you see? Visit the ' +\n",
              "            '<a target=\"_blank\" href=https://colab.research.google.com/notebooks/data_table.ipynb>data table notebook</a>'\n",
              "            + ' to learn more about interactive tables.';\n",
              "          element.innerHTML = '';\n",
              "          dataTable['output_type'] = 'display_data';\n",
              "          await google.colab.output.renderOutput(dataTable, element);\n",
              "          const docLink = document.createElement('div');\n",
              "          docLink.innerHTML = docLinkHtml;\n",
              "          element.appendChild(docLink);\n",
              "        }\n",
              "      </script>\n",
              "    </div>\n",
              "  </div>\n",
              "  "
            ]
          },
          "metadata": {},
          "execution_count": 117
        }
      ]
    },
    {
      "cell_type": "markdown",
      "source": [
        "Z powyższej tabeli wynika, że region pochodzenia nie ma wpływu na wysokość ubezpieczenia."
      ],
      "metadata": {
        "id": "zI4Zv72GFYro"
      }
    },
    {
      "cell_type": "markdown",
      "source": [
        "#Analiza wysokości ubezpieczenia w stosunku do bmi"
      ],
      "metadata": {
        "id": "A5VolQDhCcXW"
      }
    },
    {
      "cell_type": "code",
      "source": [
        "df_male.describe()"
      ],
      "metadata": {
        "colab": {
          "base_uri": "https://localhost:8080/",
          "height": 300
        },
        "id": "Fnr86fUvMLyq",
        "outputId": "def37be1-96d0-457c-f3bb-8fdcf912950d"
      },
      "execution_count": 118,
      "outputs": [
        {
          "output_type": "execute_result",
          "data": {
            "text/plain": [
              "              age         bmi    children      smoker       charges\n",
              "count  676.000000  676.000000  676.000000  676.000000    676.000000\n",
              "mean    38.917160   30.943129    1.115385    0.235207  13956.751178\n",
              "std     14.050141    6.140435    1.218986    0.424442  12971.025915\n",
              "min     18.000000   15.960000    0.000000    0.000000   1121.873900\n",
              "25%     26.000000   26.410000    0.000000    0.000000   4619.134000\n",
              "50%     39.000000   30.687500    1.000000    0.000000   9369.615750\n",
              "75%     51.000000   34.992500    2.000000    0.000000  18989.590250\n",
              "max     64.000000   53.130000    5.000000    1.000000  62592.873090"
            ],
            "text/html": [
              "\n",
              "  <div id=\"df-f3415cfa-f1b2-4309-aa5a-1b69697307d1\">\n",
              "    <div class=\"colab-df-container\">\n",
              "      <div>\n",
              "<style scoped>\n",
              "    .dataframe tbody tr th:only-of-type {\n",
              "        vertical-align: middle;\n",
              "    }\n",
              "\n",
              "    .dataframe tbody tr th {\n",
              "        vertical-align: top;\n",
              "    }\n",
              "\n",
              "    .dataframe thead th {\n",
              "        text-align: right;\n",
              "    }\n",
              "</style>\n",
              "<table border=\"1\" class=\"dataframe\">\n",
              "  <thead>\n",
              "    <tr style=\"text-align: right;\">\n",
              "      <th></th>\n",
              "      <th>age</th>\n",
              "      <th>bmi</th>\n",
              "      <th>children</th>\n",
              "      <th>smoker</th>\n",
              "      <th>charges</th>\n",
              "    </tr>\n",
              "  </thead>\n",
              "  <tbody>\n",
              "    <tr>\n",
              "      <th>count</th>\n",
              "      <td>676.000000</td>\n",
              "      <td>676.000000</td>\n",
              "      <td>676.000000</td>\n",
              "      <td>676.000000</td>\n",
              "      <td>676.000000</td>\n",
              "    </tr>\n",
              "    <tr>\n",
              "      <th>mean</th>\n",
              "      <td>38.917160</td>\n",
              "      <td>30.943129</td>\n",
              "      <td>1.115385</td>\n",
              "      <td>0.235207</td>\n",
              "      <td>13956.751178</td>\n",
              "    </tr>\n",
              "    <tr>\n",
              "      <th>std</th>\n",
              "      <td>14.050141</td>\n",
              "      <td>6.140435</td>\n",
              "      <td>1.218986</td>\n",
              "      <td>0.424442</td>\n",
              "      <td>12971.025915</td>\n",
              "    </tr>\n",
              "    <tr>\n",
              "      <th>min</th>\n",
              "      <td>18.000000</td>\n",
              "      <td>15.960000</td>\n",
              "      <td>0.000000</td>\n",
              "      <td>0.000000</td>\n",
              "      <td>1121.873900</td>\n",
              "    </tr>\n",
              "    <tr>\n",
              "      <th>25%</th>\n",
              "      <td>26.000000</td>\n",
              "      <td>26.410000</td>\n",
              "      <td>0.000000</td>\n",
              "      <td>0.000000</td>\n",
              "      <td>4619.134000</td>\n",
              "    </tr>\n",
              "    <tr>\n",
              "      <th>50%</th>\n",
              "      <td>39.000000</td>\n",
              "      <td>30.687500</td>\n",
              "      <td>1.000000</td>\n",
              "      <td>0.000000</td>\n",
              "      <td>9369.615750</td>\n",
              "    </tr>\n",
              "    <tr>\n",
              "      <th>75%</th>\n",
              "      <td>51.000000</td>\n",
              "      <td>34.992500</td>\n",
              "      <td>2.000000</td>\n",
              "      <td>0.000000</td>\n",
              "      <td>18989.590250</td>\n",
              "    </tr>\n",
              "    <tr>\n",
              "      <th>max</th>\n",
              "      <td>64.000000</td>\n",
              "      <td>53.130000</td>\n",
              "      <td>5.000000</td>\n",
              "      <td>1.000000</td>\n",
              "      <td>62592.873090</td>\n",
              "    </tr>\n",
              "  </tbody>\n",
              "</table>\n",
              "</div>\n",
              "      <button class=\"colab-df-convert\" onclick=\"convertToInteractive('df-f3415cfa-f1b2-4309-aa5a-1b69697307d1')\"\n",
              "              title=\"Convert this dataframe to an interactive table.\"\n",
              "              style=\"display:none;\">\n",
              "        \n",
              "  <svg xmlns=\"http://www.w3.org/2000/svg\" height=\"24px\"viewBox=\"0 0 24 24\"\n",
              "       width=\"24px\">\n",
              "    <path d=\"M0 0h24v24H0V0z\" fill=\"none\"/>\n",
              "    <path d=\"M18.56 5.44l.94 2.06.94-2.06 2.06-.94-2.06-.94-.94-2.06-.94 2.06-2.06.94zm-11 1L8.5 8.5l.94-2.06 2.06-.94-2.06-.94L8.5 2.5l-.94 2.06-2.06.94zm10 10l.94 2.06.94-2.06 2.06-.94-2.06-.94-.94-2.06-.94 2.06-2.06.94z\"/><path d=\"M17.41 7.96l-1.37-1.37c-.4-.4-.92-.59-1.43-.59-.52 0-1.04.2-1.43.59L10.3 9.45l-7.72 7.72c-.78.78-.78 2.05 0 2.83L4 21.41c.39.39.9.59 1.41.59.51 0 1.02-.2 1.41-.59l7.78-7.78 2.81-2.81c.8-.78.8-2.07 0-2.86zM5.41 20L4 18.59l7.72-7.72 1.47 1.35L5.41 20z\"/>\n",
              "  </svg>\n",
              "      </button>\n",
              "      \n",
              "  <style>\n",
              "    .colab-df-container {\n",
              "      display:flex;\n",
              "      flex-wrap:wrap;\n",
              "      gap: 12px;\n",
              "    }\n",
              "\n",
              "    .colab-df-convert {\n",
              "      background-color: #E8F0FE;\n",
              "      border: none;\n",
              "      border-radius: 50%;\n",
              "      cursor: pointer;\n",
              "      display: none;\n",
              "      fill: #1967D2;\n",
              "      height: 32px;\n",
              "      padding: 0 0 0 0;\n",
              "      width: 32px;\n",
              "    }\n",
              "\n",
              "    .colab-df-convert:hover {\n",
              "      background-color: #E2EBFA;\n",
              "      box-shadow: 0px 1px 2px rgba(60, 64, 67, 0.3), 0px 1px 3px 1px rgba(60, 64, 67, 0.15);\n",
              "      fill: #174EA6;\n",
              "    }\n",
              "\n",
              "    [theme=dark] .colab-df-convert {\n",
              "      background-color: #3B4455;\n",
              "      fill: #D2E3FC;\n",
              "    }\n",
              "\n",
              "    [theme=dark] .colab-df-convert:hover {\n",
              "      background-color: #434B5C;\n",
              "      box-shadow: 0px 1px 3px 1px rgba(0, 0, 0, 0.15);\n",
              "      filter: drop-shadow(0px 1px 2px rgba(0, 0, 0, 0.3));\n",
              "      fill: #FFFFFF;\n",
              "    }\n",
              "  </style>\n",
              "\n",
              "      <script>\n",
              "        const buttonEl =\n",
              "          document.querySelector('#df-f3415cfa-f1b2-4309-aa5a-1b69697307d1 button.colab-df-convert');\n",
              "        buttonEl.style.display =\n",
              "          google.colab.kernel.accessAllowed ? 'block' : 'none';\n",
              "\n",
              "        async function convertToInteractive(key) {\n",
              "          const element = document.querySelector('#df-f3415cfa-f1b2-4309-aa5a-1b69697307d1');\n",
              "          const dataTable =\n",
              "            await google.colab.kernel.invokeFunction('convertToInteractive',\n",
              "                                                     [key], {});\n",
              "          if (!dataTable) return;\n",
              "\n",
              "          const docLinkHtml = 'Like what you see? Visit the ' +\n",
              "            '<a target=\"_blank\" href=https://colab.research.google.com/notebooks/data_table.ipynb>data table notebook</a>'\n",
              "            + ' to learn more about interactive tables.';\n",
              "          element.innerHTML = '';\n",
              "          dataTable['output_type'] = 'display_data';\n",
              "          await google.colab.output.renderOutput(dataTable, element);\n",
              "          const docLink = document.createElement('div');\n",
              "          docLink.innerHTML = docLinkHtml;\n",
              "          element.appendChild(docLink);\n",
              "        }\n",
              "      </script>\n",
              "    </div>\n",
              "  </div>\n",
              "  "
            ]
          },
          "metadata": {},
          "execution_count": 118
        }
      ]
    },
    {
      "cell_type": "code",
      "source": [
        "df_male.head()"
      ],
      "metadata": {
        "colab": {
          "base_uri": "https://localhost:8080/",
          "height": 206
        },
        "id": "q-XqQADVJ-Eh",
        "outputId": "cf259fe2-a2bf-42e3-a73c-5850237df45f"
      },
      "execution_count": 119,
      "outputs": [
        {
          "output_type": "execute_result",
          "data": {
            "text/plain": [
              "   age   sex     bmi  children  smoker     region      charges age_description\n",
              "1   18  male  33.770         1     0.0  southeast   1725.55230  młodzi_dorośli\n",
              "2   28  male  33.000         3     0.0  southeast   4449.46200  starsi_dorośli\n",
              "3   33  male  22.705         0     0.0  northwest  21984.47061  starsi_dorośli\n",
              "4   32  male  28.880         0     0.0  northwest   3866.85520  starsi_dorośli\n",
              "8   37  male  29.830         2     0.0  northeast   6406.41070     średni_wiek"
            ],
            "text/html": [
              "\n",
              "  <div id=\"df-984346ec-66b5-4245-97c3-6487aafc9f06\">\n",
              "    <div class=\"colab-df-container\">\n",
              "      <div>\n",
              "<style scoped>\n",
              "    .dataframe tbody tr th:only-of-type {\n",
              "        vertical-align: middle;\n",
              "    }\n",
              "\n",
              "    .dataframe tbody tr th {\n",
              "        vertical-align: top;\n",
              "    }\n",
              "\n",
              "    .dataframe thead th {\n",
              "        text-align: right;\n",
              "    }\n",
              "</style>\n",
              "<table border=\"1\" class=\"dataframe\">\n",
              "  <thead>\n",
              "    <tr style=\"text-align: right;\">\n",
              "      <th></th>\n",
              "      <th>age</th>\n",
              "      <th>sex</th>\n",
              "      <th>bmi</th>\n",
              "      <th>children</th>\n",
              "      <th>smoker</th>\n",
              "      <th>region</th>\n",
              "      <th>charges</th>\n",
              "      <th>age_description</th>\n",
              "    </tr>\n",
              "  </thead>\n",
              "  <tbody>\n",
              "    <tr>\n",
              "      <th>1</th>\n",
              "      <td>18</td>\n",
              "      <td>male</td>\n",
              "      <td>33.770</td>\n",
              "      <td>1</td>\n",
              "      <td>0.0</td>\n",
              "      <td>southeast</td>\n",
              "      <td>1725.55230</td>\n",
              "      <td>młodzi_dorośli</td>\n",
              "    </tr>\n",
              "    <tr>\n",
              "      <th>2</th>\n",
              "      <td>28</td>\n",
              "      <td>male</td>\n",
              "      <td>33.000</td>\n",
              "      <td>3</td>\n",
              "      <td>0.0</td>\n",
              "      <td>southeast</td>\n",
              "      <td>4449.46200</td>\n",
              "      <td>starsi_dorośli</td>\n",
              "    </tr>\n",
              "    <tr>\n",
              "      <th>3</th>\n",
              "      <td>33</td>\n",
              "      <td>male</td>\n",
              "      <td>22.705</td>\n",
              "      <td>0</td>\n",
              "      <td>0.0</td>\n",
              "      <td>northwest</td>\n",
              "      <td>21984.47061</td>\n",
              "      <td>starsi_dorośli</td>\n",
              "    </tr>\n",
              "    <tr>\n",
              "      <th>4</th>\n",
              "      <td>32</td>\n",
              "      <td>male</td>\n",
              "      <td>28.880</td>\n",
              "      <td>0</td>\n",
              "      <td>0.0</td>\n",
              "      <td>northwest</td>\n",
              "      <td>3866.85520</td>\n",
              "      <td>starsi_dorośli</td>\n",
              "    </tr>\n",
              "    <tr>\n",
              "      <th>8</th>\n",
              "      <td>37</td>\n",
              "      <td>male</td>\n",
              "      <td>29.830</td>\n",
              "      <td>2</td>\n",
              "      <td>0.0</td>\n",
              "      <td>northeast</td>\n",
              "      <td>6406.41070</td>\n",
              "      <td>średni_wiek</td>\n",
              "    </tr>\n",
              "  </tbody>\n",
              "</table>\n",
              "</div>\n",
              "      <button class=\"colab-df-convert\" onclick=\"convertToInteractive('df-984346ec-66b5-4245-97c3-6487aafc9f06')\"\n",
              "              title=\"Convert this dataframe to an interactive table.\"\n",
              "              style=\"display:none;\">\n",
              "        \n",
              "  <svg xmlns=\"http://www.w3.org/2000/svg\" height=\"24px\"viewBox=\"0 0 24 24\"\n",
              "       width=\"24px\">\n",
              "    <path d=\"M0 0h24v24H0V0z\" fill=\"none\"/>\n",
              "    <path d=\"M18.56 5.44l.94 2.06.94-2.06 2.06-.94-2.06-.94-.94-2.06-.94 2.06-2.06.94zm-11 1L8.5 8.5l.94-2.06 2.06-.94-2.06-.94L8.5 2.5l-.94 2.06-2.06.94zm10 10l.94 2.06.94-2.06 2.06-.94-2.06-.94-.94-2.06-.94 2.06-2.06.94z\"/><path d=\"M17.41 7.96l-1.37-1.37c-.4-.4-.92-.59-1.43-.59-.52 0-1.04.2-1.43.59L10.3 9.45l-7.72 7.72c-.78.78-.78 2.05 0 2.83L4 21.41c.39.39.9.59 1.41.59.51 0 1.02-.2 1.41-.59l7.78-7.78 2.81-2.81c.8-.78.8-2.07 0-2.86zM5.41 20L4 18.59l7.72-7.72 1.47 1.35L5.41 20z\"/>\n",
              "  </svg>\n",
              "      </button>\n",
              "      \n",
              "  <style>\n",
              "    .colab-df-container {\n",
              "      display:flex;\n",
              "      flex-wrap:wrap;\n",
              "      gap: 12px;\n",
              "    }\n",
              "\n",
              "    .colab-df-convert {\n",
              "      background-color: #E8F0FE;\n",
              "      border: none;\n",
              "      border-radius: 50%;\n",
              "      cursor: pointer;\n",
              "      display: none;\n",
              "      fill: #1967D2;\n",
              "      height: 32px;\n",
              "      padding: 0 0 0 0;\n",
              "      width: 32px;\n",
              "    }\n",
              "\n",
              "    .colab-df-convert:hover {\n",
              "      background-color: #E2EBFA;\n",
              "      box-shadow: 0px 1px 2px rgba(60, 64, 67, 0.3), 0px 1px 3px 1px rgba(60, 64, 67, 0.15);\n",
              "      fill: #174EA6;\n",
              "    }\n",
              "\n",
              "    [theme=dark] .colab-df-convert {\n",
              "      background-color: #3B4455;\n",
              "      fill: #D2E3FC;\n",
              "    }\n",
              "\n",
              "    [theme=dark] .colab-df-convert:hover {\n",
              "      background-color: #434B5C;\n",
              "      box-shadow: 0px 1px 3px 1px rgba(0, 0, 0, 0.15);\n",
              "      filter: drop-shadow(0px 1px 2px rgba(0, 0, 0, 0.3));\n",
              "      fill: #FFFFFF;\n",
              "    }\n",
              "  </style>\n",
              "\n",
              "      <script>\n",
              "        const buttonEl =\n",
              "          document.querySelector('#df-984346ec-66b5-4245-97c3-6487aafc9f06 button.colab-df-convert');\n",
              "        buttonEl.style.display =\n",
              "          google.colab.kernel.accessAllowed ? 'block' : 'none';\n",
              "\n",
              "        async function convertToInteractive(key) {\n",
              "          const element = document.querySelector('#df-984346ec-66b5-4245-97c3-6487aafc9f06');\n",
              "          const dataTable =\n",
              "            await google.colab.kernel.invokeFunction('convertToInteractive',\n",
              "                                                     [key], {});\n",
              "          if (!dataTable) return;\n",
              "\n",
              "          const docLinkHtml = 'Like what you see? Visit the ' +\n",
              "            '<a target=\"_blank\" href=https://colab.research.google.com/notebooks/data_table.ipynb>data table notebook</a>'\n",
              "            + ' to learn more about interactive tables.';\n",
              "          element.innerHTML = '';\n",
              "          dataTable['output_type'] = 'display_data';\n",
              "          await google.colab.output.renderOutput(dataTable, element);\n",
              "          const docLink = document.createElement('div');\n",
              "          docLink.innerHTML = docLinkHtml;\n",
              "          element.appendChild(docLink);\n",
              "        }\n",
              "      </script>\n",
              "    </div>\n",
              "  </div>\n",
              "  "
            ]
          },
          "metadata": {},
          "execution_count": 119
        }
      ]
    },
    {
      "cell_type": "code",
      "source": [
        "df_male.reset_index(inplace = True,drop = True)"
      ],
      "metadata": {
        "id": "3WjQlmj9MvjC"
      },
      "execution_count": 120,
      "outputs": []
    },
    {
      "cell_type": "code",
      "source": [
        "description = []\n",
        "for i in range(len(df_male)):\n",
        "  if df_male['bmi'][i]<=18.5:\n",
        "    description.append('niedowaga')\n",
        "  elif df_male['bmi'][i]>18.5 and df_male['bmi'][i]<=25:\n",
        "    description.append('norma')\n",
        "  elif df_male['bmi'][i]>=25 and df_male['bmi'][i]<=35:\n",
        "    description.append('nadwaga')\n",
        "  else:\n",
        "    description.append('otyłość')"
      ],
      "metadata": {
        "id": "IYirblybIAS9"
      },
      "execution_count": 121,
      "outputs": []
    },
    {
      "cell_type": "code",
      "source": [
        "description"
      ],
      "metadata": {
        "id": "Sr67_WrNM0CY"
      },
      "execution_count": null,
      "outputs": []
    },
    {
      "cell_type": "code",
      "source": [
        "df_male['bmi_description']=description"
      ],
      "metadata": {
        "colab": {
          "base_uri": "https://localhost:8080/"
        },
        "id": "xrBIvEWwM34e",
        "outputId": "2c3de678-3063-434d-ae67-4bf9ce7aa82b"
      },
      "execution_count": 122,
      "outputs": [
        {
          "output_type": "stream",
          "name": "stderr",
          "text": [
            "/usr/local/lib/python3.7/dist-packages/ipykernel_launcher.py:1: SettingWithCopyWarning:\n",
            "\n",
            "\n",
            "A value is trying to be set on a copy of a slice from a DataFrame.\n",
            "Try using .loc[row_indexer,col_indexer] = value instead\n",
            "\n",
            "See the caveats in the documentation: https://pandas.pydata.org/pandas-docs/stable/user_guide/indexing.html#returning-a-view-versus-a-copy\n",
            "\n"
          ]
        }
      ]
    },
    {
      "cell_type": "code",
      "source": [
        "df_male.head()"
      ],
      "metadata": {
        "colab": {
          "base_uri": "https://localhost:8080/",
          "height": 206
        },
        "id": "VJyEm_sLOLeG",
        "outputId": "12f5d302-efca-4463-a587-adbd0d2cdd34"
      },
      "execution_count": 123,
      "outputs": [
        {
          "output_type": "execute_result",
          "data": {
            "text/plain": [
              "   age   sex     bmi  children  smoker     region      charges  \\\n",
              "0   18  male  33.770         1     0.0  southeast   1725.55230   \n",
              "1   28  male  33.000         3     0.0  southeast   4449.46200   \n",
              "2   33  male  22.705         0     0.0  northwest  21984.47061   \n",
              "3   32  male  28.880         0     0.0  northwest   3866.85520   \n",
              "4   37  male  29.830         2     0.0  northeast   6406.41070   \n",
              "\n",
              "  age_description bmi_description  \n",
              "0  młodzi_dorośli         nadwaga  \n",
              "1  starsi_dorośli         nadwaga  \n",
              "2  starsi_dorośli           norma  \n",
              "3  starsi_dorośli         nadwaga  \n",
              "4     średni_wiek         nadwaga  "
            ],
            "text/html": [
              "\n",
              "  <div id=\"df-bdf6005c-82a0-400d-84fb-36fef2f5e0ff\">\n",
              "    <div class=\"colab-df-container\">\n",
              "      <div>\n",
              "<style scoped>\n",
              "    .dataframe tbody tr th:only-of-type {\n",
              "        vertical-align: middle;\n",
              "    }\n",
              "\n",
              "    .dataframe tbody tr th {\n",
              "        vertical-align: top;\n",
              "    }\n",
              "\n",
              "    .dataframe thead th {\n",
              "        text-align: right;\n",
              "    }\n",
              "</style>\n",
              "<table border=\"1\" class=\"dataframe\">\n",
              "  <thead>\n",
              "    <tr style=\"text-align: right;\">\n",
              "      <th></th>\n",
              "      <th>age</th>\n",
              "      <th>sex</th>\n",
              "      <th>bmi</th>\n",
              "      <th>children</th>\n",
              "      <th>smoker</th>\n",
              "      <th>region</th>\n",
              "      <th>charges</th>\n",
              "      <th>age_description</th>\n",
              "      <th>bmi_description</th>\n",
              "    </tr>\n",
              "  </thead>\n",
              "  <tbody>\n",
              "    <tr>\n",
              "      <th>0</th>\n",
              "      <td>18</td>\n",
              "      <td>male</td>\n",
              "      <td>33.770</td>\n",
              "      <td>1</td>\n",
              "      <td>0.0</td>\n",
              "      <td>southeast</td>\n",
              "      <td>1725.55230</td>\n",
              "      <td>młodzi_dorośli</td>\n",
              "      <td>nadwaga</td>\n",
              "    </tr>\n",
              "    <tr>\n",
              "      <th>1</th>\n",
              "      <td>28</td>\n",
              "      <td>male</td>\n",
              "      <td>33.000</td>\n",
              "      <td>3</td>\n",
              "      <td>0.0</td>\n",
              "      <td>southeast</td>\n",
              "      <td>4449.46200</td>\n",
              "      <td>starsi_dorośli</td>\n",
              "      <td>nadwaga</td>\n",
              "    </tr>\n",
              "    <tr>\n",
              "      <th>2</th>\n",
              "      <td>33</td>\n",
              "      <td>male</td>\n",
              "      <td>22.705</td>\n",
              "      <td>0</td>\n",
              "      <td>0.0</td>\n",
              "      <td>northwest</td>\n",
              "      <td>21984.47061</td>\n",
              "      <td>starsi_dorośli</td>\n",
              "      <td>norma</td>\n",
              "    </tr>\n",
              "    <tr>\n",
              "      <th>3</th>\n",
              "      <td>32</td>\n",
              "      <td>male</td>\n",
              "      <td>28.880</td>\n",
              "      <td>0</td>\n",
              "      <td>0.0</td>\n",
              "      <td>northwest</td>\n",
              "      <td>3866.85520</td>\n",
              "      <td>starsi_dorośli</td>\n",
              "      <td>nadwaga</td>\n",
              "    </tr>\n",
              "    <tr>\n",
              "      <th>4</th>\n",
              "      <td>37</td>\n",
              "      <td>male</td>\n",
              "      <td>29.830</td>\n",
              "      <td>2</td>\n",
              "      <td>0.0</td>\n",
              "      <td>northeast</td>\n",
              "      <td>6406.41070</td>\n",
              "      <td>średni_wiek</td>\n",
              "      <td>nadwaga</td>\n",
              "    </tr>\n",
              "  </tbody>\n",
              "</table>\n",
              "</div>\n",
              "      <button class=\"colab-df-convert\" onclick=\"convertToInteractive('df-bdf6005c-82a0-400d-84fb-36fef2f5e0ff')\"\n",
              "              title=\"Convert this dataframe to an interactive table.\"\n",
              "              style=\"display:none;\">\n",
              "        \n",
              "  <svg xmlns=\"http://www.w3.org/2000/svg\" height=\"24px\"viewBox=\"0 0 24 24\"\n",
              "       width=\"24px\">\n",
              "    <path d=\"M0 0h24v24H0V0z\" fill=\"none\"/>\n",
              "    <path d=\"M18.56 5.44l.94 2.06.94-2.06 2.06-.94-2.06-.94-.94-2.06-.94 2.06-2.06.94zm-11 1L8.5 8.5l.94-2.06 2.06-.94-2.06-.94L8.5 2.5l-.94 2.06-2.06.94zm10 10l.94 2.06.94-2.06 2.06-.94-2.06-.94-.94-2.06-.94 2.06-2.06.94z\"/><path d=\"M17.41 7.96l-1.37-1.37c-.4-.4-.92-.59-1.43-.59-.52 0-1.04.2-1.43.59L10.3 9.45l-7.72 7.72c-.78.78-.78 2.05 0 2.83L4 21.41c.39.39.9.59 1.41.59.51 0 1.02-.2 1.41-.59l7.78-7.78 2.81-2.81c.8-.78.8-2.07 0-2.86zM5.41 20L4 18.59l7.72-7.72 1.47 1.35L5.41 20z\"/>\n",
              "  </svg>\n",
              "      </button>\n",
              "      \n",
              "  <style>\n",
              "    .colab-df-container {\n",
              "      display:flex;\n",
              "      flex-wrap:wrap;\n",
              "      gap: 12px;\n",
              "    }\n",
              "\n",
              "    .colab-df-convert {\n",
              "      background-color: #E8F0FE;\n",
              "      border: none;\n",
              "      border-radius: 50%;\n",
              "      cursor: pointer;\n",
              "      display: none;\n",
              "      fill: #1967D2;\n",
              "      height: 32px;\n",
              "      padding: 0 0 0 0;\n",
              "      width: 32px;\n",
              "    }\n",
              "\n",
              "    .colab-df-convert:hover {\n",
              "      background-color: #E2EBFA;\n",
              "      box-shadow: 0px 1px 2px rgba(60, 64, 67, 0.3), 0px 1px 3px 1px rgba(60, 64, 67, 0.15);\n",
              "      fill: #174EA6;\n",
              "    }\n",
              "\n",
              "    [theme=dark] .colab-df-convert {\n",
              "      background-color: #3B4455;\n",
              "      fill: #D2E3FC;\n",
              "    }\n",
              "\n",
              "    [theme=dark] .colab-df-convert:hover {\n",
              "      background-color: #434B5C;\n",
              "      box-shadow: 0px 1px 3px 1px rgba(0, 0, 0, 0.15);\n",
              "      filter: drop-shadow(0px 1px 2px rgba(0, 0, 0, 0.3));\n",
              "      fill: #FFFFFF;\n",
              "    }\n",
              "  </style>\n",
              "\n",
              "      <script>\n",
              "        const buttonEl =\n",
              "          document.querySelector('#df-bdf6005c-82a0-400d-84fb-36fef2f5e0ff button.colab-df-convert');\n",
              "        buttonEl.style.display =\n",
              "          google.colab.kernel.accessAllowed ? 'block' : 'none';\n",
              "\n",
              "        async function convertToInteractive(key) {\n",
              "          const element = document.querySelector('#df-bdf6005c-82a0-400d-84fb-36fef2f5e0ff');\n",
              "          const dataTable =\n",
              "            await google.colab.kernel.invokeFunction('convertToInteractive',\n",
              "                                                     [key], {});\n",
              "          if (!dataTable) return;\n",
              "\n",
              "          const docLinkHtml = 'Like what you see? Visit the ' +\n",
              "            '<a target=\"_blank\" href=https://colab.research.google.com/notebooks/data_table.ipynb>data table notebook</a>'\n",
              "            + ' to learn more about interactive tables.';\n",
              "          element.innerHTML = '';\n",
              "          dataTable['output_type'] = 'display_data';\n",
              "          await google.colab.output.renderOutput(dataTable, element);\n",
              "          const docLink = document.createElement('div');\n",
              "          docLink.innerHTML = docLinkHtml;\n",
              "          element.appendChild(docLink);\n",
              "        }\n",
              "      </script>\n",
              "    </div>\n",
              "  </div>\n",
              "  "
            ]
          },
          "metadata": {},
          "execution_count": 123
        }
      ]
    },
    {
      "cell_type": "code",
      "source": [
        "df_male_bmi=df_male.groupby('bmi_description', as_index=False)['charges'].mean()"
      ],
      "metadata": {
        "id": "plccXs2JOUKe"
      },
      "execution_count": 127,
      "outputs": []
    },
    {
      "cell_type": "code",
      "source": [
        "import plotly.express as px"
      ],
      "metadata": {
        "id": "xPBRjsxgRKJD"
      },
      "execution_count": 125,
      "outputs": []
    },
    {
      "cell_type": "code",
      "source": [
        "bar_fig=px.bar(data_frame=df_male, y='bmi_description', x='charges', color='age_description', orientation='h', title=\"Wysokość ubezpieczenia a bmi\")\n",
        "bar_fig.update_layout({'bargap':0.5})\n",
        "bar_fig.show()\n",
        "\n"
      ],
      "metadata": {
        "colab": {
          "base_uri": "https://localhost:8080/",
          "height": 542
        },
        "id": "_3PMe4i2RPeM",
        "outputId": "08c227dc-00ac-4922-efc7-3fefbbcf3c91"
      },
      "execution_count": 130,
      "outputs": [
        {
          "output_type": "display_data",
          "data": {
            "text/html": [
              "<html>\n",
              "<head><meta charset=\"utf-8\" /></head>\n",
              "<body>\n",
              "    <div>            <script src=\"https://cdnjs.cloudflare.com/ajax/libs/mathjax/2.7.5/MathJax.js?config=TeX-AMS-MML_SVG\"></script><script type=\"text/javascript\">if (window.MathJax) {MathJax.Hub.Config({SVG: {font: \"STIX-Web\"}});}</script>                <script type=\"text/javascript\">window.PlotlyConfig = {MathJaxConfig: 'local'};</script>\n",
              "        <script src=\"https://cdn.plot.ly/plotly-2.8.3.min.js\"></script>                <div id=\"e231a1b1-4bff-462c-b1ac-9c37d8aace82\" class=\"plotly-graph-div\" style=\"height:525px; width:100%;\"></div>            <script type=\"text/javascript\">                                    window.PLOTLYENV=window.PLOTLYENV || {};                                    if (document.getElementById(\"e231a1b1-4bff-462c-b1ac-9c37d8aace82\")) {                    Plotly.newPlot(                        \"e231a1b1-4bff-462c-b1ac-9c37d8aace82\",                        [{\"alignmentgroup\":\"True\",\"hovertemplate\":\"age_description=m\\u0142odzi_doro\\u015bli<br>charges=%{x}<br>bmi_description=%{y}<extra></extra>\",\"legendgroup\":\"m\\u0142odzi_doro\\u015bli\",\"marker\":{\"color\":\"#636efa\",\"pattern\":{\"shape\":\"\"}},\"name\":\"m\\u0142odzi_doro\\u015bli\",\"offsetgroup\":\"m\\u0142odzi_doro\\u015bli\",\"orientation\":\"h\",\"showlegend\":true,\"textposition\":\"auto\",\"x\":[1725.5523,2721.3208,1826.843,1837.237,2395.17155,1137.011,2775.19215,35585.576,1625.43375,34303.1672,4504.6624,1532.4697,37165.1638,17560.37975,1705.6245,1632.56445,1261.442,2045.68525,1842.519,15518.18025,1694.7964,4005.4225,2137.6536,1137.4697,1639.5631,1980.07,3537.703,34779.615,17352.6803,1986.9334,1832.094,12829.4551,33750.2918,36219.40545,1719.4363,2523.1695,2803.69785,42112.2356,3906.127,1704.5681,16297.846,1635.73365,1837.2819,3481.868,1391.5287,38126.2465,1261.859,16586.49771,1621.3402,5080.096,2727.3951,23082.95533,2254.7967,1149.3959,1969.614,1769.53165,1632.03625,35147.52848,2534.39375,1534.3045,1824.2854,1253.936,17942.106,1967.0227,32548.3405,2643.2685,3077.0955,1256.299,27724.28875,1708.0014,1646.4297,1664.9996,1639.5631,1242.816,3861.20965,2566.4707,34617.84065,1977.815,1712.227,1136.3994,1242.26,2104.1134,2362.22905,2352.96845,1727.54,1984.4533,1263.249,36189.1017,1627.28245,1906.35825,17128.42608,36307.7983,2416.955,1146.7966,1917.3184,1252.407,2103.08,1815.8759,1131.5066,3309.7926,3597.596,1526.312,2438.0552,15817.9857,1141.4451,3443.064,2789.0574,4877.98105,1682.597,2221.56445,2639.0429,33732.6867,2304.0022,1121.8739,1628.4709,19933.458,12609.88702,3279.86855,4915.05985,34472.841,1972.95,23241.47453,1711.0268,16450.8947,21595.38229,13747.87235,37484.4493,2250.8352,22493.65964,1704.70015,33475.81715,44501.3982,1981.5819,1909.52745,2102.2647,11884.04858,3591.48,1674.6323,2396.0959,36124.5737,39722.7462,17178.6824,37465.34375,2055.3249,1702.4553,12890.05765,1135.9407,18648.4217,1241.565,16232.847,34254.05335,1720.3537,38344.566,34828.654,1515.3449,1964.78,1708.92575,11272.33139,1163.4627],\"xaxis\":\"x\",\"y\":[\"nadwaga\",\"nadwaga\",\"nadwaga\",\"norma\",\"norma\",\"nadwaga\",\"niedowaga\",\"oty\\u0142o\\u015b\\u0107\",\"norma\",\"nadwaga\",\"nadwaga\",\"oty\\u0142o\\u015b\\u0107\",\"oty\\u0142o\\u015b\\u0107\",\"nadwaga\",\"norma\",\"nadwaga\",\"nadwaga\",\"nadwaga\",\"nadwaga\",\"nadwaga\",\"niedowaga\",\"norma\",\"nadwaga\",\"nadwaga\",\"nadwaga\",\"nadwaga\",\"nadwaga\",\"nadwaga\",\"nadwaga\",\"oty\\u0142o\\u015b\\u0107\",\"norma\",\"niedowaga\",\"nadwaga\",\"oty\\u0142o\\u015b\\u0107\",\"nadwaga\",\"nadwaga\",\"norma\",\"oty\\u0142o\\u015b\\u0107\",\"nadwaga\",\"norma\",\"nadwaga\",\"nadwaga\",\"oty\\u0142o\\u015b\\u0107\",\"nadwaga\",\"nadwaga\",\"oty\\u0142o\\u015b\\u0107\",\"nadwaga\",\"nadwaga\",\"niedowaga\",\"norma\",\"nadwaga\",\"nadwaga\",\"nadwaga\",\"oty\\u0142o\\u015b\\u0107\",\"norma\",\"nadwaga\",\"nadwaga\",\"nadwaga\",\"oty\\u0142o\\u015b\\u0107\",\"oty\\u0142o\\u015b\\u0107\",\"nadwaga\",\"nadwaga\",\"nadwaga\",\"nadwaga\",\"nadwaga\",\"nadwaga\",\"norma\",\"nadwaga\",\"oty\\u0142o\\u015b\\u0107\",\"nadwaga\",\"oty\\u0142o\\u015b\\u0107\",\"nadwaga\",\"nadwaga\",\"norma\",\"norma\",\"nadwaga\",\"nadwaga\",\"nadwaga\",\"nadwaga\",\"nadwaga\",\"norma\",\"nadwaga\",\"nadwaga\",\"norma\",\"oty\\u0142o\\u015b\\u0107\",\"oty\\u0142o\\u015b\\u0107\",\"oty\\u0142o\\u015b\\u0107\",\"nadwaga\",\"norma\",\"nadwaga\",\"nadwaga\",\"oty\\u0142o\\u015b\\u0107\",\"oty\\u0142o\\u015b\\u0107\",\"oty\\u0142o\\u015b\\u0107\",\"oty\\u0142o\\u015b\\u0107\",\"nadwaga\",\"norma\",\"nadwaga\",\"nadwaga\",\"nadwaga\",\"oty\\u0142o\\u015b\\u0107\",\"nadwaga\",\"oty\\u0142o\\u015b\\u0107\",\"norma\",\"oty\\u0142o\\u015b\\u0107\",\"nadwaga\",\"nadwaga\",\"nadwaga\",\"oty\\u0142o\\u015b\\u0107\",\"nadwaga\",\"nadwaga\",\"nadwaga\",\"nadwaga\",\"norma\",\"norma\",\"nadwaga\",\"nadwaga\",\"nadwaga\",\"nadwaga\",\"nadwaga\",\"nadwaga\",\"norma\",\"norma\",\"nadwaga\",\"norma\",\"norma\",\"oty\\u0142o\\u015b\\u0107\",\"nadwaga\",\"nadwaga\",\"norma\",\"nadwaga\",\"oty\\u0142o\\u015b\\u0107\",\"nadwaga\",\"nadwaga\",\"nadwaga\",\"norma\",\"nadwaga\",\"nadwaga\",\"norma\",\"nadwaga\",\"oty\\u0142o\\u015b\\u0107\",\"nadwaga\",\"oty\\u0142o\\u015b\\u0107\",\"nadwaga\",\"norma\",\"oty\\u0142o\\u015b\\u0107\",\"nadwaga\",\"nadwaga\",\"norma\",\"nadwaga\",\"nadwaga\",\"nadwaga\",\"oty\\u0142o\\u015b\\u0107\",\"nadwaga\",\"norma\",\"norma\",\"nadwaga\",\"nadwaga\",\"oty\\u0142o\\u015b\\u0107\"],\"yaxis\":\"y\",\"type\":\"bar\"},{\"alignmentgroup\":\"True\",\"hovertemplate\":\"age_description=starsi_doro\\u015bli<br>charges=%{x}<br>bmi_description=%{y}<extra></extra>\",\"legendgroup\":\"starsi_doro\\u015bli\",\"marker\":{\"color\":\"#EF553B\",\"pattern\":{\"shape\":\"\"}},\"name\":\"starsi_doro\\u015bli\",\"offsetgroup\":\"starsi_doro\\u015bli\",\"orientation\":\"h\",\"showlegend\":true,\"textposition\":\"auto\",\"x\":[4449.462,21984.47061,3866.8552,39611.7577,36837.467,38711.0,51194.55914,2302.3,39774.2763,17663.1442,6799.458,4441.21315,5729.0053,3645.0894,3877.30425,2867.1196,27375.90478,3490.5491,18972.495,18157.876,20745.9891,5125.2157,36950.2567,4827.90495,20984.0936,2483.736,5253.524,2689.4954,4463.2051,4040.55825,4260.744,4237.12655,20277.80751,38746.3551,19442.3535,4667.60765,4894.7533,35491.64,2866.091,4889.9995,12404.8791,4751.07,36085.219,3260.199,4074.4537,4243.59005,5926.846,2897.3235,4762.329,4032.2407,4686.3887,2497.0383,36197.699,2498.4144,3857.75925,3268.84665,3847.674,3935.1799,2494.022,4435.0942,39241.442,3659.346,11326.71487,6666.243,4058.71245,4837.5823,34806.4677,19361.9988,3484.331,44585.45587,18246.4955,11737.84884,3062.50825,5031.26955,5428.7277,19040.876,3070.8087,5934.3798,18259.216,5209.57885,18310.742,4266.1658,17904.52705,4428.88785,2680.9493,6653.7886,19719.6947,4661.28635,4846.92015,5257.50795,4320.41085,2927.0647,4673.3922,20009.63365,3875.7341,4746.344,2322.6218,16138.76205,2902.9065,4500.33925,19199.944,4518.82625,17361.7661,4433.3877,4438.2634,4462.7218,34672.1472,4454.40265,4076.497,3471.4096,2904.088,38282.7495,14358.36437,3693.428,19673.33573,3704.3545,5124.1887,18963.17192,4670.64,4433.9159,19350.3689,5116.5004,4058.1161,2699.56835,5615.369,6059.173,37607.5277,3277.161,3292.52985,4747.0529,17043.3414,5261.46945,21472.4788,4536.259,19496.71917,5425.02335,4239.89265],\"xaxis\":\"x\",\"y\":[\"nadwaga\",\"norma\",\"nadwaga\",\"oty\\u0142o\\u015b\\u0107\",\"oty\\u0142o\\u015b\\u0107\",\"oty\\u0142o\\u015b\\u0107\",\"oty\\u0142o\\u015b\\u0107\",\"norma\",\"oty\\u0142o\\u015b\\u0107\",\"norma\",\"nadwaga\",\"nadwaga\",\"nadwaga\",\"nadwaga\",\"nadwaga\",\"nadwaga\",\"norma\",\"nadwaga\",\"nadwaga\",\"nadwaga\",\"nadwaga\",\"norma\",\"oty\\u0142o\\u015b\\u0107\",\"norma\",\"nadwaga\",\"norma\",\"nadwaga\",\"oty\\u0142o\\u015b\\u0107\",\"oty\\u0142o\\u015b\\u0107\",\"nadwaga\",\"nadwaga\",\"nadwaga\",\"nadwaga\",\"nadwaga\",\"nadwaga\",\"oty\\u0142o\\u015b\\u0107\",\"nadwaga\",\"nadwaga\",\"nadwaga\",\"oty\\u0142o\\u015b\\u0107\",\"oty\\u0142o\\u015b\\u0107\",\"nadwaga\",\"nadwaga\",\"norma\",\"nadwaga\",\"nadwaga\",\"nadwaga\",\"nadwaga\",\"oty\\u0142o\\u015b\\u0107\",\"norma\",\"oty\\u0142o\\u015b\\u0107\",\"nadwaga\",\"nadwaga\",\"nadwaga\",\"nadwaga\",\"oty\\u0142o\\u015b\\u0107\",\"norma\",\"nadwaga\",\"nadwaga\",\"nadwaga\",\"oty\\u0142o\\u015b\\u0107\",\"nadwaga\",\"oty\\u0142o\\u015b\\u0107\",\"oty\\u0142o\\u015b\\u0107\",\"nadwaga\",\"nadwaga\",\"nadwaga\",\"norma\",\"norma\",\"oty\\u0142o\\u015b\\u0107\",\"nadwaga\",\"nadwaga\",\"nadwaga\",\"nadwaga\",\"oty\\u0142o\\u015b\\u0107\",\"nadwaga\",\"nadwaga\",\"nadwaga\",\"norma\",\"norma\",\"nadwaga\",\"oty\\u0142o\\u015b\\u0107\",\"norma\",\"norma\",\"niedowaga\",\"nadwaga\",\"nadwaga\",\"nadwaga\",\"nadwaga\",\"norma\",\"oty\\u0142o\\u015b\\u0107\",\"oty\\u0142o\\u015b\\u0107\",\"oty\\u0142o\\u015b\\u0107\",\"nadwaga\",\"oty\\u0142o\\u015b\\u0107\",\"nadwaga\",\"oty\\u0142o\\u015b\\u0107\",\"norma\",\"nadwaga\",\"norma\",\"nadwaga\",\"nadwaga\",\"norma\",\"nadwaga\",\"nadwaga\",\"nadwaga\",\"nadwaga\",\"nadwaga\",\"nadwaga\",\"oty\\u0142o\\u015b\\u0107\",\"nadwaga\",\"oty\\u0142o\\u015b\\u0107\",\"nadwaga\",\"oty\\u0142o\\u015b\\u0107\",\"nadwaga\",\"nadwaga\",\"oty\\u0142o\\u015b\\u0107\",\"oty\\u0142o\\u015b\\u0107\",\"oty\\u0142o\\u015b\\u0107\",\"nadwaga\",\"nadwaga\",\"niedowaga\",\"oty\\u0142o\\u015b\\u0107\",\"nadwaga\",\"norma\",\"nadwaga\",\"nadwaga\",\"oty\\u0142o\\u015b\\u0107\",\"nadwaga\",\"nadwaga\",\"nadwaga\",\"nadwaga\",\"nadwaga\",\"oty\\u0142o\\u015b\\u0107\",\"oty\\u0142o\\u015b\\u0107\",\"nadwaga\",\"nadwaga\"],\"yaxis\":\"y\",\"type\":\"bar\"},{\"alignmentgroup\":\"True\",\"hovertemplate\":\"age_description=\\u015bredni_wiek<br>charges=%{x}<br>bmi_description=%{y}<extra></extra>\",\"legendgroup\":\"\\u015bredni_wiek\",\"marker\":{\"color\":\"#00cc96\",\"pattern\":{\"shape\":\"\"}},\"name\":\"\\u015bredni_wiek\",\"offsetgroup\":\"\\u015bredni_wiek\",\"orientation\":\"h\",\"showlegend\":true,\"textposition\":\"auto\",\"x\":[6406.4107,6203.90175,6272.4772,6079.6715,38709.176,23568.272,37742.5757,8606.2174,6389.37785,7726.854,21098.55405,15820.699,4646.759,7740.337,39556.4945,6082.405,40720.55105,7789.635,6948.7008,21223.6758,5028.1466,10407.08585,8116.68,6455.86265,7731.4271,43753.33705,7147.105,6610.1097,8162.71625,19515.5416,9225.2564,6710.1919,7152.6714,7196.867,41097.16175,46151.1245,17179.522,7441.053,9282.4806,42856.838,7265.7025,9617.66245,7742.1098,21978.6769,6746.7425,8444.474,42124.5153,8124.4084,8835.26495,6600.20595,42760.5022,41919.097,8334.45755,24603.04837,8944.1151,9620.3307,8116.26885,8302.53565,30284.64294,10736.87075,8964.06055,9290.1395,7526.70645,8083.9198,10269.46,6652.5288,39125.33225,8968.33,9788.8659,5969.723,7512.267,22144.032,9304.7019,9563.029,8027.968,6837.3687,6796.86325,21082.16,8413.46305,38245.59327,8342.90875,19214.70553,6067.12675,23807.2406,8334.5896,9058.7303,7256.7231,45702.02235,6356.2707,8428.0693,5709.1644,7441.501,23306.547,40182.246,6748.5912,7173.35995,20149.3229,32787.45859,18806.14547,10141.1362,6123.5688,6435.6237,42560.4304,8703.456,4399.731,7222.78625,40103.89,7729.64575,5438.7491,8068.185,40273.6455,10264.4421,6664.68595,8604.48365,8827.2099,8062.764,7261.741,6986.697,7448.40395,5584.3057,7445.918,20773.62775,39597.4072,6117.4945,5377.4578,7160.3303,4402.233,6600.361,8457.818,5966.8874,6849.026,8891.1395,6282.235,44202.6536,8688.85885,8125.7845,35069.37452,5488.262,6250.435,25333.33284,6289.7549,10096.97,32108.66282,7160.094,39047.285,6358.77645,38998.546,41034.2214,28468.91901,9500.57305,7518.02535,7804.1605,8410.04685,5484.4673,21232.18226,8627.5411,24915.22085,18767.7377,8765.249,42211.1382,39727.614,9288.0267,25309.489,6548.19505,8978.1851,5757.41345,39871.7043,5855.9025,41676.0811,20420.60465,8605.3615,41949.2441,9222.4026,8347.1643,9048.0273,6338.0756,9630.397,5979.731,6457.8434,8603.8234,5699.8375,6393.60345,6198.7518,8733.22925,38415.474,5373.36425,23563.01618,5415.6612,6593.5083,8442.667,6858.4796,6640.54485,7162.0122,6985.50695,8615.3,14478.33015,22462.04375,7147.4728,9301.89355,62592.87309,37829.7242,21259.37795,6875.961,6940.90985,10600.5483],\"xaxis\":\"x\",\"y\":[\"nadwaga\",\"nadwaga\",\"norma\",\"oty\\u0142o\\u015b\\u0107\",\"oty\\u0142o\\u015b\\u0107\",\"nadwaga\",\"nadwaga\",\"nadwaga\",\"nadwaga\",\"nadwaga\",\"norma\",\"norma\",\"nadwaga\",\"oty\\u0142o\\u015b\\u0107\",\"nadwaga\",\"nadwaga\",\"nadwaga\",\"nadwaga\",\"oty\\u0142o\\u015b\\u0107\",\"norma\",\"nadwaga\",\"nadwaga\",\"nadwaga\",\"nadwaga\",\"nadwaga\",\"oty\\u0142o\\u015b\\u0107\",\"norma\",\"oty\\u0142o\\u015b\\u0107\",\"nadwaga\",\"norma\",\"nadwaga\",\"norma\",\"oty\\u0142o\\u015b\\u0107\",\"oty\\u0142o\\u015b\\u0107\",\"nadwaga\",\"oty\\u0142o\\u015b\\u0107\",\"norma\",\"nadwaga\",\"nadwaga\",\"nadwaga\",\"oty\\u0142o\\u015b\\u0107\",\"nadwaga\",\"nadwaga\",\"nadwaga\",\"nadwaga\",\"nadwaga\",\"oty\\u0142o\\u015b\\u0107\",\"oty\\u0142o\\u015b\\u0107\",\"nadwaga\",\"nadwaga\",\"oty\\u0142o\\u015b\\u0107\",\"nadwaga\",\"nadwaga\",\"nadwaga\",\"oty\\u0142o\\u015b\\u0107\",\"nadwaga\",\"nadwaga\",\"norma\",\"nadwaga\",\"oty\\u0142o\\u015b\\u0107\",\"nadwaga\",\"nadwaga\",\"norma\",\"oty\\u0142o\\u015b\\u0107\",\"nadwaga\",\"norma\",\"nadwaga\",\"nadwaga\",\"norma\",\"nadwaga\",\"nadwaga\",\"nadwaga\",\"oty\\u0142o\\u015b\\u0107\",\"nadwaga\",\"nadwaga\",\"nadwaga\",\"nadwaga\",\"nadwaga\",\"nadwaga\",\"nadwaga\",\"oty\\u0142o\\u015b\\u0107\",\"oty\\u0142o\\u015b\\u0107\",\"nadwaga\",\"nadwaga\",\"nadwaga\",\"oty\\u0142o\\u015b\\u0107\",\"nadwaga\",\"oty\\u0142o\\u015b\\u0107\",\"oty\\u0142o\\u015b\\u0107\",\"norma\",\"oty\\u0142o\\u015b\\u0107\",\"nadwaga\",\"nadwaga\",\"nadwaga\",\"nadwaga\",\"norma\",\"nadwaga\",\"nadwaga\",\"oty\\u0142o\\u015b\\u0107\",\"nadwaga\",\"nadwaga\",\"oty\\u0142o\\u015b\\u0107\",\"oty\\u0142o\\u015b\\u0107\",\"nadwaga\",\"nadwaga\",\"norma\",\"oty\\u0142o\\u015b\\u0107\",\"nadwaga\",\"oty\\u0142o\\u015b\\u0107\",\"oty\\u0142o\\u015b\\u0107\",\"oty\\u0142o\\u015b\\u0107\",\"nadwaga\",\"nadwaga\",\"norma\",\"nadwaga\",\"nadwaga\",\"nadwaga\",\"nadwaga\",\"oty\\u0142o\\u015b\\u0107\",\"nadwaga\",\"nadwaga\",\"nadwaga\",\"nadwaga\",\"norma\",\"nadwaga\",\"oty\\u0142o\\u015b\\u0107\",\"nadwaga\",\"nadwaga\",\"oty\\u0142o\\u015b\\u0107\",\"norma\",\"nadwaga\",\"norma\",\"nadwaga\",\"oty\\u0142o\\u015b\\u0107\",\"norma\",\"oty\\u0142o\\u015b\\u0107\",\"norma\",\"nadwaga\",\"norma\",\"nadwaga\",\"nadwaga\",\"nadwaga\",\"nadwaga\",\"oty\\u0142o\\u015b\\u0107\",\"nadwaga\",\"nadwaga\",\"nadwaga\",\"nadwaga\",\"oty\\u0142o\\u015b\\u0107\",\"norma\",\"nadwaga\",\"oty\\u0142o\\u015b\\u0107\",\"nadwaga\",\"nadwaga\",\"nadwaga\",\"norma\",\"nadwaga\",\"norma\",\"nadwaga\",\"oty\\u0142o\\u015b\\u0107\",\"nadwaga\",\"nadwaga\",\"nadwaga\",\"nadwaga\",\"oty\\u0142o\\u015b\\u0107\",\"oty\\u0142o\\u015b\\u0107\",\"oty\\u0142o\\u015b\\u0107\",\"norma\",\"oty\\u0142o\\u015b\\u0107\",\"nadwaga\",\"norma\",\"oty\\u0142o\\u015b\\u0107\",\"nadwaga\",\"oty\\u0142o\\u015b\\u0107\",\"oty\\u0142o\\u015b\\u0107\",\"nadwaga\",\"nadwaga\",\"nadwaga\",\"nadwaga\",\"norma\",\"nadwaga\",\"nadwaga\",\"norma\",\"oty\\u0142o\\u015b\\u0107\",\"nadwaga\",\"nadwaga\",\"nadwaga\",\"nadwaga\",\"norma\",\"nadwaga\",\"norma\",\"niedowaga\",\"oty\\u0142o\\u015b\\u0107\",\"norma\",\"nadwaga\",\"nadwaga\",\"nadwaga\",\"nadwaga\",\"nadwaga\",\"nadwaga\",\"nadwaga\",\"norma\",\"nadwaga\",\"nadwaga\",\"nadwaga\"],\"yaxis\":\"y\",\"type\":\"bar\"},{\"alignmentgroup\":\"True\",\"hovertemplate\":\"age_description=seniorzy<br>charges=%{x}<br>bmi_description=%{y}<extra></extra>\",\"legendgroup\":\"seniorzy\",\"marker\":{\"color\":\"#ab63fa\",\"pattern\":{\"shape\":\"\"}},\"name\":\"seniorzy\",\"offsetgroup\":\"seniorzy\",\"orientation\":\"h\",\"showlegend\":true,\"textposition\":\"auto\",\"x\":[10602.385,13770.0979,48173.361,20630.28351,47496.49445,30166.61817,11946.6259,11356.6609,30184.9367,10226.2842,22412.6485,47055.5321,10825.2537,11488.31695,30259.99556,11381.3254,10450.552,13405.3903,10436.096,11735.87905,12557.6053,11743.299,11987.1682,12333.828,24476.47851,44260.7499,43921.1837,11520.09985,24869.8368,12928.7911,48549.17835,25992.82104,11944.59435,9722.7695,10435.06525,11566.30055,9144.565,24393.6224,13822.803,12142.5786,13937.6665,13352.0998,13981.85035,27000.98473,42303.69215,20781.48892,14988.432,9140.951,14418.2804,46889.2612,46599.1084,13919.8229,26109.32905,12730.9996,21797.0004,10601.412,11165.41765,25382.297,28868.6639,15555.18875,10461.9794,12574.049,22218.1149,11763.0009,9361.3268,11362.755,48675.5177,12925.886,13831.1152,27346.04207,10231.4999,13390.559,12957.118,9724.53,12913.9924,9174.13565,12129.61415,11365.952,10085.846,9391.346,14410.9321,12949.1554,13143.86485,45710.20785,46130.5265,12363.547,9863.4718,11244.3769,10976.24575,9504.3103,12146.971,13112.6048,11264.541,12979.358,10065.413,43254.41795,14210.53595,27941.28758,10560.4917,9869.8102,9386.1613,12741.16745,21195.818,11013.7119,12523.6048,43813.8661,13393.756,11743.9341,12323.936,10072.05505,10601.63225,14119.62,10965.446,8782.469,11576.13,13129.60345,27218.43725,11945.1327,10422.91665,13555.0049,48673.5588,15170.069,9487.6442,12982.8747,11534.87265,47462.894,41999.52,26467.09737,23967.38305,25517.11363,9957.7216,12124.9924,8798.593,9850.432,12950.0712,11394.06555,14394.5579,10594.50155,11554.2236,48970.2476,14349.8544,13974.45555,15161.5344,10796.35025,11353.2276,9748.9106,10577.087,11253.421,11363.2832,10807.4863,10214.636,20709.02034,11289.10925,52590.82939,10791.96,10982.5013,9964.06,12347.172,10594.2257,11938.25595,60021.39897,11345.519,47269.854,49577.6624,30063.58055,26926.5144,10959.33,47403.88,11931.12525,46718.16325,28101.33305,12981.3457,13143.33665,9377.9047,10325.206],\"xaxis\":\"x\",\"y\":[\"oty\\u0142o\\u015b\\u0107\",\"nadwaga\",\"oty\\u0142o\\u015b\\u0107\",\"oty\\u0142o\\u015b\\u0107\",\"oty\\u0142o\\u015b\\u0107\",\"norma\",\"nadwaga\",\"nadwaga\",\"nadwaga\",\"oty\\u0142o\\u015b\\u0107\",\"norma\",\"oty\\u0142o\\u015b\\u0107\",\"nadwaga\",\"nadwaga\",\"nadwaga\",\"oty\\u0142o\\u015b\\u0107\",\"oty\\u0142o\\u015b\\u0107\",\"oty\\u0142o\\u015b\\u0107\",\"nadwaga\",\"nadwaga\",\"nadwaga\",\"nadwaga\",\"nadwaga\",\"nadwaga\",\"nadwaga\",\"nadwaga\",\"nadwaga\",\"norma\",\"norma\",\"nadwaga\",\"oty\\u0142o\\u015b\\u0107\",\"nadwaga\",\"nadwaga\",\"nadwaga\",\"nadwaga\",\"oty\\u0142o\\u015b\\u0107\",\"oty\\u0142o\\u015b\\u0107\",\"nadwaga\",\"nadwaga\",\"nadwaga\",\"nadwaga\",\"nadwaga\",\"oty\\u0142o\\u015b\\u0107\",\"nadwaga\",\"nadwaga\",\"nadwaga\",\"nadwaga\",\"nadwaga\",\"oty\\u0142o\\u015b\\u0107\",\"nadwaga\",\"oty\\u0142o\\u015b\\u0107\",\"nadwaga\",\"nadwaga\",\"nadwaga\",\"oty\\u0142o\\u015b\\u0107\",\"oty\\u0142o\\u015b\\u0107\",\"nadwaga\",\"nadwaga\",\"nadwaga\",\"oty\\u0142o\\u015b\\u0107\",\"nadwaga\",\"oty\\u0142o\\u015b\\u0107\",\"norma\",\"nadwaga\",\"norma\",\"oty\\u0142o\\u015b\\u0107\",\"oty\\u0142o\\u015b\\u0107\",\"nadwaga\",\"oty\\u0142o\\u015b\\u0107\",\"nadwaga\",\"nadwaga\",\"nadwaga\",\"norma\",\"nadwaga\",\"nadwaga\",\"nadwaga\",\"nadwaga\",\"oty\\u0142o\\u015b\\u0107\",\"oty\\u0142o\\u015b\\u0107\",\"oty\\u0142o\\u015b\\u0107\",\"oty\\u0142o\\u015b\\u0107\",\"nadwaga\",\"nadwaga\",\"nadwaga\",\"nadwaga\",\"oty\\u0142o\\u015b\\u0107\",\"norma\",\"nadwaga\",\"nadwaga\",\"oty\\u0142o\\u015b\\u0107\",\"nadwaga\",\"norma\",\"oty\\u0142o\\u015b\\u0107\",\"oty\\u0142o\\u015b\\u0107\",\"norma\",\"nadwaga\",\"oty\\u0142o\\u015b\\u0107\",\"oty\\u0142o\\u015b\\u0107\",\"nadwaga\",\"nadwaga\",\"oty\\u0142o\\u015b\\u0107\",\"oty\\u0142o\\u015b\\u0107\",\"norma\",\"norma\",\"norma\",\"nadwaga\",\"nadwaga\",\"nadwaga\",\"norma\",\"nadwaga\",\"nadwaga\",\"nadwaga\",\"nadwaga\",\"nadwaga\",\"oty\\u0142o\\u015b\\u0107\",\"norma\",\"nadwaga\",\"nadwaga\",\"norma\",\"nadwaga\",\"oty\\u0142o\\u015b\\u0107\",\"oty\\u0142o\\u015b\\u0107\",\"nadwaga\",\"oty\\u0142o\\u015b\\u0107\",\"niedowaga\",\"oty\\u0142o\\u015b\\u0107\",\"nadwaga\",\"oty\\u0142o\\u015b\\u0107\",\"norma\",\"nadwaga\",\"nadwaga\",\"nadwaga\",\"oty\\u0142o\\u015b\\u0107\",\"nadwaga\",\"oty\\u0142o\\u015b\\u0107\",\"oty\\u0142o\\u015b\\u0107\",\"nadwaga\",\"nadwaga\",\"nadwaga\",\"oty\\u0142o\\u015b\\u0107\",\"norma\",\"nadwaga\",\"nadwaga\",\"nadwaga\",\"nadwaga\",\"oty\\u0142o\\u015b\\u0107\",\"norma\",\"nadwaga\",\"oty\\u0142o\\u015b\\u0107\",\"nadwaga\",\"nadwaga\",\"oty\\u0142o\\u015b\\u0107\",\"nadwaga\",\"nadwaga\",\"norma\",\"oty\\u0142o\\u015b\\u0107\",\"nadwaga\",\"oty\\u0142o\\u015b\\u0107\",\"nadwaga\",\"nadwaga\",\"nadwaga\",\"norma\",\"oty\\u0142o\\u015b\\u0107\",\"oty\\u0142o\\u015b\\u0107\",\"oty\\u0142o\\u015b\\u0107\",\"norma\",\"norma\",\"oty\\u0142o\\u015b\\u0107\",\"nadwaga\",\"nadwaga\",\"nadwaga\",\"oty\\u0142o\\u015b\\u0107\",\"nadwaga\",\"nadwaga\",\"oty\\u0142o\\u015b\\u0107\"],\"yaxis\":\"y\",\"type\":\"bar\"}],                        {\"template\":{\"data\":{\"bar\":[{\"error_x\":{\"color\":\"#2a3f5f\"},\"error_y\":{\"color\":\"#2a3f5f\"},\"marker\":{\"line\":{\"color\":\"#E5ECF6\",\"width\":0.5},\"pattern\":{\"fillmode\":\"overlay\",\"size\":10,\"solidity\":0.2}},\"type\":\"bar\"}],\"barpolar\":[{\"marker\":{\"line\":{\"color\":\"#E5ECF6\",\"width\":0.5},\"pattern\":{\"fillmode\":\"overlay\",\"size\":10,\"solidity\":0.2}},\"type\":\"barpolar\"}],\"carpet\":[{\"aaxis\":{\"endlinecolor\":\"#2a3f5f\",\"gridcolor\":\"white\",\"linecolor\":\"white\",\"minorgridcolor\":\"white\",\"startlinecolor\":\"#2a3f5f\"},\"baxis\":{\"endlinecolor\":\"#2a3f5f\",\"gridcolor\":\"white\",\"linecolor\":\"white\",\"minorgridcolor\":\"white\",\"startlinecolor\":\"#2a3f5f\"},\"type\":\"carpet\"}],\"choropleth\":[{\"colorbar\":{\"outlinewidth\":0,\"ticks\":\"\"},\"type\":\"choropleth\"}],\"contour\":[{\"colorbar\":{\"outlinewidth\":0,\"ticks\":\"\"},\"colorscale\":[[0.0,\"#0d0887\"],[0.1111111111111111,\"#46039f\"],[0.2222222222222222,\"#7201a8\"],[0.3333333333333333,\"#9c179e\"],[0.4444444444444444,\"#bd3786\"],[0.5555555555555556,\"#d8576b\"],[0.6666666666666666,\"#ed7953\"],[0.7777777777777778,\"#fb9f3a\"],[0.8888888888888888,\"#fdca26\"],[1.0,\"#f0f921\"]],\"type\":\"contour\"}],\"contourcarpet\":[{\"colorbar\":{\"outlinewidth\":0,\"ticks\":\"\"},\"type\":\"contourcarpet\"}],\"heatmap\":[{\"colorbar\":{\"outlinewidth\":0,\"ticks\":\"\"},\"colorscale\":[[0.0,\"#0d0887\"],[0.1111111111111111,\"#46039f\"],[0.2222222222222222,\"#7201a8\"],[0.3333333333333333,\"#9c179e\"],[0.4444444444444444,\"#bd3786\"],[0.5555555555555556,\"#d8576b\"],[0.6666666666666666,\"#ed7953\"],[0.7777777777777778,\"#fb9f3a\"],[0.8888888888888888,\"#fdca26\"],[1.0,\"#f0f921\"]],\"type\":\"heatmap\"}],\"heatmapgl\":[{\"colorbar\":{\"outlinewidth\":0,\"ticks\":\"\"},\"colorscale\":[[0.0,\"#0d0887\"],[0.1111111111111111,\"#46039f\"],[0.2222222222222222,\"#7201a8\"],[0.3333333333333333,\"#9c179e\"],[0.4444444444444444,\"#bd3786\"],[0.5555555555555556,\"#d8576b\"],[0.6666666666666666,\"#ed7953\"],[0.7777777777777778,\"#fb9f3a\"],[0.8888888888888888,\"#fdca26\"],[1.0,\"#f0f921\"]],\"type\":\"heatmapgl\"}],\"histogram\":[{\"marker\":{\"pattern\":{\"fillmode\":\"overlay\",\"size\":10,\"solidity\":0.2}},\"type\":\"histogram\"}],\"histogram2d\":[{\"colorbar\":{\"outlinewidth\":0,\"ticks\":\"\"},\"colorscale\":[[0.0,\"#0d0887\"],[0.1111111111111111,\"#46039f\"],[0.2222222222222222,\"#7201a8\"],[0.3333333333333333,\"#9c179e\"],[0.4444444444444444,\"#bd3786\"],[0.5555555555555556,\"#d8576b\"],[0.6666666666666666,\"#ed7953\"],[0.7777777777777778,\"#fb9f3a\"],[0.8888888888888888,\"#fdca26\"],[1.0,\"#f0f921\"]],\"type\":\"histogram2d\"}],\"histogram2dcontour\":[{\"colorbar\":{\"outlinewidth\":0,\"ticks\":\"\"},\"colorscale\":[[0.0,\"#0d0887\"],[0.1111111111111111,\"#46039f\"],[0.2222222222222222,\"#7201a8\"],[0.3333333333333333,\"#9c179e\"],[0.4444444444444444,\"#bd3786\"],[0.5555555555555556,\"#d8576b\"],[0.6666666666666666,\"#ed7953\"],[0.7777777777777778,\"#fb9f3a\"],[0.8888888888888888,\"#fdca26\"],[1.0,\"#f0f921\"]],\"type\":\"histogram2dcontour\"}],\"mesh3d\":[{\"colorbar\":{\"outlinewidth\":0,\"ticks\":\"\"},\"type\":\"mesh3d\"}],\"parcoords\":[{\"line\":{\"colorbar\":{\"outlinewidth\":0,\"ticks\":\"\"}},\"type\":\"parcoords\"}],\"pie\":[{\"automargin\":true,\"type\":\"pie\"}],\"scatter\":[{\"marker\":{\"colorbar\":{\"outlinewidth\":0,\"ticks\":\"\"}},\"type\":\"scatter\"}],\"scatter3d\":[{\"line\":{\"colorbar\":{\"outlinewidth\":0,\"ticks\":\"\"}},\"marker\":{\"colorbar\":{\"outlinewidth\":0,\"ticks\":\"\"}},\"type\":\"scatter3d\"}],\"scattercarpet\":[{\"marker\":{\"colorbar\":{\"outlinewidth\":0,\"ticks\":\"\"}},\"type\":\"scattercarpet\"}],\"scattergeo\":[{\"marker\":{\"colorbar\":{\"outlinewidth\":0,\"ticks\":\"\"}},\"type\":\"scattergeo\"}],\"scattergl\":[{\"marker\":{\"colorbar\":{\"outlinewidth\":0,\"ticks\":\"\"}},\"type\":\"scattergl\"}],\"scattermapbox\":[{\"marker\":{\"colorbar\":{\"outlinewidth\":0,\"ticks\":\"\"}},\"type\":\"scattermapbox\"}],\"scatterpolar\":[{\"marker\":{\"colorbar\":{\"outlinewidth\":0,\"ticks\":\"\"}},\"type\":\"scatterpolar\"}],\"scatterpolargl\":[{\"marker\":{\"colorbar\":{\"outlinewidth\":0,\"ticks\":\"\"}},\"type\":\"scatterpolargl\"}],\"scatterternary\":[{\"marker\":{\"colorbar\":{\"outlinewidth\":0,\"ticks\":\"\"}},\"type\":\"scatterternary\"}],\"surface\":[{\"colorbar\":{\"outlinewidth\":0,\"ticks\":\"\"},\"colorscale\":[[0.0,\"#0d0887\"],[0.1111111111111111,\"#46039f\"],[0.2222222222222222,\"#7201a8\"],[0.3333333333333333,\"#9c179e\"],[0.4444444444444444,\"#bd3786\"],[0.5555555555555556,\"#d8576b\"],[0.6666666666666666,\"#ed7953\"],[0.7777777777777778,\"#fb9f3a\"],[0.8888888888888888,\"#fdca26\"],[1.0,\"#f0f921\"]],\"type\":\"surface\"}],\"table\":[{\"cells\":{\"fill\":{\"color\":\"#EBF0F8\"},\"line\":{\"color\":\"white\"}},\"header\":{\"fill\":{\"color\":\"#C8D4E3\"},\"line\":{\"color\":\"white\"}},\"type\":\"table\"}]},\"layout\":{\"annotationdefaults\":{\"arrowcolor\":\"#2a3f5f\",\"arrowhead\":0,\"arrowwidth\":1},\"autotypenumbers\":\"strict\",\"coloraxis\":{\"colorbar\":{\"outlinewidth\":0,\"ticks\":\"\"}},\"colorscale\":{\"diverging\":[[0,\"#8e0152\"],[0.1,\"#c51b7d\"],[0.2,\"#de77ae\"],[0.3,\"#f1b6da\"],[0.4,\"#fde0ef\"],[0.5,\"#f7f7f7\"],[0.6,\"#e6f5d0\"],[0.7,\"#b8e186\"],[0.8,\"#7fbc41\"],[0.9,\"#4d9221\"],[1,\"#276419\"]],\"sequential\":[[0.0,\"#0d0887\"],[0.1111111111111111,\"#46039f\"],[0.2222222222222222,\"#7201a8\"],[0.3333333333333333,\"#9c179e\"],[0.4444444444444444,\"#bd3786\"],[0.5555555555555556,\"#d8576b\"],[0.6666666666666666,\"#ed7953\"],[0.7777777777777778,\"#fb9f3a\"],[0.8888888888888888,\"#fdca26\"],[1.0,\"#f0f921\"]],\"sequentialminus\":[[0.0,\"#0d0887\"],[0.1111111111111111,\"#46039f\"],[0.2222222222222222,\"#7201a8\"],[0.3333333333333333,\"#9c179e\"],[0.4444444444444444,\"#bd3786\"],[0.5555555555555556,\"#d8576b\"],[0.6666666666666666,\"#ed7953\"],[0.7777777777777778,\"#fb9f3a\"],[0.8888888888888888,\"#fdca26\"],[1.0,\"#f0f921\"]]},\"colorway\":[\"#636efa\",\"#EF553B\",\"#00cc96\",\"#ab63fa\",\"#FFA15A\",\"#19d3f3\",\"#FF6692\",\"#B6E880\",\"#FF97FF\",\"#FECB52\"],\"font\":{\"color\":\"#2a3f5f\"},\"geo\":{\"bgcolor\":\"white\",\"lakecolor\":\"white\",\"landcolor\":\"#E5ECF6\",\"showlakes\":true,\"showland\":true,\"subunitcolor\":\"white\"},\"hoverlabel\":{\"align\":\"left\"},\"hovermode\":\"closest\",\"mapbox\":{\"style\":\"light\"},\"paper_bgcolor\":\"white\",\"plot_bgcolor\":\"#E5ECF6\",\"polar\":{\"angularaxis\":{\"gridcolor\":\"white\",\"linecolor\":\"white\",\"ticks\":\"\"},\"bgcolor\":\"#E5ECF6\",\"radialaxis\":{\"gridcolor\":\"white\",\"linecolor\":\"white\",\"ticks\":\"\"}},\"scene\":{\"xaxis\":{\"backgroundcolor\":\"#E5ECF6\",\"gridcolor\":\"white\",\"gridwidth\":2,\"linecolor\":\"white\",\"showbackground\":true,\"ticks\":\"\",\"zerolinecolor\":\"white\"},\"yaxis\":{\"backgroundcolor\":\"#E5ECF6\",\"gridcolor\":\"white\",\"gridwidth\":2,\"linecolor\":\"white\",\"showbackground\":true,\"ticks\":\"\",\"zerolinecolor\":\"white\"},\"zaxis\":{\"backgroundcolor\":\"#E5ECF6\",\"gridcolor\":\"white\",\"gridwidth\":2,\"linecolor\":\"white\",\"showbackground\":true,\"ticks\":\"\",\"zerolinecolor\":\"white\"}},\"shapedefaults\":{\"line\":{\"color\":\"#2a3f5f\"}},\"ternary\":{\"aaxis\":{\"gridcolor\":\"white\",\"linecolor\":\"white\",\"ticks\":\"\"},\"baxis\":{\"gridcolor\":\"white\",\"linecolor\":\"white\",\"ticks\":\"\"},\"bgcolor\":\"#E5ECF6\",\"caxis\":{\"gridcolor\":\"white\",\"linecolor\":\"white\",\"ticks\":\"\"}},\"title\":{\"x\":0.05},\"xaxis\":{\"automargin\":true,\"gridcolor\":\"white\",\"linecolor\":\"white\",\"ticks\":\"\",\"title\":{\"standoff\":15},\"zerolinecolor\":\"white\",\"zerolinewidth\":2},\"yaxis\":{\"automargin\":true,\"gridcolor\":\"white\",\"linecolor\":\"white\",\"ticks\":\"\",\"title\":{\"standoff\":15},\"zerolinecolor\":\"white\",\"zerolinewidth\":2}}},\"xaxis\":{\"anchor\":\"y\",\"domain\":[0.0,1.0],\"title\":{\"text\":\"charges\"}},\"yaxis\":{\"anchor\":\"x\",\"domain\":[0.0,1.0],\"title\":{\"text\":\"bmi_description\"}},\"legend\":{\"title\":{\"text\":\"age_description\"},\"tracegroupgap\":0},\"title\":{\"text\":\"Wysoko\\u015b\\u0107 ubezpieczenia a bmi\"},\"barmode\":\"relative\",\"bargap\":0.5},                        {\"responsive\": true}                    ).then(function(){\n",
              "                            \n",
              "var gd = document.getElementById('e231a1b1-4bff-462c-b1ac-9c37d8aace82');\n",
              "var x = new MutationObserver(function (mutations, observer) {{\n",
              "        var display = window.getComputedStyle(gd).display;\n",
              "        if (!display || display === 'none') {{\n",
              "            console.log([gd, 'removed!']);\n",
              "            Plotly.purge(gd);\n",
              "            observer.disconnect();\n",
              "        }}\n",
              "}});\n",
              "\n",
              "// Listen for the removal of the full notebook cells\n",
              "var notebookContainer = gd.closest('#notebook-container');\n",
              "if (notebookContainer) {{\n",
              "    x.observe(notebookContainer, {childList: true});\n",
              "}}\n",
              "\n",
              "// Listen for the clearing of the current output cell\n",
              "var outputEl = gd.closest('.output');\n",
              "if (outputEl) {{\n",
              "    x.observe(outputEl, {childList: true});\n",
              "}}\n",
              "\n",
              "                        })                };                            </script>        </div>\n",
              "</body>\n",
              "</html>"
            ]
          },
          "metadata": {}
        }
      ]
    },
    {
      "cell_type": "code",
      "source": [
        "px.bar(data_frame=df_male, x='bmi_description', y='charges', title=\"Wysokość ubezpieczenia a bmi\", text_auto=True, color='age_description')"
      ],
      "metadata": {
        "colab": {
          "base_uri": "https://localhost:8080/",
          "height": 542
        },
        "id": "khuixI6qR9mQ",
        "outputId": "f09e03a5-73b6-401f-ae5a-83c27e30a0e7"
      },
      "execution_count": 54,
      "outputs": [
        {
          "output_type": "display_data",
          "data": {
            "text/html": [
              "<html>\n",
              "<head><meta charset=\"utf-8\" /></head>\n",
              "<body>\n",
              "    <div>            <script src=\"https://cdnjs.cloudflare.com/ajax/libs/mathjax/2.7.5/MathJax.js?config=TeX-AMS-MML_SVG\"></script><script type=\"text/javascript\">if (window.MathJax) {MathJax.Hub.Config({SVG: {font: \"STIX-Web\"}});}</script>                <script type=\"text/javascript\">window.PlotlyConfig = {MathJaxConfig: 'local'};</script>\n",
              "        <script src=\"https://cdn.plot.ly/plotly-2.8.3.min.js\"></script>                <div id=\"54a97b02-d1b9-4ba0-b231-8506476ab4fb\" class=\"plotly-graph-div\" style=\"height:525px; width:100%;\"></div>            <script type=\"text/javascript\">                                    window.PLOTLYENV=window.PLOTLYENV || {};                                    if (document.getElementById(\"54a97b02-d1b9-4ba0-b231-8506476ab4fb\")) {                    Plotly.newPlot(                        \"54a97b02-d1b9-4ba0-b231-8506476ab4fb\",                        [{\"alignmentgroup\":\"True\",\"hovertemplate\":\"age_description=m\\u0142odzi_doro\\u015bli<br>bmi_description=%{x}<br>charges=%{y}<extra></extra>\",\"legendgroup\":\"m\\u0142odzi_doro\\u015bli\",\"marker\":{\"color\":\"#636efa\",\"pattern\":{\"shape\":\"\"}},\"name\":\"m\\u0142odzi_doro\\u015bli\",\"offsetgroup\":\"m\\u0142odzi_doro\\u015bli\",\"orientation\":\"v\",\"showlegend\":true,\"textposition\":\"auto\",\"texttemplate\":\"%{y}\",\"x\":[\"nadwaga\",\"nadwaga\",\"nadwaga\",\"norma\",\"norma\",\"nadwaga\",\"niedowaga\",\"oty\\u0142o\\u015b\\u0107\",\"norma\",\"nadwaga\",\"nadwaga\",\"oty\\u0142o\\u015b\\u0107\",\"oty\\u0142o\\u015b\\u0107\",\"nadwaga\",\"norma\",\"nadwaga\",\"nadwaga\",\"nadwaga\",\"nadwaga\",\"nadwaga\",\"niedowaga\",\"norma\",\"nadwaga\",\"nadwaga\",\"nadwaga\",\"nadwaga\",\"nadwaga\",\"nadwaga\",\"nadwaga\",\"oty\\u0142o\\u015b\\u0107\",\"norma\",\"niedowaga\",\"nadwaga\",\"oty\\u0142o\\u015b\\u0107\",\"nadwaga\",\"nadwaga\",\"norma\",\"oty\\u0142o\\u015b\\u0107\",\"nadwaga\",\"norma\",\"nadwaga\",\"nadwaga\",\"oty\\u0142o\\u015b\\u0107\",\"nadwaga\",\"nadwaga\",\"oty\\u0142o\\u015b\\u0107\",\"nadwaga\",\"nadwaga\",\"niedowaga\",\"norma\",\"nadwaga\",\"nadwaga\",\"nadwaga\",\"oty\\u0142o\\u015b\\u0107\",\"norma\",\"nadwaga\",\"nadwaga\",\"nadwaga\",\"oty\\u0142o\\u015b\\u0107\",\"oty\\u0142o\\u015b\\u0107\",\"nadwaga\",\"nadwaga\",\"nadwaga\",\"nadwaga\",\"nadwaga\",\"nadwaga\",\"norma\",\"nadwaga\",\"oty\\u0142o\\u015b\\u0107\",\"nadwaga\",\"oty\\u0142o\\u015b\\u0107\",\"nadwaga\",\"nadwaga\",\"norma\",\"norma\",\"nadwaga\",\"nadwaga\",\"nadwaga\",\"nadwaga\",\"nadwaga\",\"norma\",\"nadwaga\",\"nadwaga\",\"norma\",\"oty\\u0142o\\u015b\\u0107\",\"oty\\u0142o\\u015b\\u0107\",\"oty\\u0142o\\u015b\\u0107\",\"nadwaga\",\"norma\",\"nadwaga\",\"nadwaga\",\"oty\\u0142o\\u015b\\u0107\",\"oty\\u0142o\\u015b\\u0107\",\"oty\\u0142o\\u015b\\u0107\",\"oty\\u0142o\\u015b\\u0107\",\"nadwaga\",\"norma\",\"nadwaga\",\"nadwaga\",\"nadwaga\",\"oty\\u0142o\\u015b\\u0107\",\"nadwaga\",\"oty\\u0142o\\u015b\\u0107\",\"norma\",\"oty\\u0142o\\u015b\\u0107\",\"nadwaga\",\"nadwaga\",\"nadwaga\",\"oty\\u0142o\\u015b\\u0107\",\"nadwaga\",\"nadwaga\",\"nadwaga\",\"nadwaga\",\"norma\",\"norma\",\"nadwaga\",\"nadwaga\",\"nadwaga\",\"nadwaga\",\"nadwaga\",\"nadwaga\",\"norma\",\"norma\",\"nadwaga\",\"norma\",\"norma\",\"oty\\u0142o\\u015b\\u0107\",\"nadwaga\",\"nadwaga\",\"norma\",\"nadwaga\",\"oty\\u0142o\\u015b\\u0107\",\"nadwaga\",\"nadwaga\",\"nadwaga\",\"norma\",\"nadwaga\",\"nadwaga\",\"norma\",\"nadwaga\",\"oty\\u0142o\\u015b\\u0107\",\"nadwaga\",\"oty\\u0142o\\u015b\\u0107\",\"nadwaga\",\"norma\",\"oty\\u0142o\\u015b\\u0107\",\"nadwaga\",\"nadwaga\",\"norma\",\"nadwaga\",\"nadwaga\",\"nadwaga\",\"oty\\u0142o\\u015b\\u0107\",\"nadwaga\",\"norma\",\"norma\",\"nadwaga\",\"nadwaga\",\"oty\\u0142o\\u015b\\u0107\"],\"xaxis\":\"x\",\"y\":[1725.5523,2721.3208,1826.843,1837.237,2395.17155,1137.011,2775.19215,35585.576,1625.43375,34303.1672,4504.6624,1532.4697,37165.1638,17560.37975,1705.6245,1632.56445,1261.442,2045.68525,1842.519,15518.18025,1694.7964,4005.4225,2137.6536,1137.4697,1639.5631,1980.07,3537.703,34779.615,17352.6803,1986.9334,1832.094,12829.4551,33750.2918,36219.40545,1719.4363,2523.1695,2803.69785,42112.2356,3906.127,1704.5681,16297.846,1635.73365,1837.2819,3481.868,1391.5287,38126.2465,1261.859,16586.49771,1621.3402,5080.096,2727.3951,23082.95533,2254.7967,1149.3959,1969.614,1769.53165,1632.03625,35147.52848,2534.39375,1534.3045,1824.2854,1253.936,17942.106,1967.0227,32548.3405,2643.2685,3077.0955,1256.299,27724.28875,1708.0014,1646.4297,1664.9996,1639.5631,1242.816,3861.20965,2566.4707,34617.84065,1977.815,1712.227,1136.3994,1242.26,2104.1134,2362.22905,2352.96845,1727.54,1984.4533,1263.249,36189.1017,1627.28245,1906.35825,17128.42608,36307.7983,2416.955,1146.7966,1917.3184,1252.407,2103.08,1815.8759,1131.5066,3309.7926,3597.596,1526.312,2438.0552,15817.9857,1141.4451,3443.064,2789.0574,4877.98105,1682.597,2221.56445,2639.0429,33732.6867,2304.0022,1121.8739,1628.4709,19933.458,12609.88702,3279.86855,4915.05985,34472.841,1972.95,23241.47453,1711.0268,16450.8947,21595.38229,13747.87235,37484.4493,2250.8352,22493.65964,1704.70015,33475.81715,44501.3982,1981.5819,1909.52745,2102.2647,11884.04858,3591.48,1674.6323,2396.0959,36124.5737,39722.7462,17178.6824,37465.34375,2055.3249,1702.4553,12890.05765,1135.9407,18648.4217,1241.565,16232.847,34254.05335,1720.3537,38344.566,34828.654,1515.3449,1964.78,1708.92575,11272.33139,1163.4627],\"yaxis\":\"y\",\"type\":\"bar\"},{\"alignmentgroup\":\"True\",\"hovertemplate\":\"age_description=starsi_doro\\u015bli<br>bmi_description=%{x}<br>charges=%{y}<extra></extra>\",\"legendgroup\":\"starsi_doro\\u015bli\",\"marker\":{\"color\":\"#EF553B\",\"pattern\":{\"shape\":\"\"}},\"name\":\"starsi_doro\\u015bli\",\"offsetgroup\":\"starsi_doro\\u015bli\",\"orientation\":\"v\",\"showlegend\":true,\"textposition\":\"auto\",\"texttemplate\":\"%{y}\",\"x\":[\"nadwaga\",\"norma\",\"nadwaga\",\"oty\\u0142o\\u015b\\u0107\",\"oty\\u0142o\\u015b\\u0107\",\"oty\\u0142o\\u015b\\u0107\",\"oty\\u0142o\\u015b\\u0107\",\"norma\",\"oty\\u0142o\\u015b\\u0107\",\"norma\",\"nadwaga\",\"nadwaga\",\"nadwaga\",\"nadwaga\",\"nadwaga\",\"nadwaga\",\"norma\",\"nadwaga\",\"nadwaga\",\"nadwaga\",\"nadwaga\",\"norma\",\"oty\\u0142o\\u015b\\u0107\",\"norma\",\"nadwaga\",\"norma\",\"nadwaga\",\"oty\\u0142o\\u015b\\u0107\",\"oty\\u0142o\\u015b\\u0107\",\"nadwaga\",\"nadwaga\",\"nadwaga\",\"nadwaga\",\"nadwaga\",\"nadwaga\",\"oty\\u0142o\\u015b\\u0107\",\"nadwaga\",\"nadwaga\",\"nadwaga\",\"oty\\u0142o\\u015b\\u0107\",\"oty\\u0142o\\u015b\\u0107\",\"nadwaga\",\"nadwaga\",\"norma\",\"nadwaga\",\"nadwaga\",\"nadwaga\",\"nadwaga\",\"oty\\u0142o\\u015b\\u0107\",\"norma\",\"oty\\u0142o\\u015b\\u0107\",\"nadwaga\",\"nadwaga\",\"nadwaga\",\"nadwaga\",\"oty\\u0142o\\u015b\\u0107\",\"norma\",\"nadwaga\",\"nadwaga\",\"nadwaga\",\"oty\\u0142o\\u015b\\u0107\",\"nadwaga\",\"oty\\u0142o\\u015b\\u0107\",\"oty\\u0142o\\u015b\\u0107\",\"nadwaga\",\"nadwaga\",\"nadwaga\",\"norma\",\"norma\",\"oty\\u0142o\\u015b\\u0107\",\"nadwaga\",\"nadwaga\",\"nadwaga\",\"nadwaga\",\"oty\\u0142o\\u015b\\u0107\",\"nadwaga\",\"nadwaga\",\"nadwaga\",\"norma\",\"norma\",\"nadwaga\",\"oty\\u0142o\\u015b\\u0107\",\"norma\",\"norma\",\"niedowaga\",\"nadwaga\",\"nadwaga\",\"nadwaga\",\"nadwaga\",\"norma\",\"oty\\u0142o\\u015b\\u0107\",\"oty\\u0142o\\u015b\\u0107\",\"oty\\u0142o\\u015b\\u0107\",\"nadwaga\",\"oty\\u0142o\\u015b\\u0107\",\"nadwaga\",\"oty\\u0142o\\u015b\\u0107\",\"norma\",\"nadwaga\",\"norma\",\"nadwaga\",\"nadwaga\",\"norma\",\"nadwaga\",\"nadwaga\",\"nadwaga\",\"nadwaga\",\"nadwaga\",\"nadwaga\",\"oty\\u0142o\\u015b\\u0107\",\"nadwaga\",\"oty\\u0142o\\u015b\\u0107\",\"nadwaga\",\"oty\\u0142o\\u015b\\u0107\",\"nadwaga\",\"nadwaga\",\"oty\\u0142o\\u015b\\u0107\",\"oty\\u0142o\\u015b\\u0107\",\"oty\\u0142o\\u015b\\u0107\",\"nadwaga\",\"nadwaga\",\"niedowaga\",\"oty\\u0142o\\u015b\\u0107\",\"nadwaga\",\"norma\",\"nadwaga\",\"nadwaga\",\"oty\\u0142o\\u015b\\u0107\",\"nadwaga\",\"nadwaga\",\"nadwaga\",\"nadwaga\",\"nadwaga\",\"oty\\u0142o\\u015b\\u0107\",\"oty\\u0142o\\u015b\\u0107\",\"nadwaga\",\"nadwaga\"],\"xaxis\":\"x\",\"y\":[4449.462,21984.47061,3866.8552,39611.7577,36837.467,38711.0,51194.55914,2302.3,39774.2763,17663.1442,6799.458,4441.21315,5729.0053,3645.0894,3877.30425,2867.1196,27375.90478,3490.5491,18972.495,18157.876,20745.9891,5125.2157,36950.2567,4827.90495,20984.0936,2483.736,5253.524,2689.4954,4463.2051,4040.55825,4260.744,4237.12655,20277.80751,38746.3551,19442.3535,4667.60765,4894.7533,35491.64,2866.091,4889.9995,12404.8791,4751.07,36085.219,3260.199,4074.4537,4243.59005,5926.846,2897.3235,4762.329,4032.2407,4686.3887,2497.0383,36197.699,2498.4144,3857.75925,3268.84665,3847.674,3935.1799,2494.022,4435.0942,39241.442,3659.346,11326.71487,6666.243,4058.71245,4837.5823,34806.4677,19361.9988,3484.331,44585.45587,18246.4955,11737.84884,3062.50825,5031.26955,5428.7277,19040.876,3070.8087,5934.3798,18259.216,5209.57885,18310.742,4266.1658,17904.52705,4428.88785,2680.9493,6653.7886,19719.6947,4661.28635,4846.92015,5257.50795,4320.41085,2927.0647,4673.3922,20009.63365,3875.7341,4746.344,2322.6218,16138.76205,2902.9065,4500.33925,19199.944,4518.82625,17361.7661,4433.3877,4438.2634,4462.7218,34672.1472,4454.40265,4076.497,3471.4096,2904.088,38282.7495,14358.36437,3693.428,19673.33573,3704.3545,5124.1887,18963.17192,4670.64,4433.9159,19350.3689,5116.5004,4058.1161,2699.56835,5615.369,6059.173,37607.5277,3277.161,3292.52985,4747.0529,17043.3414,5261.46945,21472.4788,4536.259,19496.71917,5425.02335,4239.89265],\"yaxis\":\"y\",\"type\":\"bar\"},{\"alignmentgroup\":\"True\",\"hovertemplate\":\"age_description=\\u015bredni_wiek<br>bmi_description=%{x}<br>charges=%{y}<extra></extra>\",\"legendgroup\":\"\\u015bredni_wiek\",\"marker\":{\"color\":\"#00cc96\",\"pattern\":{\"shape\":\"\"}},\"name\":\"\\u015bredni_wiek\",\"offsetgroup\":\"\\u015bredni_wiek\",\"orientation\":\"v\",\"showlegend\":true,\"textposition\":\"auto\",\"texttemplate\":\"%{y}\",\"x\":[\"nadwaga\",\"nadwaga\",\"norma\",\"oty\\u0142o\\u015b\\u0107\",\"oty\\u0142o\\u015b\\u0107\",\"nadwaga\",\"nadwaga\",\"nadwaga\",\"nadwaga\",\"nadwaga\",\"norma\",\"norma\",\"nadwaga\",\"oty\\u0142o\\u015b\\u0107\",\"nadwaga\",\"nadwaga\",\"nadwaga\",\"nadwaga\",\"oty\\u0142o\\u015b\\u0107\",\"norma\",\"nadwaga\",\"nadwaga\",\"nadwaga\",\"nadwaga\",\"nadwaga\",\"oty\\u0142o\\u015b\\u0107\",\"norma\",\"oty\\u0142o\\u015b\\u0107\",\"nadwaga\",\"norma\",\"nadwaga\",\"norma\",\"oty\\u0142o\\u015b\\u0107\",\"oty\\u0142o\\u015b\\u0107\",\"nadwaga\",\"oty\\u0142o\\u015b\\u0107\",\"norma\",\"nadwaga\",\"nadwaga\",\"nadwaga\",\"oty\\u0142o\\u015b\\u0107\",\"nadwaga\",\"nadwaga\",\"nadwaga\",\"nadwaga\",\"nadwaga\",\"oty\\u0142o\\u015b\\u0107\",\"oty\\u0142o\\u015b\\u0107\",\"nadwaga\",\"nadwaga\",\"oty\\u0142o\\u015b\\u0107\",\"nadwaga\",\"nadwaga\",\"nadwaga\",\"oty\\u0142o\\u015b\\u0107\",\"nadwaga\",\"nadwaga\",\"norma\",\"nadwaga\",\"oty\\u0142o\\u015b\\u0107\",\"nadwaga\",\"nadwaga\",\"norma\",\"oty\\u0142o\\u015b\\u0107\",\"nadwaga\",\"norma\",\"nadwaga\",\"nadwaga\",\"norma\",\"nadwaga\",\"nadwaga\",\"nadwaga\",\"oty\\u0142o\\u015b\\u0107\",\"nadwaga\",\"nadwaga\",\"nadwaga\",\"nadwaga\",\"nadwaga\",\"nadwaga\",\"nadwaga\",\"oty\\u0142o\\u015b\\u0107\",\"oty\\u0142o\\u015b\\u0107\",\"nadwaga\",\"nadwaga\",\"nadwaga\",\"oty\\u0142o\\u015b\\u0107\",\"nadwaga\",\"oty\\u0142o\\u015b\\u0107\",\"oty\\u0142o\\u015b\\u0107\",\"norma\",\"oty\\u0142o\\u015b\\u0107\",\"nadwaga\",\"nadwaga\",\"nadwaga\",\"nadwaga\",\"norma\",\"nadwaga\",\"nadwaga\",\"oty\\u0142o\\u015b\\u0107\",\"nadwaga\",\"nadwaga\",\"oty\\u0142o\\u015b\\u0107\",\"oty\\u0142o\\u015b\\u0107\",\"nadwaga\",\"nadwaga\",\"norma\",\"oty\\u0142o\\u015b\\u0107\",\"nadwaga\",\"oty\\u0142o\\u015b\\u0107\",\"oty\\u0142o\\u015b\\u0107\",\"oty\\u0142o\\u015b\\u0107\",\"nadwaga\",\"nadwaga\",\"norma\",\"nadwaga\",\"nadwaga\",\"nadwaga\",\"nadwaga\",\"oty\\u0142o\\u015b\\u0107\",\"nadwaga\",\"nadwaga\",\"nadwaga\",\"nadwaga\",\"norma\",\"nadwaga\",\"oty\\u0142o\\u015b\\u0107\",\"nadwaga\",\"nadwaga\",\"oty\\u0142o\\u015b\\u0107\",\"norma\",\"nadwaga\",\"norma\",\"nadwaga\",\"oty\\u0142o\\u015b\\u0107\",\"norma\",\"oty\\u0142o\\u015b\\u0107\",\"norma\",\"nadwaga\",\"norma\",\"nadwaga\",\"nadwaga\",\"nadwaga\",\"nadwaga\",\"oty\\u0142o\\u015b\\u0107\",\"nadwaga\",\"nadwaga\",\"nadwaga\",\"nadwaga\",\"oty\\u0142o\\u015b\\u0107\",\"norma\",\"nadwaga\",\"oty\\u0142o\\u015b\\u0107\",\"nadwaga\",\"nadwaga\",\"nadwaga\",\"norma\",\"nadwaga\",\"norma\",\"nadwaga\",\"oty\\u0142o\\u015b\\u0107\",\"nadwaga\",\"nadwaga\",\"nadwaga\",\"nadwaga\",\"oty\\u0142o\\u015b\\u0107\",\"oty\\u0142o\\u015b\\u0107\",\"oty\\u0142o\\u015b\\u0107\",\"norma\",\"oty\\u0142o\\u015b\\u0107\",\"nadwaga\",\"norma\",\"oty\\u0142o\\u015b\\u0107\",\"nadwaga\",\"oty\\u0142o\\u015b\\u0107\",\"oty\\u0142o\\u015b\\u0107\",\"nadwaga\",\"nadwaga\",\"nadwaga\",\"nadwaga\",\"norma\",\"nadwaga\",\"nadwaga\",\"norma\",\"oty\\u0142o\\u015b\\u0107\",\"nadwaga\",\"nadwaga\",\"nadwaga\",\"nadwaga\",\"norma\",\"nadwaga\",\"norma\",\"niedowaga\",\"oty\\u0142o\\u015b\\u0107\",\"norma\",\"nadwaga\",\"nadwaga\",\"nadwaga\",\"nadwaga\",\"nadwaga\",\"nadwaga\",\"nadwaga\",\"norma\",\"nadwaga\",\"nadwaga\",\"nadwaga\"],\"xaxis\":\"x\",\"y\":[6406.4107,6203.90175,6272.4772,6079.6715,38709.176,23568.272,37742.5757,8606.2174,6389.37785,7726.854,21098.55405,15820.699,4646.759,7740.337,39556.4945,6082.405,40720.55105,7789.635,6948.7008,21223.6758,5028.1466,10407.08585,8116.68,6455.86265,7731.4271,43753.33705,7147.105,6610.1097,8162.71625,19515.5416,9225.2564,6710.1919,7152.6714,7196.867,41097.16175,46151.1245,17179.522,7441.053,9282.4806,42856.838,7265.7025,9617.66245,7742.1098,21978.6769,6746.7425,8444.474,42124.5153,8124.4084,8835.26495,6600.20595,42760.5022,41919.097,8334.45755,24603.04837,8944.1151,9620.3307,8116.26885,8302.53565,30284.64294,10736.87075,8964.06055,9290.1395,7526.70645,8083.9198,10269.46,6652.5288,39125.33225,8968.33,9788.8659,5969.723,7512.267,22144.032,9304.7019,9563.029,8027.968,6837.3687,6796.86325,21082.16,8413.46305,38245.59327,8342.90875,19214.70553,6067.12675,23807.2406,8334.5896,9058.7303,7256.7231,45702.02235,6356.2707,8428.0693,5709.1644,7441.501,23306.547,40182.246,6748.5912,7173.35995,20149.3229,32787.45859,18806.14547,10141.1362,6123.5688,6435.6237,42560.4304,8703.456,4399.731,7222.78625,40103.89,7729.64575,5438.7491,8068.185,40273.6455,10264.4421,6664.68595,8604.48365,8827.2099,8062.764,7261.741,6986.697,7448.40395,5584.3057,7445.918,20773.62775,39597.4072,6117.4945,5377.4578,7160.3303,4402.233,6600.361,8457.818,5966.8874,6849.026,8891.1395,6282.235,44202.6536,8688.85885,8125.7845,35069.37452,5488.262,6250.435,25333.33284,6289.7549,10096.97,32108.66282,7160.094,39047.285,6358.77645,38998.546,41034.2214,28468.91901,9500.57305,7518.02535,7804.1605,8410.04685,5484.4673,21232.18226,8627.5411,24915.22085,18767.7377,8765.249,42211.1382,39727.614,9288.0267,25309.489,6548.19505,8978.1851,5757.41345,39871.7043,5855.9025,41676.0811,20420.60465,8605.3615,41949.2441,9222.4026,8347.1643,9048.0273,6338.0756,9630.397,5979.731,6457.8434,8603.8234,5699.8375,6393.60345,6198.7518,8733.22925,38415.474,5373.36425,23563.01618,5415.6612,6593.5083,8442.667,6858.4796,6640.54485,7162.0122,6985.50695,8615.3,14478.33015,22462.04375,7147.4728,9301.89355,62592.87309,37829.7242,21259.37795,6875.961,6940.90985,10600.5483],\"yaxis\":\"y\",\"type\":\"bar\"},{\"alignmentgroup\":\"True\",\"hovertemplate\":\"age_description=seniorzy<br>bmi_description=%{x}<br>charges=%{y}<extra></extra>\",\"legendgroup\":\"seniorzy\",\"marker\":{\"color\":\"#ab63fa\",\"pattern\":{\"shape\":\"\"}},\"name\":\"seniorzy\",\"offsetgroup\":\"seniorzy\",\"orientation\":\"v\",\"showlegend\":true,\"textposition\":\"auto\",\"texttemplate\":\"%{y}\",\"x\":[\"oty\\u0142o\\u015b\\u0107\",\"nadwaga\",\"oty\\u0142o\\u015b\\u0107\",\"oty\\u0142o\\u015b\\u0107\",\"oty\\u0142o\\u015b\\u0107\",\"norma\",\"nadwaga\",\"nadwaga\",\"nadwaga\",\"oty\\u0142o\\u015b\\u0107\",\"norma\",\"oty\\u0142o\\u015b\\u0107\",\"nadwaga\",\"nadwaga\",\"nadwaga\",\"oty\\u0142o\\u015b\\u0107\",\"oty\\u0142o\\u015b\\u0107\",\"oty\\u0142o\\u015b\\u0107\",\"nadwaga\",\"nadwaga\",\"nadwaga\",\"nadwaga\",\"nadwaga\",\"nadwaga\",\"nadwaga\",\"nadwaga\",\"nadwaga\",\"norma\",\"norma\",\"nadwaga\",\"oty\\u0142o\\u015b\\u0107\",\"nadwaga\",\"nadwaga\",\"nadwaga\",\"nadwaga\",\"oty\\u0142o\\u015b\\u0107\",\"oty\\u0142o\\u015b\\u0107\",\"nadwaga\",\"nadwaga\",\"nadwaga\",\"nadwaga\",\"nadwaga\",\"oty\\u0142o\\u015b\\u0107\",\"nadwaga\",\"nadwaga\",\"nadwaga\",\"nadwaga\",\"nadwaga\",\"oty\\u0142o\\u015b\\u0107\",\"nadwaga\",\"oty\\u0142o\\u015b\\u0107\",\"nadwaga\",\"nadwaga\",\"nadwaga\",\"oty\\u0142o\\u015b\\u0107\",\"oty\\u0142o\\u015b\\u0107\",\"nadwaga\",\"nadwaga\",\"nadwaga\",\"oty\\u0142o\\u015b\\u0107\",\"nadwaga\",\"oty\\u0142o\\u015b\\u0107\",\"norma\",\"nadwaga\",\"norma\",\"oty\\u0142o\\u015b\\u0107\",\"oty\\u0142o\\u015b\\u0107\",\"nadwaga\",\"oty\\u0142o\\u015b\\u0107\",\"nadwaga\",\"nadwaga\",\"nadwaga\",\"norma\",\"nadwaga\",\"nadwaga\",\"nadwaga\",\"nadwaga\",\"oty\\u0142o\\u015b\\u0107\",\"oty\\u0142o\\u015b\\u0107\",\"oty\\u0142o\\u015b\\u0107\",\"oty\\u0142o\\u015b\\u0107\",\"nadwaga\",\"nadwaga\",\"nadwaga\",\"nadwaga\",\"oty\\u0142o\\u015b\\u0107\",\"norma\",\"nadwaga\",\"nadwaga\",\"oty\\u0142o\\u015b\\u0107\",\"nadwaga\",\"norma\",\"oty\\u0142o\\u015b\\u0107\",\"oty\\u0142o\\u015b\\u0107\",\"norma\",\"nadwaga\",\"oty\\u0142o\\u015b\\u0107\",\"oty\\u0142o\\u015b\\u0107\",\"nadwaga\",\"nadwaga\",\"oty\\u0142o\\u015b\\u0107\",\"oty\\u0142o\\u015b\\u0107\",\"norma\",\"norma\",\"norma\",\"nadwaga\",\"nadwaga\",\"nadwaga\",\"norma\",\"nadwaga\",\"nadwaga\",\"nadwaga\",\"nadwaga\",\"nadwaga\",\"oty\\u0142o\\u015b\\u0107\",\"norma\",\"nadwaga\",\"nadwaga\",\"norma\",\"nadwaga\",\"oty\\u0142o\\u015b\\u0107\",\"oty\\u0142o\\u015b\\u0107\",\"nadwaga\",\"oty\\u0142o\\u015b\\u0107\",\"niedowaga\",\"oty\\u0142o\\u015b\\u0107\",\"nadwaga\",\"oty\\u0142o\\u015b\\u0107\",\"norma\",\"nadwaga\",\"nadwaga\",\"nadwaga\",\"oty\\u0142o\\u015b\\u0107\",\"nadwaga\",\"oty\\u0142o\\u015b\\u0107\",\"oty\\u0142o\\u015b\\u0107\",\"nadwaga\",\"nadwaga\",\"nadwaga\",\"oty\\u0142o\\u015b\\u0107\",\"norma\",\"nadwaga\",\"nadwaga\",\"nadwaga\",\"nadwaga\",\"oty\\u0142o\\u015b\\u0107\",\"norma\",\"nadwaga\",\"oty\\u0142o\\u015b\\u0107\",\"nadwaga\",\"nadwaga\",\"oty\\u0142o\\u015b\\u0107\",\"nadwaga\",\"nadwaga\",\"norma\",\"oty\\u0142o\\u015b\\u0107\",\"nadwaga\",\"oty\\u0142o\\u015b\\u0107\",\"nadwaga\",\"nadwaga\",\"nadwaga\",\"norma\",\"oty\\u0142o\\u015b\\u0107\",\"oty\\u0142o\\u015b\\u0107\",\"oty\\u0142o\\u015b\\u0107\",\"norma\",\"norma\",\"oty\\u0142o\\u015b\\u0107\",\"nadwaga\",\"nadwaga\",\"nadwaga\",\"oty\\u0142o\\u015b\\u0107\",\"nadwaga\",\"nadwaga\",\"oty\\u0142o\\u015b\\u0107\"],\"xaxis\":\"x\",\"y\":[10602.385,13770.0979,48173.361,20630.28351,47496.49445,30166.61817,11946.6259,11356.6609,30184.9367,10226.2842,22412.6485,47055.5321,10825.2537,11488.31695,30259.99556,11381.3254,10450.552,13405.3903,10436.096,11735.87905,12557.6053,11743.299,11987.1682,12333.828,24476.47851,44260.7499,43921.1837,11520.09985,24869.8368,12928.7911,48549.17835,25992.82104,11944.59435,9722.7695,10435.06525,11566.30055,9144.565,24393.6224,13822.803,12142.5786,13937.6665,13352.0998,13981.85035,27000.98473,42303.69215,20781.48892,14988.432,9140.951,14418.2804,46889.2612,46599.1084,13919.8229,26109.32905,12730.9996,21797.0004,10601.412,11165.41765,25382.297,28868.6639,15555.18875,10461.9794,12574.049,22218.1149,11763.0009,9361.3268,11362.755,48675.5177,12925.886,13831.1152,27346.04207,10231.4999,13390.559,12957.118,9724.53,12913.9924,9174.13565,12129.61415,11365.952,10085.846,9391.346,14410.9321,12949.1554,13143.86485,45710.20785,46130.5265,12363.547,9863.4718,11244.3769,10976.24575,9504.3103,12146.971,13112.6048,11264.541,12979.358,10065.413,43254.41795,14210.53595,27941.28758,10560.4917,9869.8102,9386.1613,12741.16745,21195.818,11013.7119,12523.6048,43813.8661,13393.756,11743.9341,12323.936,10072.05505,10601.63225,14119.62,10965.446,8782.469,11576.13,13129.60345,27218.43725,11945.1327,10422.91665,13555.0049,48673.5588,15170.069,9487.6442,12982.8747,11534.87265,47462.894,41999.52,26467.09737,23967.38305,25517.11363,9957.7216,12124.9924,8798.593,9850.432,12950.0712,11394.06555,14394.5579,10594.50155,11554.2236,48970.2476,14349.8544,13974.45555,15161.5344,10796.35025,11353.2276,9748.9106,10577.087,11253.421,11363.2832,10807.4863,10214.636,20709.02034,11289.10925,52590.82939,10791.96,10982.5013,9964.06,12347.172,10594.2257,11938.25595,60021.39897,11345.519,47269.854,49577.6624,30063.58055,26926.5144,10959.33,47403.88,11931.12525,46718.16325,28101.33305,12981.3457,13143.33665,9377.9047,10325.206],\"yaxis\":\"y\",\"type\":\"bar\"}],                        {\"template\":{\"data\":{\"bar\":[{\"error_x\":{\"color\":\"#2a3f5f\"},\"error_y\":{\"color\":\"#2a3f5f\"},\"marker\":{\"line\":{\"color\":\"#E5ECF6\",\"width\":0.5},\"pattern\":{\"fillmode\":\"overlay\",\"size\":10,\"solidity\":0.2}},\"type\":\"bar\"}],\"barpolar\":[{\"marker\":{\"line\":{\"color\":\"#E5ECF6\",\"width\":0.5},\"pattern\":{\"fillmode\":\"overlay\",\"size\":10,\"solidity\":0.2}},\"type\":\"barpolar\"}],\"carpet\":[{\"aaxis\":{\"endlinecolor\":\"#2a3f5f\",\"gridcolor\":\"white\",\"linecolor\":\"white\",\"minorgridcolor\":\"white\",\"startlinecolor\":\"#2a3f5f\"},\"baxis\":{\"endlinecolor\":\"#2a3f5f\",\"gridcolor\":\"white\",\"linecolor\":\"white\",\"minorgridcolor\":\"white\",\"startlinecolor\":\"#2a3f5f\"},\"type\":\"carpet\"}],\"choropleth\":[{\"colorbar\":{\"outlinewidth\":0,\"ticks\":\"\"},\"type\":\"choropleth\"}],\"contour\":[{\"colorbar\":{\"outlinewidth\":0,\"ticks\":\"\"},\"colorscale\":[[0.0,\"#0d0887\"],[0.1111111111111111,\"#46039f\"],[0.2222222222222222,\"#7201a8\"],[0.3333333333333333,\"#9c179e\"],[0.4444444444444444,\"#bd3786\"],[0.5555555555555556,\"#d8576b\"],[0.6666666666666666,\"#ed7953\"],[0.7777777777777778,\"#fb9f3a\"],[0.8888888888888888,\"#fdca26\"],[1.0,\"#f0f921\"]],\"type\":\"contour\"}],\"contourcarpet\":[{\"colorbar\":{\"outlinewidth\":0,\"ticks\":\"\"},\"type\":\"contourcarpet\"}],\"heatmap\":[{\"colorbar\":{\"outlinewidth\":0,\"ticks\":\"\"},\"colorscale\":[[0.0,\"#0d0887\"],[0.1111111111111111,\"#46039f\"],[0.2222222222222222,\"#7201a8\"],[0.3333333333333333,\"#9c179e\"],[0.4444444444444444,\"#bd3786\"],[0.5555555555555556,\"#d8576b\"],[0.6666666666666666,\"#ed7953\"],[0.7777777777777778,\"#fb9f3a\"],[0.8888888888888888,\"#fdca26\"],[1.0,\"#f0f921\"]],\"type\":\"heatmap\"}],\"heatmapgl\":[{\"colorbar\":{\"outlinewidth\":0,\"ticks\":\"\"},\"colorscale\":[[0.0,\"#0d0887\"],[0.1111111111111111,\"#46039f\"],[0.2222222222222222,\"#7201a8\"],[0.3333333333333333,\"#9c179e\"],[0.4444444444444444,\"#bd3786\"],[0.5555555555555556,\"#d8576b\"],[0.6666666666666666,\"#ed7953\"],[0.7777777777777778,\"#fb9f3a\"],[0.8888888888888888,\"#fdca26\"],[1.0,\"#f0f921\"]],\"type\":\"heatmapgl\"}],\"histogram\":[{\"marker\":{\"pattern\":{\"fillmode\":\"overlay\",\"size\":10,\"solidity\":0.2}},\"type\":\"histogram\"}],\"histogram2d\":[{\"colorbar\":{\"outlinewidth\":0,\"ticks\":\"\"},\"colorscale\":[[0.0,\"#0d0887\"],[0.1111111111111111,\"#46039f\"],[0.2222222222222222,\"#7201a8\"],[0.3333333333333333,\"#9c179e\"],[0.4444444444444444,\"#bd3786\"],[0.5555555555555556,\"#d8576b\"],[0.6666666666666666,\"#ed7953\"],[0.7777777777777778,\"#fb9f3a\"],[0.8888888888888888,\"#fdca26\"],[1.0,\"#f0f921\"]],\"type\":\"histogram2d\"}],\"histogram2dcontour\":[{\"colorbar\":{\"outlinewidth\":0,\"ticks\":\"\"},\"colorscale\":[[0.0,\"#0d0887\"],[0.1111111111111111,\"#46039f\"],[0.2222222222222222,\"#7201a8\"],[0.3333333333333333,\"#9c179e\"],[0.4444444444444444,\"#bd3786\"],[0.5555555555555556,\"#d8576b\"],[0.6666666666666666,\"#ed7953\"],[0.7777777777777778,\"#fb9f3a\"],[0.8888888888888888,\"#fdca26\"],[1.0,\"#f0f921\"]],\"type\":\"histogram2dcontour\"}],\"mesh3d\":[{\"colorbar\":{\"outlinewidth\":0,\"ticks\":\"\"},\"type\":\"mesh3d\"}],\"parcoords\":[{\"line\":{\"colorbar\":{\"outlinewidth\":0,\"ticks\":\"\"}},\"type\":\"parcoords\"}],\"pie\":[{\"automargin\":true,\"type\":\"pie\"}],\"scatter\":[{\"marker\":{\"colorbar\":{\"outlinewidth\":0,\"ticks\":\"\"}},\"type\":\"scatter\"}],\"scatter3d\":[{\"line\":{\"colorbar\":{\"outlinewidth\":0,\"ticks\":\"\"}},\"marker\":{\"colorbar\":{\"outlinewidth\":0,\"ticks\":\"\"}},\"type\":\"scatter3d\"}],\"scattercarpet\":[{\"marker\":{\"colorbar\":{\"outlinewidth\":0,\"ticks\":\"\"}},\"type\":\"scattercarpet\"}],\"scattergeo\":[{\"marker\":{\"colorbar\":{\"outlinewidth\":0,\"ticks\":\"\"}},\"type\":\"scattergeo\"}],\"scattergl\":[{\"marker\":{\"colorbar\":{\"outlinewidth\":0,\"ticks\":\"\"}},\"type\":\"scattergl\"}],\"scattermapbox\":[{\"marker\":{\"colorbar\":{\"outlinewidth\":0,\"ticks\":\"\"}},\"type\":\"scattermapbox\"}],\"scatterpolar\":[{\"marker\":{\"colorbar\":{\"outlinewidth\":0,\"ticks\":\"\"}},\"type\":\"scatterpolar\"}],\"scatterpolargl\":[{\"marker\":{\"colorbar\":{\"outlinewidth\":0,\"ticks\":\"\"}},\"type\":\"scatterpolargl\"}],\"scatterternary\":[{\"marker\":{\"colorbar\":{\"outlinewidth\":0,\"ticks\":\"\"}},\"type\":\"scatterternary\"}],\"surface\":[{\"colorbar\":{\"outlinewidth\":0,\"ticks\":\"\"},\"colorscale\":[[0.0,\"#0d0887\"],[0.1111111111111111,\"#46039f\"],[0.2222222222222222,\"#7201a8\"],[0.3333333333333333,\"#9c179e\"],[0.4444444444444444,\"#bd3786\"],[0.5555555555555556,\"#d8576b\"],[0.6666666666666666,\"#ed7953\"],[0.7777777777777778,\"#fb9f3a\"],[0.8888888888888888,\"#fdca26\"],[1.0,\"#f0f921\"]],\"type\":\"surface\"}],\"table\":[{\"cells\":{\"fill\":{\"color\":\"#EBF0F8\"},\"line\":{\"color\":\"white\"}},\"header\":{\"fill\":{\"color\":\"#C8D4E3\"},\"line\":{\"color\":\"white\"}},\"type\":\"table\"}]},\"layout\":{\"annotationdefaults\":{\"arrowcolor\":\"#2a3f5f\",\"arrowhead\":0,\"arrowwidth\":1},\"autotypenumbers\":\"strict\",\"coloraxis\":{\"colorbar\":{\"outlinewidth\":0,\"ticks\":\"\"}},\"colorscale\":{\"diverging\":[[0,\"#8e0152\"],[0.1,\"#c51b7d\"],[0.2,\"#de77ae\"],[0.3,\"#f1b6da\"],[0.4,\"#fde0ef\"],[0.5,\"#f7f7f7\"],[0.6,\"#e6f5d0\"],[0.7,\"#b8e186\"],[0.8,\"#7fbc41\"],[0.9,\"#4d9221\"],[1,\"#276419\"]],\"sequential\":[[0.0,\"#0d0887\"],[0.1111111111111111,\"#46039f\"],[0.2222222222222222,\"#7201a8\"],[0.3333333333333333,\"#9c179e\"],[0.4444444444444444,\"#bd3786\"],[0.5555555555555556,\"#d8576b\"],[0.6666666666666666,\"#ed7953\"],[0.7777777777777778,\"#fb9f3a\"],[0.8888888888888888,\"#fdca26\"],[1.0,\"#f0f921\"]],\"sequentialminus\":[[0.0,\"#0d0887\"],[0.1111111111111111,\"#46039f\"],[0.2222222222222222,\"#7201a8\"],[0.3333333333333333,\"#9c179e\"],[0.4444444444444444,\"#bd3786\"],[0.5555555555555556,\"#d8576b\"],[0.6666666666666666,\"#ed7953\"],[0.7777777777777778,\"#fb9f3a\"],[0.8888888888888888,\"#fdca26\"],[1.0,\"#f0f921\"]]},\"colorway\":[\"#636efa\",\"#EF553B\",\"#00cc96\",\"#ab63fa\",\"#FFA15A\",\"#19d3f3\",\"#FF6692\",\"#B6E880\",\"#FF97FF\",\"#FECB52\"],\"font\":{\"color\":\"#2a3f5f\"},\"geo\":{\"bgcolor\":\"white\",\"lakecolor\":\"white\",\"landcolor\":\"#E5ECF6\",\"showlakes\":true,\"showland\":true,\"subunitcolor\":\"white\"},\"hoverlabel\":{\"align\":\"left\"},\"hovermode\":\"closest\",\"mapbox\":{\"style\":\"light\"},\"paper_bgcolor\":\"white\",\"plot_bgcolor\":\"#E5ECF6\",\"polar\":{\"angularaxis\":{\"gridcolor\":\"white\",\"linecolor\":\"white\",\"ticks\":\"\"},\"bgcolor\":\"#E5ECF6\",\"radialaxis\":{\"gridcolor\":\"white\",\"linecolor\":\"white\",\"ticks\":\"\"}},\"scene\":{\"xaxis\":{\"backgroundcolor\":\"#E5ECF6\",\"gridcolor\":\"white\",\"gridwidth\":2,\"linecolor\":\"white\",\"showbackground\":true,\"ticks\":\"\",\"zerolinecolor\":\"white\"},\"yaxis\":{\"backgroundcolor\":\"#E5ECF6\",\"gridcolor\":\"white\",\"gridwidth\":2,\"linecolor\":\"white\",\"showbackground\":true,\"ticks\":\"\",\"zerolinecolor\":\"white\"},\"zaxis\":{\"backgroundcolor\":\"#E5ECF6\",\"gridcolor\":\"white\",\"gridwidth\":2,\"linecolor\":\"white\",\"showbackground\":true,\"ticks\":\"\",\"zerolinecolor\":\"white\"}},\"shapedefaults\":{\"line\":{\"color\":\"#2a3f5f\"}},\"ternary\":{\"aaxis\":{\"gridcolor\":\"white\",\"linecolor\":\"white\",\"ticks\":\"\"},\"baxis\":{\"gridcolor\":\"white\",\"linecolor\":\"white\",\"ticks\":\"\"},\"bgcolor\":\"#E5ECF6\",\"caxis\":{\"gridcolor\":\"white\",\"linecolor\":\"white\",\"ticks\":\"\"}},\"title\":{\"x\":0.05},\"xaxis\":{\"automargin\":true,\"gridcolor\":\"white\",\"linecolor\":\"white\",\"ticks\":\"\",\"title\":{\"standoff\":15},\"zerolinecolor\":\"white\",\"zerolinewidth\":2},\"yaxis\":{\"automargin\":true,\"gridcolor\":\"white\",\"linecolor\":\"white\",\"ticks\":\"\",\"title\":{\"standoff\":15},\"zerolinecolor\":\"white\",\"zerolinewidth\":2}}},\"xaxis\":{\"anchor\":\"y\",\"domain\":[0.0,1.0],\"title\":{\"text\":\"bmi_description\"}},\"yaxis\":{\"anchor\":\"x\",\"domain\":[0.0,1.0],\"title\":{\"text\":\"charges\"}},\"legend\":{\"title\":{\"text\":\"age_description\"},\"tracegroupgap\":0},\"title\":{\"text\":\"Wysoko\\u015b\\u0107 ubezpieczenia a bmi\"},\"barmode\":\"relative\"},                        {\"responsive\": true}                    ).then(function(){\n",
              "                            \n",
              "var gd = document.getElementById('54a97b02-d1b9-4ba0-b231-8506476ab4fb');\n",
              "var x = new MutationObserver(function (mutations, observer) {{\n",
              "        var display = window.getComputedStyle(gd).display;\n",
              "        if (!display || display === 'none') {{\n",
              "            console.log([gd, 'removed!']);\n",
              "            Plotly.purge(gd);\n",
              "            observer.disconnect();\n",
              "        }}\n",
              "}});\n",
              "\n",
              "// Listen for the removal of the full notebook cells\n",
              "var notebookContainer = gd.closest('#notebook-container');\n",
              "if (notebookContainer) {{\n",
              "    x.observe(notebookContainer, {childList: true});\n",
              "}}\n",
              "\n",
              "// Listen for the clearing of the current output cell\n",
              "var outputEl = gd.closest('.output');\n",
              "if (outputEl) {{\n",
              "    x.observe(outputEl, {childList: true});\n",
              "}}\n",
              "\n",
              "                        })                };                            </script>        </div>\n",
              "</body>\n",
              "</html>"
            ]
          },
          "metadata": {}
        }
      ]
    },
    {
      "cell_type": "code",
      "source": [
        "fig, ax = plt.subplots(figsize=(12,8))\n",
        "ax.bar(df_male['bmi_description'], df_male['charges'], color='g')\n",
        "ax.xaxis.set_tick_params(rotation=70)\n",
        "ax.set_xlabel('BMI', fontsize=16)\n",
        "ax.set_ylabel('Charges', fontsize=16)\n",
        "ax.set_title(\"Wysokość ubezpieczenia a bmi\", fontsize=22)\n",
        "plt.show()\n"
      ],
      "metadata": {
        "colab": {
          "base_uri": "https://localhost:8080/",
          "height": 570
        },
        "id": "xT856eM3TLL4",
        "outputId": "fe9f7c19-529c-4146-cd1c-8049628a8ac2"
      },
      "execution_count": 131,
      "outputs": [
        {
          "output_type": "display_data",
          "data": {
            "text/plain": [
              "<Figure size 864x576 with 1 Axes>"
            ],
            "image/png": "[encoded data removed]"
          },
          "metadata": {}
        }
      ]
    },
    {
      "cell_type": "code",
      "source": [
        "sns.lmplot(x='bmi', y='charges', data=df_male)"
      ],
      "metadata": {
        "colab": {
          "base_uri": "https://localhost:8080/",
          "height": 386
        },
        "id": "KjL4vM1rTOsv",
        "outputId": "affe4414-f4b0-4c05-8795-727905b3266f"
      },
      "execution_count": 164,
      "outputs": [
        {
          "output_type": "execute_result",
          "data": {
            "text/plain": [
              "<seaborn.axisgrid.FacetGrid at 0x7f9213499610>"
            ]
          },
          "metadata": {},
          "execution_count": 164
        },
        {
          "output_type": "display_data",
          "data": {
            "text/plain": [
              "<Figure size 360x360 with 1 Axes>"
            ],
            "image/png": "[encoded data removed]"
          },
          "metadata": {}
        }
      ]
    },
    {
      "cell_type": "code",
      "source": [
        "df_male.head()"
      ],
      "metadata": {
        "colab": {
          "base_uri": "https://localhost:8080/",
          "height": 206
        },
        "id": "cGA9mr11LpK1",
        "outputId": "96cad829-1095-46c9-cbee-3d7535418662"
      },
      "execution_count": 132,
      "outputs": [
        {
          "output_type": "execute_result",
          "data": {
            "text/plain": [
              "   age   sex     bmi  children  smoker     region      charges  \\\n",
              "0   18  male  33.770         1     0.0  southeast   1725.55230   \n",
              "1   28  male  33.000         3     0.0  southeast   4449.46200   \n",
              "2   33  male  22.705         0     0.0  northwest  21984.47061   \n",
              "3   32  male  28.880         0     0.0  northwest   3866.85520   \n",
              "4   37  male  29.830         2     0.0  northeast   6406.41070   \n",
              "\n",
              "  age_description bmi_description  \n",
              "0  młodzi_dorośli         nadwaga  \n",
              "1  starsi_dorośli         nadwaga  \n",
              "2  starsi_dorośli           norma  \n",
              "3  starsi_dorośli         nadwaga  \n",
              "4     średni_wiek         nadwaga  "
            ],
            "text/html": [
              "\n",
              "  <div id=\"df-562a1358-bffa-40a2-9c43-5e37b884d6b8\">\n",
              "    <div class=\"colab-df-container\">\n",
              "      <div>\n",
              "<style scoped>\n",
              "    .dataframe tbody tr th:only-of-type {\n",
              "        vertical-align: middle;\n",
              "    }\n",
              "\n",
              "    .dataframe tbody tr th {\n",
              "        vertical-align: top;\n",
              "    }\n",
              "\n",
              "    .dataframe thead th {\n",
              "        text-align: right;\n",
              "    }\n",
              "</style>\n",
              "<table border=\"1\" class=\"dataframe\">\n",
              "  <thead>\n",
              "    <tr style=\"text-align: right;\">\n",
              "      <th></th>\n",
              "      <th>age</th>\n",
              "      <th>sex</th>\n",
              "      <th>bmi</th>\n",
              "      <th>children</th>\n",
              "      <th>smoker</th>\n",
              "      <th>region</th>\n",
              "      <th>charges</th>\n",
              "      <th>age_description</th>\n",
              "      <th>bmi_description</th>\n",
              "    </tr>\n",
              "  </thead>\n",
              "  <tbody>\n",
              "    <tr>\n",
              "      <th>0</th>\n",
              "      <td>18</td>\n",
              "      <td>male</td>\n",
              "      <td>33.770</td>\n",
              "      <td>1</td>\n",
              "      <td>0.0</td>\n",
              "      <td>southeast</td>\n",
              "      <td>1725.55230</td>\n",
              "      <td>młodzi_dorośli</td>\n",
              "      <td>nadwaga</td>\n",
              "    </tr>\n",
              "    <tr>\n",
              "      <th>1</th>\n",
              "      <td>28</td>\n",
              "      <td>male</td>\n",
              "      <td>33.000</td>\n",
              "      <td>3</td>\n",
              "      <td>0.0</td>\n",
              "      <td>southeast</td>\n",
              "      <td>4449.46200</td>\n",
              "      <td>starsi_dorośli</td>\n",
              "      <td>nadwaga</td>\n",
              "    </tr>\n",
              "    <tr>\n",
              "      <th>2</th>\n",
              "      <td>33</td>\n",
              "      <td>male</td>\n",
              "      <td>22.705</td>\n",
              "      <td>0</td>\n",
              "      <td>0.0</td>\n",
              "      <td>northwest</td>\n",
              "      <td>21984.47061</td>\n",
              "      <td>starsi_dorośli</td>\n",
              "      <td>norma</td>\n",
              "    </tr>\n",
              "    <tr>\n",
              "      <th>3</th>\n",
              "      <td>32</td>\n",
              "      <td>male</td>\n",
              "      <td>28.880</td>\n",
              "      <td>0</td>\n",
              "      <td>0.0</td>\n",
              "      <td>northwest</td>\n",
              "      <td>3866.85520</td>\n",
              "      <td>starsi_dorośli</td>\n",
              "      <td>nadwaga</td>\n",
              "    </tr>\n",
              "    <tr>\n",
              "      <th>4</th>\n",
              "      <td>37</td>\n",
              "      <td>male</td>\n",
              "      <td>29.830</td>\n",
              "      <td>2</td>\n",
              "      <td>0.0</td>\n",
              "      <td>northeast</td>\n",
              "      <td>6406.41070</td>\n",
              "      <td>średni_wiek</td>\n",
              "      <td>nadwaga</td>\n",
              "    </tr>\n",
              "  </tbody>\n",
              "</table>\n",
              "</div>\n",
              "      <button class=\"colab-df-convert\" onclick=\"convertToInteractive('df-562a1358-bffa-40a2-9c43-5e37b884d6b8')\"\n",
              "              title=\"Convert this dataframe to an interactive table.\"\n",
              "              style=\"display:none;\">\n",
              "        \n",
              "  <svg xmlns=\"http://www.w3.org/2000/svg\" height=\"24px\"viewBox=\"0 0 24 24\"\n",
              "       width=\"24px\">\n",
              "    <path d=\"M0 0h24v24H0V0z\" fill=\"none\"/>\n",
              "    <path d=\"M18.56 5.44l.94 2.06.94-2.06 2.06-.94-2.06-.94-.94-2.06-.94 2.06-2.06.94zm-11 1L8.5 8.5l.94-2.06 2.06-.94-2.06-.94L8.5 2.5l-.94 2.06-2.06.94zm10 10l.94 2.06.94-2.06 2.06-.94-2.06-.94-.94-2.06-.94 2.06-2.06.94z\"/><path d=\"M17.41 7.96l-1.37-1.37c-.4-.4-.92-.59-1.43-.59-.52 0-1.04.2-1.43.59L10.3 9.45l-7.72 7.72c-.78.78-.78 2.05 0 2.83L4 21.41c.39.39.9.59 1.41.59.51 0 1.02-.2 1.41-.59l7.78-7.78 2.81-2.81c.8-.78.8-2.07 0-2.86zM5.41 20L4 18.59l7.72-7.72 1.47 1.35L5.41 20z\"/>\n",
              "  </svg>\n",
              "      </button>\n",
              "      \n",
              "  <style>\n",
              "    .colab-df-container {\n",
              "      display:flex;\n",
              "      flex-wrap:wrap;\n",
              "      gap: 12px;\n",
              "    }\n",
              "\n",
              "    .colab-df-convert {\n",
              "      background-color: #E8F0FE;\n",
              "      border: none;\n",
              "      border-radius: 50%;\n",
              "      cursor: pointer;\n",
              "      display: none;\n",
              "      fill: #1967D2;\n",
              "      height: 32px;\n",
              "      padding: 0 0 0 0;\n",
              "      width: 32px;\n",
              "    }\n",
              "\n",
              "    .colab-df-convert:hover {\n",
              "      background-color: #E2EBFA;\n",
              "      box-shadow: 0px 1px 2px rgba(60, 64, 67, 0.3), 0px 1px 3px 1px rgba(60, 64, 67, 0.15);\n",
              "      fill: #174EA6;\n",
              "    }\n",
              "\n",
              "    [theme=dark] .colab-df-convert {\n",
              "      background-color: #3B4455;\n",
              "      fill: #D2E3FC;\n",
              "    }\n",
              "\n",
              "    [theme=dark] .colab-df-convert:hover {\n",
              "      background-color: #434B5C;\n",
              "      box-shadow: 0px 1px 3px 1px rgba(0, 0, 0, 0.15);\n",
              "      filter: drop-shadow(0px 1px 2px rgba(0, 0, 0, 0.3));\n",
              "      fill: #FFFFFF;\n",
              "    }\n",
              "  </style>\n",
              "\n",
              "      <script>\n",
              "        const buttonEl =\n",
              "          document.querySelector('#df-562a1358-bffa-40a2-9c43-5e37b884d6b8 button.colab-df-convert');\n",
              "        buttonEl.style.display =\n",
              "          google.colab.kernel.accessAllowed ? 'block' : 'none';\n",
              "\n",
              "        async function convertToInteractive(key) {\n",
              "          const element = document.querySelector('#df-562a1358-bffa-40a2-9c43-5e37b884d6b8');\n",
              "          const dataTable =\n",
              "            await google.colab.kernel.invokeFunction('convertToInteractive',\n",
              "                                                     [key], {});\n",
              "          if (!dataTable) return;\n",
              "\n",
              "          const docLinkHtml = 'Like what you see? Visit the ' +\n",
              "            '<a target=\"_blank\" href=https://colab.research.google.com/notebooks/data_table.ipynb>data table notebook</a>'\n",
              "            + ' to learn more about interactive tables.';\n",
              "          element.innerHTML = '';\n",
              "          dataTable['output_type'] = 'display_data';\n",
              "          await google.colab.output.renderOutput(dataTable, element);\n",
              "          const docLink = document.createElement('div');\n",
              "          docLink.innerHTML = docLinkHtml;\n",
              "          element.appendChild(docLink);\n",
              "        }\n",
              "      </script>\n",
              "    </div>\n",
              "  </div>\n",
              "  "
            ]
          },
          "metadata": {},
          "execution_count": 132
        }
      ]
    },
    {
      "cell_type": "markdown",
      "source": [
        "Z powyższych danych wynika, że BMI ma znaczny wpływ na wysokość ubezpieczenia "
      ],
      "metadata": {
        "id": "kRJjekNmV_f1"
      }
    },
    {
      "cell_type": "markdown",
      "source": [
        "#Oczyszczanie danych"
      ],
      "metadata": {
        "id": "6PI0w7ATb_S-"
      }
    },
    {
      "cell_type": "code",
      "source": [
        "df_male_clean=df_male[df_male['charges']!=62592.87309]"
      ],
      "metadata": {
        "id": "AC9J7NmkavwH"
      },
      "execution_count": 134,
      "outputs": []
    },
    {
      "cell_type": "code",
      "source": [
        "df_male_clean.describe()"
      ],
      "metadata": {
        "id": "EVlcd5p7UFUw"
      },
      "execution_count": null,
      "outputs": []
    },
    {
      "cell_type": "code",
      "source": [
        "df_male_clean2=df_male[df_male['charges']!=60021.39897]"
      ],
      "metadata": {
        "id": "icRclLX6bvB_"
      },
      "execution_count": 136,
      "outputs": []
    },
    {
      "cell_type": "code",
      "source": [
        "df_male_clean2.describe()"
      ],
      "metadata": {
        "colab": {
          "base_uri": "https://localhost:8080/",
          "height": 300
        },
        "id": "IxAdpIDYbqxb",
        "outputId": "4028e2e9-dd1a-4832-f77f-396cc382653f"
      },
      "execution_count": 137,
      "outputs": [
        {
          "output_type": "execute_result",
          "data": {
            "text/plain": [
              "              age         bmi    children      smoker       charges\n",
              "count  675.000000  675.000000  675.000000  675.000000    675.000000\n",
              "mean    38.897778   30.937881    1.112593    0.234074  13888.507255\n",
              "std     14.051513    6.143471    1.217725    0.423733  12858.622715\n",
              "min     18.000000   15.960000    0.000000    0.000000   1121.873900\n",
              "25%     26.000000   26.410000    0.000000    0.000000   4591.509000\n",
              "50%     39.000000   30.685000    1.000000    0.000000   9361.326800\n",
              "75%     51.000000   35.025000    2.000000    0.000000  18967.833460\n",
              "max     64.000000   53.130000    5.000000    1.000000  62592.873090"
            ],
            "text/html": [
              "\n",
              "  <div id=\"df-3dae67d2-5889-43ac-a6d7-a07a1ee2dad3\">\n",
              "    <div class=\"colab-df-container\">\n",
              "      <div>\n",
              "<style scoped>\n",
              "    .dataframe tbody tr th:only-of-type {\n",
              "        vertical-align: middle;\n",
              "    }\n",
              "\n",
              "    .dataframe tbody tr th {\n",
              "        vertical-align: top;\n",
              "    }\n",
              "\n",
              "    .dataframe thead th {\n",
              "        text-align: right;\n",
              "    }\n",
              "</style>\n",
              "<table border=\"1\" class=\"dataframe\">\n",
              "  <thead>\n",
              "    <tr style=\"text-align: right;\">\n",
              "      <th></th>\n",
              "      <th>age</th>\n",
              "      <th>bmi</th>\n",
              "      <th>children</th>\n",
              "      <th>smoker</th>\n",
              "      <th>charges</th>\n",
              "    </tr>\n",
              "  </thead>\n",
              "  <tbody>\n",
              "    <tr>\n",
              "      <th>count</th>\n",
              "      <td>675.000000</td>\n",
              "      <td>675.000000</td>\n",
              "      <td>675.000000</td>\n",
              "      <td>675.000000</td>\n",
              "      <td>675.000000</td>\n",
              "    </tr>\n",
              "    <tr>\n",
              "      <th>mean</th>\n",
              "      <td>38.897778</td>\n",
              "      <td>30.937881</td>\n",
              "      <td>1.112593</td>\n",
              "      <td>0.234074</td>\n",
              "      <td>13888.507255</td>\n",
              "    </tr>\n",
              "    <tr>\n",
              "      <th>std</th>\n",
              "      <td>14.051513</td>\n",
              "      <td>6.143471</td>\n",
              "      <td>1.217725</td>\n",
              "      <td>0.423733</td>\n",
              "      <td>12858.622715</td>\n",
              "    </tr>\n",
              "    <tr>\n",
              "      <th>min</th>\n",
              "      <td>18.000000</td>\n",
              "      <td>15.960000</td>\n",
              "      <td>0.000000</td>\n",
              "      <td>0.000000</td>\n",
              "      <td>1121.873900</td>\n",
              "    </tr>\n",
              "    <tr>\n",
              "      <th>25%</th>\n",
              "      <td>26.000000</td>\n",
              "      <td>26.410000</td>\n",
              "      <td>0.000000</td>\n",
              "      <td>0.000000</td>\n",
              "      <td>4591.509000</td>\n",
              "    </tr>\n",
              "    <tr>\n",
              "      <th>50%</th>\n",
              "      <td>39.000000</td>\n",
              "      <td>30.685000</td>\n",
              "      <td>1.000000</td>\n",
              "      <td>0.000000</td>\n",
              "      <td>9361.326800</td>\n",
              "    </tr>\n",
              "    <tr>\n",
              "      <th>75%</th>\n",
              "      <td>51.000000</td>\n",
              "      <td>35.025000</td>\n",
              "      <td>2.000000</td>\n",
              "      <td>0.000000</td>\n",
              "      <td>18967.833460</td>\n",
              "    </tr>\n",
              "    <tr>\n",
              "      <th>max</th>\n",
              "      <td>64.000000</td>\n",
              "      <td>53.130000</td>\n",
              "      <td>5.000000</td>\n",
              "      <td>1.000000</td>\n",
              "      <td>62592.873090</td>\n",
              "    </tr>\n",
              "  </tbody>\n",
              "</table>\n",
              "</div>\n",
              "      <button class=\"colab-df-convert\" onclick=\"convertToInteractive('df-3dae67d2-5889-43ac-a6d7-a07a1ee2dad3')\"\n",
              "              title=\"Convert this dataframe to an interactive table.\"\n",
              "              style=\"display:none;\">\n",
              "        \n",
              "  <svg xmlns=\"http://www.w3.org/2000/svg\" height=\"24px\"viewBox=\"0 0 24 24\"\n",
              "       width=\"24px\">\n",
              "    <path d=\"M0 0h24v24H0V0z\" fill=\"none\"/>\n",
              "    <path d=\"M18.56 5.44l.94 2.06.94-2.06 2.06-.94-2.06-.94-.94-2.06-.94 2.06-2.06.94zm-11 1L8.5 8.5l.94-2.06 2.06-.94-2.06-.94L8.5 2.5l-.94 2.06-2.06.94zm10 10l.94 2.06.94-2.06 2.06-.94-2.06-.94-.94-2.06-.94 2.06-2.06.94z\"/><path d=\"M17.41 7.96l-1.37-1.37c-.4-.4-.92-.59-1.43-.59-.52 0-1.04.2-1.43.59L10.3 9.45l-7.72 7.72c-.78.78-.78 2.05 0 2.83L4 21.41c.39.39.9.59 1.41.59.51 0 1.02-.2 1.41-.59l7.78-7.78 2.81-2.81c.8-.78.8-2.07 0-2.86zM5.41 20L4 18.59l7.72-7.72 1.47 1.35L5.41 20z\"/>\n",
              "  </svg>\n",
              "      </button>\n",
              "      \n",
              "  <style>\n",
              "    .colab-df-container {\n",
              "      display:flex;\n",
              "      flex-wrap:wrap;\n",
              "      gap: 12px;\n",
              "    }\n",
              "\n",
              "    .colab-df-convert {\n",
              "      background-color: #E8F0FE;\n",
              "      border: none;\n",
              "      border-radius: 50%;\n",
              "      cursor: pointer;\n",
              "      display: none;\n",
              "      fill: #1967D2;\n",
              "      height: 32px;\n",
              "      padding: 0 0 0 0;\n",
              "      width: 32px;\n",
              "    }\n",
              "\n",
              "    .colab-df-convert:hover {\n",
              "      background-color: #E2EBFA;\n",
              "      box-shadow: 0px 1px 2px rgba(60, 64, 67, 0.3), 0px 1px 3px 1px rgba(60, 64, 67, 0.15);\n",
              "      fill: #174EA6;\n",
              "    }\n",
              "\n",
              "    [theme=dark] .colab-df-convert {\n",
              "      background-color: #3B4455;\n",
              "      fill: #D2E3FC;\n",
              "    }\n",
              "\n",
              "    [theme=dark] .colab-df-convert:hover {\n",
              "      background-color: #434B5C;\n",
              "      box-shadow: 0px 1px 3px 1px rgba(0, 0, 0, 0.15);\n",
              "      filter: drop-shadow(0px 1px 2px rgba(0, 0, 0, 0.3));\n",
              "      fill: #FFFFFF;\n",
              "    }\n",
              "  </style>\n",
              "\n",
              "      <script>\n",
              "        const buttonEl =\n",
              "          document.querySelector('#df-3dae67d2-5889-43ac-a6d7-a07a1ee2dad3 button.colab-df-convert');\n",
              "        buttonEl.style.display =\n",
              "          google.colab.kernel.accessAllowed ? 'block' : 'none';\n",
              "\n",
              "        async function convertToInteractive(key) {\n",
              "          const element = document.querySelector('#df-3dae67d2-5889-43ac-a6d7-a07a1ee2dad3');\n",
              "          const dataTable =\n",
              "            await google.colab.kernel.invokeFunction('convertToInteractive',\n",
              "                                                     [key], {});\n",
              "          if (!dataTable) return;\n",
              "\n",
              "          const docLinkHtml = 'Like what you see? Visit the ' +\n",
              "            '<a target=\"_blank\" href=https://colab.research.google.com/notebooks/data_table.ipynb>data table notebook</a>'\n",
              "            + ' to learn more about interactive tables.';\n",
              "          element.innerHTML = '';\n",
              "          dataTable['output_type'] = 'display_data';\n",
              "          await google.colab.output.renderOutput(dataTable, element);\n",
              "          const docLink = document.createElement('div');\n",
              "          docLink.innerHTML = docLinkHtml;\n",
              "          element.appendChild(docLink);\n",
              "        }\n",
              "      </script>\n",
              "    </div>\n",
              "  </div>\n",
              "  "
            ]
          },
          "metadata": {},
          "execution_count": 137
        }
      ]
    },
    {
      "cell_type": "markdown",
      "source": [
        "#Mapa ciepła"
      ],
      "metadata": {
        "id": "GHNvaS50cCue"
      }
    },
    {
      "cell_type": "code",
      "source": [
        "corr=df_male_clean2.corr()"
      ],
      "metadata": {
        "id": "8td6EtSAb8bY"
      },
      "execution_count": 139,
      "outputs": []
    },
    {
      "cell_type": "code",
      "source": [
        "plt.figure(figsize=(8,6))\n",
        "sns.heatmap(corr)"
      ],
      "metadata": {
        "colab": {
          "base_uri": "https://localhost:8080/",
          "height": 395
        },
        "id": "57vqIMOacNXD",
        "outputId": "941eee3a-6264-4ca4-87fb-975e1733baf4"
      },
      "execution_count": 140,
      "outputs": [
        {
          "output_type": "execute_result",
          "data": {
            "text/plain": [
              "<matplotlib.axes._subplots.AxesSubplot at 0x7f921548ead0>"
            ]
          },
          "metadata": {},
          "execution_count": 140
        },
        {
          "output_type": "display_data",
          "data": {
            "text/plain": [
              "<Figure size 576x432 with 2 Axes>"
            ],
            "image/png": "[encoded data removed]"
          },
          "metadata": {}
        }
      ]
    },
    {
      "cell_type": "markdown",
      "source": [
        "#Regresja liniowa"
      ],
      "metadata": {
        "id": "MO6OQUe2QYOp"
      }
    },
    {
      "cell_type": "code",
      "source": [
        "from sklearn.model_selection import train_test_split\n",
        "from sklearn.linear_model import LinearRegression\n",
        "from sklearn.tree import DecisionTreeRegressor\n",
        "from sklearn.model_selection import KFold \n",
        "from sklearn.metrics import r2_score, mean_absolute_percentage_error, mean_squared_error"
      ],
      "metadata": {
        "id": "zdXw6Ue2HfS8"
      },
      "execution_count": 133,
      "outputs": []
    },
    {
      "cell_type": "code",
      "source": [
        "X=df_male_clean2[['smoker', 'bmi', 'age']]"
      ],
      "metadata": {
        "id": "f-BZSwbtPdKB"
      },
      "execution_count": 180,
      "outputs": []
    },
    {
      "cell_type": "code",
      "source": [
        "y=df_male_clean2['charges']"
      ],
      "metadata": {
        "id": "DRg-H86IPl3W"
      },
      "execution_count": 181,
      "outputs": []
    },
    {
      "cell_type": "code",
      "source": [
        "X_train, X_test, y_train, y_test=train_test_split(X, y, test_size=0.2, random_state=123)"
      ],
      "metadata": {
        "id": "oCBXL6DyPuO4"
      },
      "execution_count": 182,
      "outputs": []
    },
    {
      "cell_type": "code",
      "source": [
        "print(X_train.shape, X_test.shape)"
      ],
      "metadata": {
        "colab": {
          "base_uri": "https://localhost:8080/"
        },
        "id": "szTIzuxePx1u",
        "outputId": "cf676a08-0c72-4ea4-ce6b-e4fc9e87a1d9"
      },
      "execution_count": 183,
      "outputs": [
        {
          "output_type": "stream",
          "name": "stdout",
          "text": [
            "(540, 3) (135, 3)\n"
          ]
        }
      ]
    },
    {
      "cell_type": "code",
      "source": [
        "model_lin1=LinearRegression()\n",
        "model_lin1.fit(X_train, y_train)"
      ],
      "metadata": {
        "colab": {
          "base_uri": "https://localhost:8080/"
        },
        "id": "30PouMpsPx4l",
        "outputId": "ab02074e-d65c-4560-bfb9-57366c65d8c9"
      },
      "execution_count": 184,
      "outputs": [
        {
          "output_type": "execute_result",
          "data": {
            "text/plain": [
              "LinearRegression()"
            ]
          },
          "metadata": {},
          "execution_count": 184
        }
      ]
    },
    {
      "cell_type": "code",
      "source": [
        "y_pred_train1=model_lin1.predict(X_train)"
      ],
      "metadata": {
        "id": "uS8Aw-cSP37P"
      },
      "execution_count": 185,
      "outputs": []
    },
    {
      "cell_type": "code",
      "source": [
        "y_pred_test1=model_lin1.predict(X_test)"
      ],
      "metadata": {
        "id": "FTOF2vM4P3-i"
      },
      "execution_count": 186,
      "outputs": []
    },
    {
      "cell_type": "code",
      "source": [
        "r2_score(y_test, y_pred_test1)"
      ],
      "metadata": {
        "colab": {
          "base_uri": "https://localhost:8080/"
        },
        "id": "_VAFR_jQP9M_",
        "outputId": "c88c4082-26fa-4728-a165-b84fe45f1f20"
      },
      "execution_count": 187,
      "outputs": [
        {
          "output_type": "execute_result",
          "data": {
            "text/plain": [
              "0.7934130669648521"
            ]
          },
          "metadata": {},
          "execution_count": 187
        }
      ]
    },
    {
      "cell_type": "code",
      "source": [
        "bias_train=mean_absolute_percentage_error(y_train, y_pred_train1)\n",
        "print(bias_train)"
      ],
      "metadata": {
        "colab": {
          "base_uri": "https://localhost:8080/"
        },
        "id": "IObltWCiP9P6",
        "outputId": "43b80cf5-147c-4744-ef99-7071a0ef7dc0"
      },
      "execution_count": 188,
      "outputs": [
        {
          "output_type": "stream",
          "name": "stdout",
          "text": [
            "0.43821969009987066\n"
          ]
        }
      ]
    },
    {
      "cell_type": "code",
      "source": [
        "bias_test=mean_absolute_percentage_error(y_test, y_pred_test1)\n",
        "print(bias_test)"
      ],
      "metadata": {
        "colab": {
          "base_uri": "https://localhost:8080/"
        },
        "id": "9ZuP7-KAQCs3",
        "outputId": "1839a7c3-7c40-484c-eaa8-992ed4fa79fb"
      },
      "execution_count": 189,
      "outputs": [
        {
          "output_type": "stream",
          "name": "stdout",
          "text": [
            "0.4668363143680658\n"
          ]
        }
      ]
    },
    {
      "cell_type": "markdown",
      "source": [
        "#Regresja Liniowa test drugi"
      ],
      "metadata": {
        "id": "hOJMduyOVo4H"
      }
    },
    {
      "cell_type": "code",
      "source": [
        "X1=df_male_clean2[['smoker', 'bmi', 'age', 'children']]"
      ],
      "metadata": {
        "id": "km58M8u5VsJn"
      },
      "execution_count": 190,
      "outputs": []
    },
    {
      "cell_type": "code",
      "source": [
        "y1=df_male_clean2['charges']"
      ],
      "metadata": {
        "id": "AqRgG2ZPV9tW"
      },
      "execution_count": 191,
      "outputs": []
    },
    {
      "cell_type": "code",
      "source": [
        "X1_train, X1_test, y1_train, y1_test=train_test_split(X, y, test_size=0.3, random_state=123)"
      ],
      "metadata": {
        "id": "UNgLXrJXV_Vp"
      },
      "execution_count": 214,
      "outputs": []
    },
    {
      "cell_type": "code",
      "source": [
        "print(X1_train.shape, X1_test.shape)"
      ],
      "metadata": {
        "colab": {
          "base_uri": "https://localhost:8080/"
        },
        "id": "aGHz0PJeV_fO",
        "outputId": "f0104e24-8783-4578-f4ec-ff1a36ad363a"
      },
      "execution_count": 215,
      "outputs": [
        {
          "output_type": "stream",
          "name": "stdout",
          "text": [
            "(472, 3) (203, 3)\n"
          ]
        }
      ]
    },
    {
      "cell_type": "code",
      "source": [
        "model_lin1=LinearRegression()\n",
        "model_lin1.fit(X1_train, y1_train)"
      ],
      "metadata": {
        "colab": {
          "base_uri": "https://localhost:8080/"
        },
        "id": "O69Vw-KNV_qr",
        "outputId": "34cdf9f1-1a0f-4d36-9806-e33647dbec63"
      },
      "execution_count": 216,
      "outputs": [
        {
          "output_type": "execute_result",
          "data": {
            "text/plain": [
              "LinearRegression()"
            ]
          },
          "metadata": {},
          "execution_count": 216
        }
      ]
    },
    {
      "cell_type": "code",
      "source": [
        "y1_pred_train1=model_lin1.predict(X1_train)"
      ],
      "metadata": {
        "id": "si3SZ4fUWPtl"
      },
      "execution_count": 217,
      "outputs": []
    },
    {
      "cell_type": "code",
      "source": [
        "y1_pred_test1=model_lin1.predict(X1_test)"
      ],
      "metadata": {
        "id": "n3j2oILRWWS5"
      },
      "execution_count": 218,
      "outputs": []
    },
    {
      "cell_type": "code",
      "source": [
        "r2_score(y1_test, y1_pred_test1)"
      ],
      "metadata": {
        "colab": {
          "base_uri": "https://localhost:8080/"
        },
        "id": "EcMDnl-fWWgc",
        "outputId": "88c2c773-7a34-4637-bdbb-41e03f2ece23"
      },
      "execution_count": 219,
      "outputs": [
        {
          "output_type": "execute_result",
          "data": {
            "text/plain": [
              "0.803924459223528"
            ]
          },
          "metadata": {},
          "execution_count": 219
        }
      ]
    },
    {
      "cell_type": "code",
      "source": [
        "bias_train=mean_absolute_percentage_error(y1_train, y1_pred_train1)\n",
        "print(bias_train)"
      ],
      "metadata": {
        "colab": {
          "base_uri": "https://localhost:8080/"
        },
        "id": "hcZYDU7KWP2r",
        "outputId": "8d1067ab-b226-4214-c8a4-bf4821f62485"
      },
      "execution_count": 206,
      "outputs": [
        {
          "output_type": "stream",
          "name": "stdout",
          "text": [
            "0.4570691041198565\n"
          ]
        }
      ]
    },
    {
      "cell_type": "code",
      "source": [
        "bias_test=mean_absolute_percentage_error(y1_test, y1_pred_test1)\n",
        "print(bias_test)"
      ],
      "metadata": {
        "colab": {
          "base_uri": "https://localhost:8080/"
        },
        "id": "8gvo39qQWkgI",
        "outputId": "aba1e92a-94d9-4bdb-ef65-5829be5b7675"
      },
      "execution_count": 207,
      "outputs": [
        {
          "output_type": "stream",
          "name": "stdout",
          "text": [
            "0.47104453079543945\n"
          ]
        }
      ]
    },
    {
      "cell_type": "markdown",
      "source": [
        "#Drzewo decyzyjne"
      ],
      "metadata": {
        "id": "smu4XF8vRnoQ"
      }
    },
    {
      "cell_type": "code",
      "source": [
        "model_tree=DecisionTreeRegressor()\n",
        "model_tree.fit(X_train, y_train)"
      ],
      "metadata": {
        "colab": {
          "base_uri": "https://localhost:8080/"
        },
        "id": "eV6tpVZlQF3n",
        "outputId": "97bdb717-7005-4bd2-84f7-946622356814"
      },
      "execution_count": 153,
      "outputs": [
        {
          "output_type": "execute_result",
          "data": {
            "text/plain": [
              "DecisionTreeRegressor()"
            ]
          },
          "metadata": {},
          "execution_count": 153
        }
      ]
    },
    {
      "cell_type": "code",
      "source": [
        "y_pred_test2=model_tree.predict(X_test)"
      ],
      "metadata": {
        "id": "rYPKODfASWJi"
      },
      "execution_count": 154,
      "outputs": []
    },
    {
      "cell_type": "code",
      "source": [
        "r2_score(y_test, y_pred_test2)"
      ],
      "metadata": {
        "colab": {
          "base_uri": "https://localhost:8080/"
        },
        "id": "8xdqJuTpSd5b",
        "outputId": "3ee9ee23-955a-4424-f448-e174d14e6357"
      },
      "execution_count": 155,
      "outputs": [
        {
          "output_type": "execute_result",
          "data": {
            "text/plain": [
              "0.7950706617328372"
            ]
          },
          "metadata": {},
          "execution_count": 155
        }
      ]
    },
    {
      "cell_type": "code",
      "source": [
        "model_tree.get_depth()"
      ],
      "metadata": {
        "colab": {
          "base_uri": "https://localhost:8080/"
        },
        "id": "1MzT3MDYSgdu",
        "outputId": "76e63f7a-9663-4741-a7ff-1a136d9f7371"
      },
      "execution_count": 156,
      "outputs": [
        {
          "output_type": "execute_result",
          "data": {
            "text/plain": [
              "18"
            ]
          },
          "metadata": {},
          "execution_count": 156
        }
      ]
    },
    {
      "cell_type": "code",
      "source": [
        "model_tree.get_n_leaves()"
      ],
      "metadata": {
        "colab": {
          "base_uri": "https://localhost:8080/"
        },
        "id": "cejqoLsHSg1B",
        "outputId": "ec6c8d9c-bf91-4b50-b4ee-abe4767a133b"
      },
      "execution_count": 157,
      "outputs": [
        {
          "output_type": "execute_result",
          "data": {
            "text/plain": [
              "540"
            ]
          },
          "metadata": {},
          "execution_count": 157
        }
      ]
    },
    {
      "cell_type": "code",
      "source": [
        "model_tree=DecisionTreeRegressor(max_depth=20)\n",
        "model_tree.fit(X_train, y_train)"
      ],
      "metadata": {
        "colab": {
          "base_uri": "https://localhost:8080/"
        },
        "id": "a9YvpZB5SqQX",
        "outputId": "f9f1671f-c44b-407f-9497-84649f0ac99e"
      },
      "execution_count": 158,
      "outputs": [
        {
          "output_type": "execute_result",
          "data": {
            "text/plain": [
              "DecisionTreeRegressor(max_depth=20)"
            ]
          },
          "metadata": {},
          "execution_count": 158
        }
      ]
    },
    {
      "cell_type": "code",
      "source": [
        "y_pred_test2=model_tree.predict(X_test)"
      ],
      "metadata": {
        "id": "qHbSxxT1SrcQ"
      },
      "execution_count": 159,
      "outputs": []
    },
    {
      "cell_type": "code",
      "source": [
        "r2_score(y_test, y_pred_test2)"
      ],
      "metadata": {
        "colab": {
          "base_uri": "https://localhost:8080/"
        },
        "id": "seNs78uQSuDA",
        "outputId": "72c0b6fd-4b2b-4f4e-806d-181c57e8b48e"
      },
      "execution_count": 160,
      "outputs": [
        {
          "output_type": "execute_result",
          "data": {
            "text/plain": [
              "0.7877792652596168"
            ]
          },
          "metadata": {},
          "execution_count": 160
        }
      ]
    },
    {
      "cell_type": "markdown",
      "source": [
        "#Walidacja krzyżowa"
      ],
      "metadata": {
        "id": "iDPA_LYAUCPY"
      }
    },
    {
      "cell_type": "code",
      "source": [
        "from sklearn.model_selection import cross_val_score"
      ],
      "metadata": {
        "id": "3XU1RcfaUD62"
      },
      "execution_count": 165,
      "outputs": []
    },
    {
      "cell_type": "code",
      "source": [
        "lin_model=LinearRegression()\n",
        "scores=cross_val_score(lin_model, X, y, cv=10)"
      ],
      "metadata": {
        "id": "nGmus3v6UJQ4"
      },
      "execution_count": 166,
      "outputs": []
    },
    {
      "cell_type": "code",
      "source": [
        "scores"
      ],
      "metadata": {
        "colab": {
          "base_uri": "https://localhost:8080/"
        },
        "id": "e3ahp-tsULqa",
        "outputId": "e2d44262-e39c-4f28-fb85-0eb1ec9857fc"
      },
      "execution_count": 167,
      "outputs": [
        {
          "output_type": "execute_result",
          "data": {
            "text/plain": [
              "array([0.77443018, 0.80508404, 0.7340406 , 0.757891  , 0.86526949,\n",
              "       0.74814475, 0.78223059, 0.62407324, 0.82663647, 0.77088649])"
            ]
          },
          "metadata": {},
          "execution_count": 167
        }
      ]
    }
  ]
}